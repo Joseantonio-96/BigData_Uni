{
  "nbformat": 4,
  "nbformat_minor": 0,
  "metadata": {
    "kernelspec": {
      "display_name": "Python 3",
      "language": "python",
      "name": "python3"
    },
    "language_info": {
      "codemirror_mode": {
        "name": "ipython",
        "version": 3
      },
      "file_extension": ".py",
      "mimetype": "text/x-python",
      "name": "python",
      "nbconvert_exporter": "python",
      "pygments_lexer": "ipython3",
      "version": "3.7.3"
    },
    "colab": {
      "name": "JijonVorbeck_Lab_1_Pytorch_Log_Regression.ipynb",
      "provenance": [],
      "collapsed_sections": []
    }
  },
  "cells": [
    {
      "cell_type": "markdown",
      "metadata": {
        "id": "vJ-eG25Gk6Cn"
      },
      "source": [
        "# Lab 1: Logistic Regression with Pytorch\n",
        "\n",
        "\n",
        "------------------------------------------------------\n",
        "*Deep Learning. Master in Big Data Analytics*\n",
        "\n",
        "*Pablo M. Olmos pamartin@ing.uc3m.es*\n",
        "\n",
        "------------------------------------------------------\n",
        "\n",
        "\n",
        "In this first lab of the course, you will learn basic aspects about how to use [Pytorch](https://pytorch.org/) to train a logistic regressor in a binary classification problem. \n",
        "\n",
        "Pytorch is a powerful library to address Machine Learning problems in general, and deep learning problems in particular, as it provides with automatic differentiation tools. Namely, in our programs we will define functions $f_{\\mathbf{w}}(x)$ of given input data $x$ and some parameters $\\mathbf{w}$ to be optimized, and we will use Pytorch's [autograd package](https://pytorch.org/docs/stable/autograd.html) to automatically compute $\\nabla_{\\mathbf{w}} f_{\\mathbf{w}}(x)$, and then use the gradient into a Stochastic Gradient Descent (SGD) routine.\n",
        "\n",
        "But lets go step by step. First of all, we will load some database and perform some pre-processing. To do so, we will use the **[Python Data Analysis Library](https://pandas.pydata.org/)** (a.k.a. pandas). You can find in Aula Global a notebook with a gentle introduction to Pandas.\n"
      ]
    },
    {
      "cell_type": "code",
      "metadata": {
        "id": "rAOCFV5-k6Cq"
      },
      "source": [
        "import pandas as pd # pd is simply an alias \n",
        "import numpy as np\n",
        "import matplotlib.pyplot as plt\n",
        "\n",
        "%matplotlib inline \n",
        "%config InlineBackend.figure_format = 'retina' #High quality figures"
      ],
      "execution_count": 1,
      "outputs": []
    },
    {
      "cell_type": "markdown",
      "metadata": {
        "id": "fSvdOcOpk6Cr"
      },
      "source": [
        "## Part I. Pre-processing a real dataset\n",
        "\n",
        "The [Breast Cancer Wisconsin (Diagnostic) Data Set](https://archive.ics.uci.edu/ml/datasets/Breast+Cancer+Wisconsin+(Diagnostic)) contains 10 features related to breast tumors that have been diagnosed as benign or malignant. You have a description of the 10 features in the link above. In the same link you can download the data set as a CVS file. \n",
        "\n",
        "We will import it directly using the following class"
      ]
    },
    {
      "cell_type": "code",
      "metadata": {
        "id": "I6-2o5DDk6Cs"
      },
      "source": [
        "def load_spam():\n",
        "    data = pd.read_csv('https://archive.ics.uci.edu/ml/machine-learning-databases/breast-cancer-wisconsin/breast-cancer-wisconsin.data',header=None)\n",
        "    data.columns=['ID', 'Clump Thickness', 'Uniformity of Cell Size',\n",
        "       'Uniformity of Cell Shape', 'Marginal Adhesion',\n",
        "       'Single Epithelial Cell Size', 'Bare Nuclei', 'Bland Chromatin',\n",
        "       'Normal Nucleoli', 'Mitoses', 'Class']\n",
        "    return data"
      ],
      "execution_count": 2,
      "outputs": []
    },
    {
      "cell_type": "code",
      "metadata": {
        "id": "BQUBeaA5k6Ct"
      },
      "source": [
        "''' Data is stored in a Dataframe, a particular data type implemented in Pandas'''\n",
        "\n",
        "data = load_spam()\n"
      ],
      "execution_count": 3,
      "outputs": []
    },
    {
      "cell_type": "markdown",
      "metadata": {
        "id": "dqXFkwSZk6Ct"
      },
      "source": [
        "Lets visualize the first 10 entries of the database with the `.head()` method"
      ]
    },
    {
      "cell_type": "code",
      "metadata": {
        "colab": {
          "base_uri": "https://localhost:8080/",
          "height": 376
        },
        "id": "znkJONdPk6Ct",
        "outputId": "9cfabb35-e433-43d4-e62d-a8b3e1a9605b"
      },
      "source": [
        "data.head(10)"
      ],
      "execution_count": 4,
      "outputs": [
        {
          "output_type": "execute_result",
          "data": {
            "text/html": [
              "<div>\n",
              "<style scoped>\n",
              "    .dataframe tbody tr th:only-of-type {\n",
              "        vertical-align: middle;\n",
              "    }\n",
              "\n",
              "    .dataframe tbody tr th {\n",
              "        vertical-align: top;\n",
              "    }\n",
              "\n",
              "    .dataframe thead th {\n",
              "        text-align: right;\n",
              "    }\n",
              "</style>\n",
              "<table border=\"1\" class=\"dataframe\">\n",
              "  <thead>\n",
              "    <tr style=\"text-align: right;\">\n",
              "      <th></th>\n",
              "      <th>ID</th>\n",
              "      <th>Clump Thickness</th>\n",
              "      <th>Uniformity of Cell Size</th>\n",
              "      <th>Uniformity of Cell Shape</th>\n",
              "      <th>Marginal Adhesion</th>\n",
              "      <th>Single Epithelial Cell Size</th>\n",
              "      <th>Bare Nuclei</th>\n",
              "      <th>Bland Chromatin</th>\n",
              "      <th>Normal Nucleoli</th>\n",
              "      <th>Mitoses</th>\n",
              "      <th>Class</th>\n",
              "    </tr>\n",
              "  </thead>\n",
              "  <tbody>\n",
              "    <tr>\n",
              "      <th>0</th>\n",
              "      <td>1000025</td>\n",
              "      <td>5</td>\n",
              "      <td>1</td>\n",
              "      <td>1</td>\n",
              "      <td>1</td>\n",
              "      <td>2</td>\n",
              "      <td>1</td>\n",
              "      <td>3</td>\n",
              "      <td>1</td>\n",
              "      <td>1</td>\n",
              "      <td>2</td>\n",
              "    </tr>\n",
              "    <tr>\n",
              "      <th>1</th>\n",
              "      <td>1002945</td>\n",
              "      <td>5</td>\n",
              "      <td>4</td>\n",
              "      <td>4</td>\n",
              "      <td>5</td>\n",
              "      <td>7</td>\n",
              "      <td>10</td>\n",
              "      <td>3</td>\n",
              "      <td>2</td>\n",
              "      <td>1</td>\n",
              "      <td>2</td>\n",
              "    </tr>\n",
              "    <tr>\n",
              "      <th>2</th>\n",
              "      <td>1015425</td>\n",
              "      <td>3</td>\n",
              "      <td>1</td>\n",
              "      <td>1</td>\n",
              "      <td>1</td>\n",
              "      <td>2</td>\n",
              "      <td>2</td>\n",
              "      <td>3</td>\n",
              "      <td>1</td>\n",
              "      <td>1</td>\n",
              "      <td>2</td>\n",
              "    </tr>\n",
              "    <tr>\n",
              "      <th>3</th>\n",
              "      <td>1016277</td>\n",
              "      <td>6</td>\n",
              "      <td>8</td>\n",
              "      <td>8</td>\n",
              "      <td>1</td>\n",
              "      <td>3</td>\n",
              "      <td>4</td>\n",
              "      <td>3</td>\n",
              "      <td>7</td>\n",
              "      <td>1</td>\n",
              "      <td>2</td>\n",
              "    </tr>\n",
              "    <tr>\n",
              "      <th>4</th>\n",
              "      <td>1017023</td>\n",
              "      <td>4</td>\n",
              "      <td>1</td>\n",
              "      <td>1</td>\n",
              "      <td>3</td>\n",
              "      <td>2</td>\n",
              "      <td>1</td>\n",
              "      <td>3</td>\n",
              "      <td>1</td>\n",
              "      <td>1</td>\n",
              "      <td>2</td>\n",
              "    </tr>\n",
              "    <tr>\n",
              "      <th>5</th>\n",
              "      <td>1017122</td>\n",
              "      <td>8</td>\n",
              "      <td>10</td>\n",
              "      <td>10</td>\n",
              "      <td>8</td>\n",
              "      <td>7</td>\n",
              "      <td>10</td>\n",
              "      <td>9</td>\n",
              "      <td>7</td>\n",
              "      <td>1</td>\n",
              "      <td>4</td>\n",
              "    </tr>\n",
              "    <tr>\n",
              "      <th>6</th>\n",
              "      <td>1018099</td>\n",
              "      <td>1</td>\n",
              "      <td>1</td>\n",
              "      <td>1</td>\n",
              "      <td>1</td>\n",
              "      <td>2</td>\n",
              "      <td>10</td>\n",
              "      <td>3</td>\n",
              "      <td>1</td>\n",
              "      <td>1</td>\n",
              "      <td>2</td>\n",
              "    </tr>\n",
              "    <tr>\n",
              "      <th>7</th>\n",
              "      <td>1018561</td>\n",
              "      <td>2</td>\n",
              "      <td>1</td>\n",
              "      <td>2</td>\n",
              "      <td>1</td>\n",
              "      <td>2</td>\n",
              "      <td>1</td>\n",
              "      <td>3</td>\n",
              "      <td>1</td>\n",
              "      <td>1</td>\n",
              "      <td>2</td>\n",
              "    </tr>\n",
              "    <tr>\n",
              "      <th>8</th>\n",
              "      <td>1033078</td>\n",
              "      <td>2</td>\n",
              "      <td>1</td>\n",
              "      <td>1</td>\n",
              "      <td>1</td>\n",
              "      <td>2</td>\n",
              "      <td>1</td>\n",
              "      <td>1</td>\n",
              "      <td>1</td>\n",
              "      <td>5</td>\n",
              "      <td>2</td>\n",
              "    </tr>\n",
              "    <tr>\n",
              "      <th>9</th>\n",
              "      <td>1033078</td>\n",
              "      <td>4</td>\n",
              "      <td>2</td>\n",
              "      <td>1</td>\n",
              "      <td>1</td>\n",
              "      <td>2</td>\n",
              "      <td>1</td>\n",
              "      <td>2</td>\n",
              "      <td>1</td>\n",
              "      <td>1</td>\n",
              "      <td>2</td>\n",
              "    </tr>\n",
              "  </tbody>\n",
              "</table>\n",
              "</div>"
            ],
            "text/plain": [
              "        ID  Clump Thickness  ...  Mitoses  Class\n",
              "0  1000025                5  ...        1      2\n",
              "1  1002945                5  ...        1      2\n",
              "2  1015425                3  ...        1      2\n",
              "3  1016277                6  ...        1      2\n",
              "4  1017023                4  ...        1      2\n",
              "5  1017122                8  ...        1      4\n",
              "6  1018099                1  ...        1      2\n",
              "7  1018561                2  ...        1      2\n",
              "8  1033078                2  ...        5      2\n",
              "9  1033078                4  ...        1      2\n",
              "\n",
              "[10 rows x 11 columns]"
            ]
          },
          "metadata": {
            "tags": []
          },
          "execution_count": 4
        }
      ]
    },
    {
      "cell_type": "markdown",
      "metadata": {
        "id": "rIWvEKd6k6Cu"
      },
      "source": [
        "With the `.shape()` method we can check how many datapoints we have"
      ]
    },
    {
      "cell_type": "code",
      "metadata": {
        "colab": {
          "base_uri": "https://localhost:8080/"
        },
        "id": "422zUuvMk6Cu",
        "outputId": "dc4550a8-d3ab-4ab4-adfc-abfdf3c10c7f"
      },
      "source": [
        "print('There are %d data points. Each one of dimension %d' %(data.shape[0],data.shape[1]))"
      ],
      "execution_count": 5,
      "outputs": [
        {
          "output_type": "stream",
          "text": [
            "There are 699 data points. Each one of dimension 11\n"
          ],
          "name": "stdout"
        }
      ]
    },
    {
      "cell_type": "markdown",
      "metadata": {
        "id": "JlYNltQwk6Cu"
      },
      "source": [
        "We will do the following preprocessing steps. All of them are implemented in Pandas (it is advisory for very large databases):\n",
        "\n",
        "- Remove the 'ID' column. We won't use it anymore\n",
        "\n",
        "- Analyze missing data (Encoded in this database with a '?' by the column mode). \n",
        "\n",
        "- The tumor class is equal to 2 for bening tumors and to 4 for malignat tumors. We will replace this by 0 and 1 respectively\n",
        "\n",
        "- Create a train set and a test set\n",
        "\n",
        "- We will normalize all input variables so they all have zero mean and unit variance"
      ]
    },
    {
      "cell_type": "markdown",
      "metadata": {
        "id": "L7l9i5h_k6Cv"
      },
      "source": [
        "### Remove ID colum\n",
        "\n",
        "We can use the `.drop()` method. We use the input `inplace=True` to override the existing Dataframe."
      ]
    },
    {
      "cell_type": "code",
      "metadata": {
        "id": "G7ognghxk6Cv"
      },
      "source": [
        "data.drop('ID',axis=1,inplace=True)"
      ],
      "execution_count": 6,
      "outputs": []
    },
    {
      "cell_type": "code",
      "metadata": {
        "colab": {
          "base_uri": "https://localhost:8080/",
          "height": 376
        },
        "id": "F4nxmAPrk6Cv",
        "outputId": "fe925ac1-3448-41d8-9119-8aaf1acb5bf2"
      },
      "source": [
        "# Lets check the result\n",
        "\n",
        "data.head(10)"
      ],
      "execution_count": 7,
      "outputs": [
        {
          "output_type": "execute_result",
          "data": {
            "text/html": [
              "<div>\n",
              "<style scoped>\n",
              "    .dataframe tbody tr th:only-of-type {\n",
              "        vertical-align: middle;\n",
              "    }\n",
              "\n",
              "    .dataframe tbody tr th {\n",
              "        vertical-align: top;\n",
              "    }\n",
              "\n",
              "    .dataframe thead th {\n",
              "        text-align: right;\n",
              "    }\n",
              "</style>\n",
              "<table border=\"1\" class=\"dataframe\">\n",
              "  <thead>\n",
              "    <tr style=\"text-align: right;\">\n",
              "      <th></th>\n",
              "      <th>Clump Thickness</th>\n",
              "      <th>Uniformity of Cell Size</th>\n",
              "      <th>Uniformity of Cell Shape</th>\n",
              "      <th>Marginal Adhesion</th>\n",
              "      <th>Single Epithelial Cell Size</th>\n",
              "      <th>Bare Nuclei</th>\n",
              "      <th>Bland Chromatin</th>\n",
              "      <th>Normal Nucleoli</th>\n",
              "      <th>Mitoses</th>\n",
              "      <th>Class</th>\n",
              "    </tr>\n",
              "  </thead>\n",
              "  <tbody>\n",
              "    <tr>\n",
              "      <th>0</th>\n",
              "      <td>5</td>\n",
              "      <td>1</td>\n",
              "      <td>1</td>\n",
              "      <td>1</td>\n",
              "      <td>2</td>\n",
              "      <td>1</td>\n",
              "      <td>3</td>\n",
              "      <td>1</td>\n",
              "      <td>1</td>\n",
              "      <td>2</td>\n",
              "    </tr>\n",
              "    <tr>\n",
              "      <th>1</th>\n",
              "      <td>5</td>\n",
              "      <td>4</td>\n",
              "      <td>4</td>\n",
              "      <td>5</td>\n",
              "      <td>7</td>\n",
              "      <td>10</td>\n",
              "      <td>3</td>\n",
              "      <td>2</td>\n",
              "      <td>1</td>\n",
              "      <td>2</td>\n",
              "    </tr>\n",
              "    <tr>\n",
              "      <th>2</th>\n",
              "      <td>3</td>\n",
              "      <td>1</td>\n",
              "      <td>1</td>\n",
              "      <td>1</td>\n",
              "      <td>2</td>\n",
              "      <td>2</td>\n",
              "      <td>3</td>\n",
              "      <td>1</td>\n",
              "      <td>1</td>\n",
              "      <td>2</td>\n",
              "    </tr>\n",
              "    <tr>\n",
              "      <th>3</th>\n",
              "      <td>6</td>\n",
              "      <td>8</td>\n",
              "      <td>8</td>\n",
              "      <td>1</td>\n",
              "      <td>3</td>\n",
              "      <td>4</td>\n",
              "      <td>3</td>\n",
              "      <td>7</td>\n",
              "      <td>1</td>\n",
              "      <td>2</td>\n",
              "    </tr>\n",
              "    <tr>\n",
              "      <th>4</th>\n",
              "      <td>4</td>\n",
              "      <td>1</td>\n",
              "      <td>1</td>\n",
              "      <td>3</td>\n",
              "      <td>2</td>\n",
              "      <td>1</td>\n",
              "      <td>3</td>\n",
              "      <td>1</td>\n",
              "      <td>1</td>\n",
              "      <td>2</td>\n",
              "    </tr>\n",
              "    <tr>\n",
              "      <th>5</th>\n",
              "      <td>8</td>\n",
              "      <td>10</td>\n",
              "      <td>10</td>\n",
              "      <td>8</td>\n",
              "      <td>7</td>\n",
              "      <td>10</td>\n",
              "      <td>9</td>\n",
              "      <td>7</td>\n",
              "      <td>1</td>\n",
              "      <td>4</td>\n",
              "    </tr>\n",
              "    <tr>\n",
              "      <th>6</th>\n",
              "      <td>1</td>\n",
              "      <td>1</td>\n",
              "      <td>1</td>\n",
              "      <td>1</td>\n",
              "      <td>2</td>\n",
              "      <td>10</td>\n",
              "      <td>3</td>\n",
              "      <td>1</td>\n",
              "      <td>1</td>\n",
              "      <td>2</td>\n",
              "    </tr>\n",
              "    <tr>\n",
              "      <th>7</th>\n",
              "      <td>2</td>\n",
              "      <td>1</td>\n",
              "      <td>2</td>\n",
              "      <td>1</td>\n",
              "      <td>2</td>\n",
              "      <td>1</td>\n",
              "      <td>3</td>\n",
              "      <td>1</td>\n",
              "      <td>1</td>\n",
              "      <td>2</td>\n",
              "    </tr>\n",
              "    <tr>\n",
              "      <th>8</th>\n",
              "      <td>2</td>\n",
              "      <td>1</td>\n",
              "      <td>1</td>\n",
              "      <td>1</td>\n",
              "      <td>2</td>\n",
              "      <td>1</td>\n",
              "      <td>1</td>\n",
              "      <td>1</td>\n",
              "      <td>5</td>\n",
              "      <td>2</td>\n",
              "    </tr>\n",
              "    <tr>\n",
              "      <th>9</th>\n",
              "      <td>4</td>\n",
              "      <td>2</td>\n",
              "      <td>1</td>\n",
              "      <td>1</td>\n",
              "      <td>2</td>\n",
              "      <td>1</td>\n",
              "      <td>2</td>\n",
              "      <td>1</td>\n",
              "      <td>1</td>\n",
              "      <td>2</td>\n",
              "    </tr>\n",
              "  </tbody>\n",
              "</table>\n",
              "</div>"
            ],
            "text/plain": [
              "   Clump Thickness  Uniformity of Cell Size  ...  Mitoses  Class\n",
              "0                5                        1  ...        1      2\n",
              "1                5                        4  ...        1      2\n",
              "2                3                        1  ...        1      2\n",
              "3                6                        8  ...        1      2\n",
              "4                4                        1  ...        1      2\n",
              "5                8                       10  ...        1      4\n",
              "6                1                        1  ...        1      2\n",
              "7                2                        1  ...        1      2\n",
              "8                2                        1  ...        5      2\n",
              "9                4                        2  ...        1      2\n",
              "\n",
              "[10 rows x 10 columns]"
            ]
          },
          "metadata": {
            "tags": []
          },
          "execution_count": 7
        }
      ]
    },
    {
      "cell_type": "markdown",
      "metadata": {
        "id": "bAzW_gJlk6Cv"
      },
      "source": [
        "### About missing data\n",
        "\n",
        "Pandas considers values like `NaN` and `None` to represent missing data. The `pandas.isnull` function can be used to tell whether or not a value is missing. \n",
        "\n",
        "Let's use `apply()` across all of the columns in our DataFrame to figure out which values are missing. But first we  change the `?` missing codification by `NaN`."
      ]
    },
    {
      "cell_type": "code",
      "metadata": {
        "id": "njTrYftDk6Cw"
      },
      "source": [
        "data.replace('?', np.nan,inplace=True)"
      ],
      "execution_count": 8,
      "outputs": []
    },
    {
      "cell_type": "code",
      "metadata": {
        "id": "-wLyz1gzk6Cx"
      },
      "source": [
        "empty = data.apply(lambda col: pd.isnull(col))"
      ],
      "execution_count": 9,
      "outputs": []
    },
    {
      "cell_type": "code",
      "metadata": {
        "colab": {
          "base_uri": "https://localhost:8080/"
        },
        "id": "HErsw_k-k6Cx",
        "outputId": "032fe576-3edc-43d9-9551-48bf6c1df2ec"
      },
      "source": [
        "empty.sum()"
      ],
      "execution_count": 10,
      "outputs": [
        {
          "output_type": "execute_result",
          "data": {
            "text/plain": [
              "Clump Thickness                 0\n",
              "Uniformity of Cell Size         0\n",
              "Uniformity of Cell Shape        0\n",
              "Marginal Adhesion               0\n",
              "Single Epithelial Cell Size     0\n",
              "Bare Nuclei                    16\n",
              "Bland Chromatin                 0\n",
              "Normal Nucleoli                 0\n",
              "Mitoses                         0\n",
              "Class                           0\n",
              "dtype: int64"
            ]
          },
          "metadata": {
            "tags": []
          },
          "execution_count": 10
        }
      ]
    },
    {
      "cell_type": "markdown",
      "metadata": {
        "id": "uk9HJHq7k6Cy"
      },
      "source": [
        "Observe that only one of the columns has 16 missing entries. For simplicity, let's remove this column. Be aware that in general we will impute missing data with some representative value. "
      ]
    },
    {
      "cell_type": "code",
      "metadata": {
        "id": "lZR629Wwk6Cy"
      },
      "source": [
        "data.drop('Bare Nuclei',axis=1,inplace=True)"
      ],
      "execution_count": 11,
      "outputs": []
    },
    {
      "cell_type": "code",
      "metadata": {
        "scrolled": true,
        "colab": {
          "base_uri": "https://localhost:8080/"
        },
        "id": "JRz_-dLzk6Cy",
        "outputId": "8aca6590-4ee9-4aa1-8518-554d14cf18fd"
      },
      "source": [
        "empty = data.apply(lambda col: pd.isnull(col))\n",
        "empty.sum()"
      ],
      "execution_count": 12,
      "outputs": [
        {
          "output_type": "execute_result",
          "data": {
            "text/plain": [
              "Clump Thickness                0\n",
              "Uniformity of Cell Size        0\n",
              "Uniformity of Cell Shape       0\n",
              "Marginal Adhesion              0\n",
              "Single Epithelial Cell Size    0\n",
              "Bland Chromatin                0\n",
              "Normal Nucleoli                0\n",
              "Mitoses                        0\n",
              "Class                          0\n",
              "dtype: int64"
            ]
          },
          "metadata": {
            "tags": []
          },
          "execution_count": 12
        }
      ]
    },
    {
      "cell_type": "markdown",
      "metadata": {
        "id": "jia_jLAak6Cy"
      },
      "source": [
        "### Create a binary class label\n",
        "\n",
        "To do so, we will create a simple function to convert the label and store the result in a new colum of the dataframe"
      ]
    },
    {
      "cell_type": "code",
      "metadata": {
        "id": "UOAWmugDk6Cz"
      },
      "source": [
        "def convert_to_binary(l):\n",
        "    return (l-2.0)/2"
      ],
      "execution_count": 13,
      "outputs": []
    },
    {
      "cell_type": "code",
      "metadata": {
        "id": "g3W_cIrSk6Cz"
      },
      "source": [
        "# We create the new column\n",
        "\n",
        "data['Binary Class'] = data[['Class']].apply(lambda l: convert_to_binary(l))\n",
        "\n",
        "data.drop('Class',axis=1,inplace=True)"
      ],
      "execution_count": 14,
      "outputs": []
    },
    {
      "cell_type": "markdown",
      "metadata": {
        "id": "ej2zn36sk6Cz"
      },
      "source": [
        "Lets take a look to the histogram of the binary class label"
      ]
    },
    {
      "cell_type": "code",
      "metadata": {
        "colab": {
          "base_uri": "https://localhost:8080/",
          "height": 282
        },
        "id": "u1VePAdDk6Cz",
        "outputId": "0df7ffe1-f0c4-4c86-c2f0-c4b889da0e30"
      },
      "source": [
        "data['Binary Class'].hist()"
      ],
      "execution_count": 15,
      "outputs": [
        {
          "output_type": "execute_result",
          "data": {
            "text/plain": [
              "<matplotlib.axes._subplots.AxesSubplot at 0x7f60d1785400>"
            ]
          },
          "metadata": {
            "tags": []
          },
          "execution_count": 15
        },
        {
          "output_type": "display_data",
          "data": {
            "image/png": "[encoded data removed]",
            "text/plain": [
              "<Figure size 432x288 with 1 Axes>"
            ]
          },
          "metadata": {
            "tags": [],
            "image/png": {
              "width": 375,
              "height": 248
            },
            "needs_background": "light"
          }
        }
      ]
    },
    {
      "cell_type": "markdown",
      "metadata": {
        "id": "BO4sdALBk6Cz"
      },
      "source": [
        "### Create a train and test sets\n",
        "\n",
        "We will simply split the dataset at random. 80% of the data will go to the training set, the rest to the test set. We will use [Numpy's random permutation function](https://docs.scipy.org/doc/numpy-1.15.0/reference/generated/numpy.random.permutation.html) and the `.iloc()` method. "
      ]
    },
    {
      "cell_type": "code",
      "metadata": {
        "id": "j_dw1xo0k6C0"
      },
      "source": [
        "frac_train = 0.8\n",
        "\n",
        "data_train = int(data.shape[0]*frac_train) # Training points\n",
        "\n",
        "np.random.seed(seed=10) #To fix the random seed. So we all get the same partition\n",
        "\n",
        "mask = np.random.permutation(data.shape[0]) # Random order of data indexes\n",
        "\n",
        "train_data = data.iloc[list(mask[:data_train])].copy()\n",
        "\n",
        "test_data = data.iloc[list(mask[data_train:])].copy()\n"
      ],
      "execution_count": 16,
      "outputs": []
    },
    {
      "cell_type": "markdown",
      "metadata": {
        "id": "6aTI20aPk6C0"
      },
      "source": [
        "Note that we store the train and test data in separate Dataframes, so we can normalize them without modifying the oringinal data (We could add more columns to the original Dataframe, but this would be later on annoying to index)."
      ]
    },
    {
      "cell_type": "markdown",
      "metadata": {
        "id": "AWhidYXJk6C0"
      },
      "source": [
        "Also, the train/test partition and normalization can also easily done using Numpy and the [sklearn library](https://scikit-learn.org/stable/). You will see this in the Machine Learning course."
      ]
    },
    {
      "cell_type": "markdown",
      "metadata": {
        "id": "zaeO-He7k6C0"
      },
      "source": [
        "### Normalize input variables \n",
        "\n",
        "In general, it is not recommended that input variables (or features) are defined in different ranges. I.e., $x_1$ for instance takes values in the $[-1,1]$ set and $x_2$ takes values in the $[-10^6,10^6]$ range. \n",
        "\n",
        "To improve both the numerical robustness of our estimators and **enhance interpretability**, we will apply a linear normalization preprocessing stage to use as input to the linear regression features with (sample) mean 0 and (sample) variance equal to 1. \n",
        "\n",
        "Given the unnormalized feature matrix $\\mathbf{X}_{N\\times D}$, we compute the sample mean per feature column, $\\mu_j$, and the sample variance per  feature column, $\\sigma^2_j$ for $j=1,\\ldots,D$. Then, each row of the normalized feature matrix $\\overline{\\mathbf{X}}_{N\\times D}$ is obtained as follows:\n",
        "\n",
        "$$\\overline{\\mathbf{x}}^{(i)}= \\left[\\frac{x_1^{(i)}-\\mu_1}{\\sqrt{\\sigma^2_1}}, ~~ \\frac{x_1^{(i)}-\\mu_2}{\\sqrt{\\sigma^2_2}}, \\ldots, \\frac{x_1^{(D)}-\\mu_1}{\\sqrt{\\sigma^2_D}}\\right]$$\n",
        "\n",
        "**Note this does not affect to the logistic regression solution**, we are simply re-scaling the parameter vector $\\boldsymbol{w}$. Using this scaling, we can now effectively compare the effect that each variable has in the logistic regression solution: **the larger $|w_j|$ is, the more effect the $j$-th feature has in the estimation of the class**.\n",
        "\n",
        "One important aspect is that the test set is normalized **using the train set statistics (mean and variance)**"
      ]
    },
    {
      "cell_type": "code",
      "metadata": {
        "id": "IHDtmAMLk6C1"
      },
      "source": [
        "means = train_data.mean()\n",
        "stds = train_data.std()"
      ],
      "execution_count": 17,
      "outputs": []
    },
    {
      "cell_type": "code",
      "metadata": {
        "colab": {
          "base_uri": "https://localhost:8080/"
        },
        "id": "KAWe_R4-k6C2",
        "outputId": "efb43663-4183-480d-d5df-e39c9053294b"
      },
      "source": [
        "for idx,column_name in enumerate(train_data.columns[:-1]):\n",
        "    print(column_name)\n",
        "    train_data[column_name] = (train_data[column_name]-means[idx])/(stds[idx])\n",
        "    test_data[column_name] = (test_data[column_name]-means[idx])/(stds[idx])"
      ],
      "execution_count": 18,
      "outputs": [
        {
          "output_type": "stream",
          "text": [
            "Clump Thickness\n",
            "Uniformity of Cell Size\n",
            "Uniformity of Cell Shape\n",
            "Marginal Adhesion\n",
            "Single Epithelial Cell Size\n",
            "Bland Chromatin\n",
            "Normal Nucleoli\n",
            "Mitoses\n"
          ],
          "name": "stdout"
        }
      ]
    },
    {
      "cell_type": "markdown",
      "metadata": {
        "id": "oUovtXbHk6C2"
      },
      "source": [
        "Lets take a look to the resulting dataframe"
      ]
    },
    {
      "cell_type": "code",
      "metadata": {
        "colab": {
          "base_uri": "https://localhost:8080/",
          "height": 376
        },
        "id": "9WNnqqO-k6C2",
        "outputId": "5343f6bd-8cb3-4f02-ff35-3c3f1a6e361d"
      },
      "source": [
        "train_data.head(10)"
      ],
      "execution_count": 19,
      "outputs": [
        {
          "output_type": "execute_result",
          "data": {
            "text/html": [
              "<div>\n",
              "<style scoped>\n",
              "    .dataframe tbody tr th:only-of-type {\n",
              "        vertical-align: middle;\n",
              "    }\n",
              "\n",
              "    .dataframe tbody tr th {\n",
              "        vertical-align: top;\n",
              "    }\n",
              "\n",
              "    .dataframe thead th {\n",
              "        text-align: right;\n",
              "    }\n",
              "</style>\n",
              "<table border=\"1\" class=\"dataframe\">\n",
              "  <thead>\n",
              "    <tr style=\"text-align: right;\">\n",
              "      <th></th>\n",
              "      <th>Clump Thickness</th>\n",
              "      <th>Uniformity of Cell Size</th>\n",
              "      <th>Uniformity of Cell Shape</th>\n",
              "      <th>Marginal Adhesion</th>\n",
              "      <th>Single Epithelial Cell Size</th>\n",
              "      <th>Bland Chromatin</th>\n",
              "      <th>Normal Nucleoli</th>\n",
              "      <th>Mitoses</th>\n",
              "      <th>Binary Class</th>\n",
              "    </tr>\n",
              "  </thead>\n",
              "  <tbody>\n",
              "    <tr>\n",
              "      <th>285</th>\n",
              "      <td>1.300525</td>\n",
              "      <td>2.285664</td>\n",
              "      <td>2.276496</td>\n",
              "      <td>2.455409</td>\n",
              "      <td>2.286331</td>\n",
              "      <td>2.658239</td>\n",
              "      <td>1.330666</td>\n",
              "      <td>0.867001</td>\n",
              "      <td>1.0</td>\n",
              "    </tr>\n",
              "    <tr>\n",
              "      <th>607</th>\n",
              "      <td>-1.212539</td>\n",
              "      <td>-0.700359</td>\n",
              "      <td>-0.747811</td>\n",
              "      <td>-0.642951</td>\n",
              "      <td>-0.552749</td>\n",
              "      <td>-1.010787</td>\n",
              "      <td>-0.608106</td>\n",
              "      <td>-0.338605</td>\n",
              "      <td>0.0</td>\n",
              "    </tr>\n",
              "    <tr>\n",
              "      <th>587</th>\n",
              "      <td>0.223498</td>\n",
              "      <td>-0.700359</td>\n",
              "      <td>-0.747811</td>\n",
              "      <td>-0.642951</td>\n",
              "      <td>-0.552749</td>\n",
              "      <td>-0.603117</td>\n",
              "      <td>-0.284977</td>\n",
              "      <td>-0.338605</td>\n",
              "      <td>0.0</td>\n",
              "    </tr>\n",
              "    <tr>\n",
              "      <th>458</th>\n",
              "      <td>0.223498</td>\n",
              "      <td>-0.700359</td>\n",
              "      <td>-0.411777</td>\n",
              "      <td>-0.642951</td>\n",
              "      <td>-0.552749</td>\n",
              "      <td>-1.010787</td>\n",
              "      <td>-0.608106</td>\n",
              "      <td>-0.338605</td>\n",
              "      <td>0.0</td>\n",
              "    </tr>\n",
              "    <tr>\n",
              "      <th>431</th>\n",
              "      <td>0.223498</td>\n",
              "      <td>-0.700359</td>\n",
              "      <td>-0.747811</td>\n",
              "      <td>0.045573</td>\n",
              "      <td>0.393611</td>\n",
              "      <td>-0.195448</td>\n",
              "      <td>-0.284977</td>\n",
              "      <td>-0.338605</td>\n",
              "      <td>0.0</td>\n",
              "    </tr>\n",
              "    <tr>\n",
              "      <th>52</th>\n",
              "      <td>2.018543</td>\n",
              "      <td>-0.036799</td>\n",
              "      <td>0.932359</td>\n",
              "      <td>-0.298689</td>\n",
              "      <td>-0.079569</td>\n",
              "      <td>0.212222</td>\n",
              "      <td>2.300052</td>\n",
              "      <td>0.264198</td>\n",
              "      <td>1.0</td>\n",
              "    </tr>\n",
              "    <tr>\n",
              "      <th>560</th>\n",
              "      <td>0.223498</td>\n",
              "      <td>-0.700359</td>\n",
              "      <td>-0.747811</td>\n",
              "      <td>-0.642951</td>\n",
              "      <td>-0.552749</td>\n",
              "      <td>-0.195448</td>\n",
              "      <td>-0.608106</td>\n",
              "      <td>-0.338605</td>\n",
              "      <td>0.0</td>\n",
              "    </tr>\n",
              "    <tr>\n",
              "      <th>445</th>\n",
              "      <td>-0.853530</td>\n",
              "      <td>-0.700359</td>\n",
              "      <td>-0.747811</td>\n",
              "      <td>-0.642951</td>\n",
              "      <td>-0.552749</td>\n",
              "      <td>-1.010787</td>\n",
              "      <td>-0.608106</td>\n",
              "      <td>-0.338605</td>\n",
              "      <td>0.0</td>\n",
              "    </tr>\n",
              "    <tr>\n",
              "      <th>292</th>\n",
              "      <td>1.300525</td>\n",
              "      <td>1.622103</td>\n",
              "      <td>1.604428</td>\n",
              "      <td>-0.642951</td>\n",
              "      <td>-0.552749</td>\n",
              "      <td>1.027561</td>\n",
              "      <td>2.300052</td>\n",
              "      <td>-0.338605</td>\n",
              "      <td>1.0</td>\n",
              "    </tr>\n",
              "    <tr>\n",
              "      <th>579</th>\n",
              "      <td>-1.212539</td>\n",
              "      <td>-0.700359</td>\n",
              "      <td>-0.747811</td>\n",
              "      <td>-0.642951</td>\n",
              "      <td>-0.552749</td>\n",
              "      <td>-0.195448</td>\n",
              "      <td>-0.608106</td>\n",
              "      <td>-0.338605</td>\n",
              "      <td>0.0</td>\n",
              "    </tr>\n",
              "  </tbody>\n",
              "</table>\n",
              "</div>"
            ],
            "text/plain": [
              "     Clump Thickness  Uniformity of Cell Size  ...   Mitoses  Binary Class\n",
              "285         1.300525                 2.285664  ...  0.867001           1.0\n",
              "607        -1.212539                -0.700359  ... -0.338605           0.0\n",
              "587         0.223498                -0.700359  ... -0.338605           0.0\n",
              "458         0.223498                -0.700359  ... -0.338605           0.0\n",
              "431         0.223498                -0.700359  ... -0.338605           0.0\n",
              "52          2.018543                -0.036799  ...  0.264198           1.0\n",
              "560         0.223498                -0.700359  ... -0.338605           0.0\n",
              "445        -0.853530                -0.700359  ... -0.338605           0.0\n",
              "292         1.300525                 1.622103  ... -0.338605           1.0\n",
              "579        -1.212539                -0.700359  ... -0.338605           0.0\n",
              "\n",
              "[10 rows x 9 columns]"
            ]
          },
          "metadata": {
            "tags": []
          },
          "execution_count": 19
        }
      ]
    },
    {
      "cell_type": "markdown",
      "metadata": {
        "id": "mSp2--9mk6C2"
      },
      "source": [
        "## Part II. Tensors in Pytorch\n",
        "\n",
        "\n",
        "Note: a big part of the following material is a personal wrap-up of [Facebook's Deep Learning Course in Udacity](https://www.udacity.com/course/deep-learning-pytorch--ud188). So all credit goes for them!!\n",
        "\n",
        "PyTorch in a lot of ways behaves like  Numpy arrays. PyTorch takes these tensors and makes it simple to move them to GPUs for the faster processing needed when training neural networks. It also provides a module that automatically calculates gradients and another module specifically for building neural networks. \n",
        "\n",
        "It turns out neural network computations are just a bunch of linear algebra operations on *tensors*, a generalization of matrices. A vector is a 1-dimensional tensor, a matrix is a 2-dimensional tensor, an array with three indices is a 3-dimensional tensor (RGB color images for example). The fundamental data structure for neural networks are tensors and PyTorch (as well as pretty much every other deep learning framework) is built around tensors.\n"
      ]
    },
    {
      "cell_type": "markdown",
      "metadata": {
        "id": "jG2SblEEk6C3"
      },
      "source": [
        "### Creating and manipulating tensors"
      ]
    },
    {
      "cell_type": "code",
      "metadata": {
        "id": "hCX7KFMXk6C3"
      },
      "source": [
        "# First, import PyTorch\n",
        "import torch"
      ],
      "execution_count": 20,
      "outputs": []
    },
    {
      "cell_type": "code",
      "metadata": {
        "colab": {
          "base_uri": "https://localhost:8080/",
          "height": 35
        },
        "id": "aNCysns-k6C3",
        "outputId": "6100cb53-067a-4e12-e7d2-42133e977580"
      },
      "source": [
        "# To check what torch version you're using\n",
        "\n",
        "torch.__version__"
      ],
      "execution_count": 21,
      "outputs": [
        {
          "output_type": "execute_result",
          "data": {
            "application/vnd.google.colaboratory.intrinsic+json": {
              "type": "string"
            },
            "text/plain": [
              "'1.7.0+cu101'"
            ]
          },
          "metadata": {
            "tags": []
          },
          "execution_count": 21
        }
      ]
    },
    {
      "cell_type": "markdown",
      "metadata": {
        "id": "jYc9rmWAk6C3"
      },
      "source": [
        "Lets create a function to manipulate torch tensors. Let's program our own logistic regressor\n",
        "\n",
        "$$f(\\mathbf{x}) = \\frac{1}{1+\\exp-(\\mathbf{w}^T\\mathbf{x}+w_0)}=\\sigma(\\cdot)$$\n",
        "\n",
        "where $\\mathbf{w}$ and $w_0$ (the bias or intercept) are initialized with Pytorch tensors containing random numbers drawn from a i.i.d. Normal Gaussian distribution. Also, to test the function, we will generate data points $\\mathbf{x}$ also as random tensors.\n",
        "\n",
        "#### First we define the sigmoid function $\\sigma(\\cdot)$"
      ]
    },
    {
      "cell_type": "code",
      "metadata": {
        "id": "8aRDlTk4k6C4"
      },
      "source": [
        "def sigmoid(x):\n",
        "    \"\"\" Sigmoid activation function \n",
        "    \n",
        "        Arguments\n",
        "        ---------\n",
        "        x: torch.Tensor\n",
        "    \"\"\"\n",
        "    return 1/(1+torch.exp(-x))"
      ],
      "execution_count": 22,
      "outputs": []
    },
    {
      "cell_type": "markdown",
      "metadata": {
        "id": "D3uyhBahk6C4"
      },
      "source": [
        "#### Now we generate the parameters $\\mathbf{w},w_0$ and one input vector (feature vector) $\\mathbf{x}$"
      ]
    },
    {
      "cell_type": "code",
      "metadata": {
        "id": "MT7qW4iyk6C4"
      },
      "source": [
        "torch.manual_seed(7) # Set the random seed so things are predictable\n",
        "\n",
        "# Features are 5 random normal variables\n",
        "feature_vector = torch.randn((1, 5))\n",
        "# True weights for our data, random normal variables again\n",
        "weights = torch.randn_like(feature_vector)\n",
        "# and a true bias term\n",
        "bias = torch.randn((1, 1))"
      ],
      "execution_count": 23,
      "outputs": []
    },
    {
      "cell_type": "markdown",
      "metadata": {
        "id": "KNATtWC6k6C4"
      },
      "source": [
        "Above we generated data we can use to get the output of our simple neural network. This is all just random for now, going forward we'll start using normal data. Going through each relevant line:\n",
        "\n",
        "`features = torch.randn((1, 5))` creates a tensor with shape `(1, 5)`, one row and five columns, that contains values randomly distributed according to the normal distribution with a mean of zero and standard deviation of one. \n",
        "\n",
        "`weights = torch.randn_like(features)` creates another tensor with the same shape as `features`, again containing values from a normal distribution.\n",
        "\n",
        "Finally, `bias = torch.randn((1, 1))` creates a single value from a normal distribution.\n",
        "\n",
        "PyTorch tensors can be added, multiplied, subtracted, etc, just like Numpy arrays. In general, you'll use PyTorch tensors pretty much the same way you'd use Numpy arrays.\n",
        "\n",
        "Just like in Numpy, you can check the values and dimensions of a tensor:\n"
      ]
    },
    {
      "cell_type": "code",
      "metadata": {
        "colab": {
          "base_uri": "https://localhost:8080/"
        },
        "id": "NuT0Uuwgk6C5",
        "outputId": "cf6f8279-a907-46e1-f3b8-e142696d7ea8"
      },
      "source": [
        "print(feature_vector)\n",
        "m,n = feature_vector.shape\n",
        "print(\"The dimensions are {0},{1}\".format(m,n))"
      ],
      "execution_count": 24,
      "outputs": [
        {
          "output_type": "stream",
          "text": [
            "tensor([[-0.1468,  0.7861,  0.9468, -1.1143,  1.6908]])\n",
            "The dimensions are 1,5\n"
          ],
          "name": "stdout"
        }
      ]
    },
    {
      "cell_type": "markdown",
      "metadata": {
        "id": "qvIbp-Cpk6C5"
      },
      "source": [
        "> **Exercise**: Using the `sigmoid()` function, calculate the output a binary logistic regressor with input feature vector `feature_vector`, weights `weights`, and bias `bias`. You can use `*` for Tensor elemenwise product and the function  [`torch.sum()`](https://pytorch.org/docs/stable/torch.html#torch.sum) to sum all the elements of a tensor in a certain dimension. "
      ]
    },
    {
      "cell_type": "code",
      "metadata": {
        "colab": {
          "base_uri": "https://localhost:8080/"
        },
        "id": "R0l6VU7tk6C5",
        "outputId": "aae2a3c9-f994-4635-b002-b5a451fd9620"
      },
      "source": [
        "### YOUR CODE HERE\n",
        "print(f'The answer of the sigmoid function with the given values is: {sigmoid(torch.sum(weights*feature_vector)+bias)[0][0]}')"
      ],
      "execution_count": 25,
      "outputs": [
        {
          "output_type": "stream",
          "text": [
            "The answer of the sigmoid function with the given values is: 0.15950655937194824\n"
          ],
          "name": "stdout"
        }
      ]
    },
    {
      "cell_type": "markdown",
      "metadata": {
        "id": "Dd8nxfUzk6C6"
      },
      "source": [
        "#### Do the same but using matrix multiplication with `torch.mm()`\n",
        "\n",
        "\n",
        "You can do the multiplication and sum in the same operation using a matrix multiplication. In general, you'll want to use matrix multiplications since they are more efficient and accelerated using modern libraries and high-performance computing on GPUs.  For this we can use [`torch.mm()`](https://pytorch.org/docs/stable/torch.html#torch.mm) or [`torch.matmul()`](https://pytorch.org/docs/stable/torch.html#torch.matmul) which is somewhat more complicated and supports broadcasting.\n",
        "\n",
        "First, check the dimension of `feature_vector` and `weights` using the method `.shape`"
      ]
    },
    {
      "cell_type": "code",
      "metadata": {
        "colab": {
          "base_uri": "https://localhost:8080/"
        },
        "id": "r6i8kUf5k6C6",
        "outputId": "f72b80a3-fd4c-44dc-b678-0c4fffe3cc1b"
      },
      "source": [
        "print(feature_vector.shape)\n",
        "print(weights.shape)"
      ],
      "execution_count": 26,
      "outputs": [
        {
          "output_type": "stream",
          "text": [
            "torch.Size([1, 5])\n",
            "torch.Size([1, 5])\n"
          ],
          "name": "stdout"
        }
      ]
    },
    {
      "cell_type": "markdown",
      "metadata": {
        "id": "s17ApzwGk6C6"
      },
      "source": [
        "See what comes if you try to directly multiply both tensors"
      ]
    },
    {
      "cell_type": "code",
      "metadata": {
        "id": "jmT22QLYk6C7"
      },
      "source": [
        "#torch.mm(feature_vector,weights)"
      ],
      "execution_count": 27,
      "outputs": []
    },
    {
      "cell_type": "markdown",
      "metadata": {
        "id": "BoSz_bBSk6C7"
      },
      "source": [
        "What's happening here is our tensors aren't the correct shapes to perform a matrix multiplication. There are a few options here: [`weights.reshape()`](https://pytorch.org/docs/stable/tensors.html#torch.Tensor.reshape), and [`weights.view()`](https://pytorch.org/docs/stable/tensors.html#torch.Tensor.view).\n",
        "\n",
        "* `weights.reshape(a, b)` will return a new tensor with the same data as `weights` with size `(a, b)` sometimes, and sometimes a clone, as in it copies the data to another part of memory.\n",
        "* `weights.view(a, b)` will return a new tensor with the same data as `weights` with size `(a, b)`.\n",
        "\n",
        "Any of the two methods will work for this. So, now we can reshape `weights` to have five rows and one column with something like `weights.view(5, 1)`.\n",
        "\n",
        "\n",
        "> **Exercise**: Calculate the output of the logistic regressor using matrix multiplication."
      ]
    },
    {
      "cell_type": "code",
      "metadata": {
        "id": "yWZeY_GBk6C7"
      },
      "source": [
        "# YOUR CODE HERE\n",
        "# using the function torch.matmul() for matrix multiplications:\n",
        "\n",
        "y = sigmoid(torch.matmul(feature_vector,weights.reshape(5,1))+bias)"
      ],
      "execution_count": 28,
      "outputs": []
    },
    {
      "cell_type": "code",
      "metadata": {
        "colab": {
          "base_uri": "https://localhost:8080/"
        },
        "id": "1VfQQKI8k6C7",
        "outputId": "4b152354-f5d1-4109-c843-1270eb719cc4"
      },
      "source": [
        "print(\"The ouput of the LR is {0}\".format(y[0][0])) \n",
        "# we see that we get the same result for both cases"
      ],
      "execution_count": 29,
      "outputs": [
        {
          "output_type": "stream",
          "text": [
            "The ouput of the LR is 0.15950657427310944\n"
          ],
          "name": "stdout"
        }
      ]
    },
    {
      "cell_type": "markdown",
      "metadata": {
        "id": "3oD96-5qk6C8"
      },
      "source": [
        "### Numpy to Torch and back\n",
        "\n",
        "PyTorch has a feature for converting between Numpy arrays and Torch tensors. To create a tensor from a Numpy array, use `torch.from_numpy()`. To convert a tensor to a Numpy array, use the `.numpy()` method."
      ]
    },
    {
      "cell_type": "code",
      "metadata": {
        "colab": {
          "base_uri": "https://localhost:8080/"
        },
        "id": "4YXQ4MCyk6C8",
        "outputId": "c4419be8-d5dc-4455-e806-009ab33c3a8f"
      },
      "source": [
        "a = np.random.rand(4,3)\n",
        "a"
      ],
      "execution_count": 30,
      "outputs": [
        {
          "output_type": "execute_result",
          "data": {
            "text/plain": [
              "array([[0.29507589, 0.18333855, 0.01973246],\n",
              "       [0.74332123, 0.0382934 , 0.43367967],\n",
              "       [0.83208476, 0.01345856, 0.50933539],\n",
              "       [0.4795487 , 0.02965494, 0.01142853]])"
            ]
          },
          "metadata": {
            "tags": []
          },
          "execution_count": 30
        }
      ]
    },
    {
      "cell_type": "code",
      "metadata": {
        "colab": {
          "base_uri": "https://localhost:8080/"
        },
        "id": "skK_71k0k6C8",
        "outputId": "f166dc6e-d363-4333-ac11-fef791242249"
      },
      "source": [
        "b = torch.from_numpy(a)\n",
        "b"
      ],
      "execution_count": 31,
      "outputs": [
        {
          "output_type": "execute_result",
          "data": {
            "text/plain": [
              "tensor([[0.2951, 0.1833, 0.0197],\n",
              "        [0.7433, 0.0383, 0.4337],\n",
              "        [0.8321, 0.0135, 0.5093],\n",
              "        [0.4795, 0.0297, 0.0114]], dtype=torch.float64)"
            ]
          },
          "metadata": {
            "tags": []
          },
          "execution_count": 31
        }
      ]
    },
    {
      "cell_type": "code",
      "metadata": {
        "colab": {
          "base_uri": "https://localhost:8080/"
        },
        "id": "_IxUxkwSk6C9",
        "outputId": "17aae6f3-0e68-4758-9b20-f03a708202fa"
      },
      "source": [
        "b.numpy()"
      ],
      "execution_count": 32,
      "outputs": [
        {
          "output_type": "execute_result",
          "data": {
            "text/plain": [
              "array([[0.29507589, 0.18333855, 0.01973246],\n",
              "       [0.74332123, 0.0382934 , 0.43367967],\n",
              "       [0.83208476, 0.01345856, 0.50933539],\n",
              "       [0.4795487 , 0.02965494, 0.01142853]])"
            ]
          },
          "metadata": {
            "tags": []
          },
          "execution_count": 32
        }
      ]
    },
    {
      "cell_type": "markdown",
      "metadata": {
        "id": "R6Z1jNask6C9"
      },
      "source": [
        "The **memory is shared between the Numpy array and Torch tensor**, so if you change the values in-place of one object, the other will change as well."
      ]
    },
    {
      "cell_type": "code",
      "metadata": {
        "colab": {
          "base_uri": "https://localhost:8080/"
        },
        "id": "XkEWTRPBk6C9",
        "outputId": "b89986c4-f823-4a6d-b6e6-6de706426bee"
      },
      "source": [
        "# Multiply PyTorch Tensor by 2, in place (Note the _)\n",
        "b.mul_(2)"
      ],
      "execution_count": 33,
      "outputs": [
        {
          "output_type": "execute_result",
          "data": {
            "text/plain": [
              "tensor([[0.5902, 0.3667, 0.0395],\n",
              "        [1.4866, 0.0766, 0.8674],\n",
              "        [1.6642, 0.0269, 1.0187],\n",
              "        [0.9591, 0.0593, 0.0229]], dtype=torch.float64)"
            ]
          },
          "metadata": {
            "tags": []
          },
          "execution_count": 33
        }
      ]
    },
    {
      "cell_type": "code",
      "metadata": {
        "colab": {
          "base_uri": "https://localhost:8080/"
        },
        "id": "rFzVo9umk6C9",
        "outputId": "5b6bb5bd-a4be-4643-e0db-bccf73b495ef"
      },
      "source": [
        "# Numpy array matches new values from Tensor\n",
        "a"
      ],
      "execution_count": 34,
      "outputs": [
        {
          "output_type": "execute_result",
          "data": {
            "text/plain": [
              "array([[0.59015179, 0.3666771 , 0.03946492],\n",
              "       [1.48664246, 0.07658681, 0.86735934],\n",
              "       [1.66416952, 0.02691712, 1.01867078],\n",
              "       [0.9590974 , 0.05930988, 0.02285705]])"
            ]
          },
          "metadata": {
            "tags": []
          },
          "execution_count": 34
        }
      ]
    },
    {
      "cell_type": "markdown",
      "metadata": {
        "id": "ErYfBplok6C-"
      },
      "source": [
        "## Part III. Define a logistc regression and the loss function in Pytorch\n",
        "\n",
        "### The `nn.()` module\n",
        "\n",
        "PyTorch provides a module `nn` that makes building neural networks much simpler. \n"
      ]
    },
    {
      "cell_type": "code",
      "metadata": {
        "id": "6mBBkamwk6C-"
      },
      "source": [
        "from torch import nn"
      ],
      "execution_count": 35,
      "outputs": []
    },
    {
      "cell_type": "markdown",
      "metadata": {
        "id": "zxqkoV_sk6C_"
      },
      "source": [
        "You should to get use to inspect [Pytorch official documentation](https://pytorch.org/docs/stable/index.html) to understand the structure and usability of methods and classes required to work with Pytorch and train neural networks.\n",
        "\n",
        "With the following code I show you how to create a Logistic Regression network whose parameters will be later on optimized for our data."
      ]
    },
    {
      "cell_type": "code",
      "metadata": {
        "id": "bYMr4MxGk6C_"
      },
      "source": [
        "class LR(nn.Module):\n",
        "    def __init__(self,dimx):\n",
        "        super().__init__()\n",
        "        \n",
        "        self.weights = nn.Parameter(torch.randn(dimx,1),requires_grad = True)\n",
        "        \n",
        "        self.bias = nn.Parameter(torch.randn(1,1),requires_grad = True)\n",
        "        \n",
        "        # Define sigmoid activation and softmax output \n",
        "        self.sigmoid = nn.Sigmoid()\n",
        "        \n",
        "    def forward(self, x):\n",
        "        # Pass the input tensor through each of our operations\n",
        "        x = self.sigmoid(torch.matmul(x,self.weights)+self.bias)\n",
        "        return x"
      ],
      "execution_count": 36,
      "outputs": []
    },
    {
      "cell_type": "markdown",
      "metadata": {
        "id": "4WFWTqbZk6C_"
      },
      "source": [
        "Let's go through this step by step.\n",
        "\n",
        "```python\n",
        "class Network(nn.Module):\n",
        "```\n",
        "\n",
        "Here we're inheriting from `nn.Module`. Combined with `super().__init__()` this creates a class that tracks the architecture and provides a lot of useful methods and attributes. It is mandatory to inherit from `nn.Module` when you're creating a class for your neural network. The name of the class itself can be anything.\n",
        "\n",
        "```python\n",
        "self.weights = nn.Parameter(torch.randn(dimx,1),requires_grad = True)\n",
        "self.bias = nn.Parameter(torch.randn(1,1),requires_grad = True)\n",
        "```\n",
        "\n",
        "The Parameter class defines a kind of Tensor that is to be considered a module parameter. Namely, we will optimize the values of these tensors. Note that we define a **random initialization** with `torch.randn()`.\n",
        "\n",
        "```python\n",
        "def forward(self, x):\n",
        "```\n",
        "\n",
        "PyTorch networks created with `nn.Module` must have a `forward` method defined. It takes in a tensor `x` and passes it through the operations you defined in the `__init__` method.\n"
      ]
    },
    {
      "cell_type": "markdown",
      "metadata": {
        "id": "C2JpTjcTk6C_"
      },
      "source": [
        "### A more compact definition of the network using pre-defined layers\n",
        "\n",
        "The `.nn` package provides us with predefined layers and operators so that the implementation of our networks is indeed much easier (and compact). The following code performs exactly as the class `LR` defined above."
      ]
    },
    {
      "cell_type": "code",
      "metadata": {
        "id": "WHOtUWBYk6DA"
      },
      "source": [
        "class LR_compact(nn.Module):\n",
        "    def __init__(self,dimx):\n",
        "        super().__init__()\n",
        "        \n",
        "        self.output = nn.Linear(dimx,1)\n",
        "    \n",
        "        # Define sigmoid activation and softmax output \n",
        "        self.sigmoid = nn.Sigmoid()\n",
        "        \n",
        "    def forward(self, x):\n",
        "        # Pass the input tensor through each of our operations\n",
        "        x = self.output(x)\n",
        "        x = self.sigmoid(x)\n",
        "        return x"
      ],
      "execution_count": 37,
      "outputs": []
    },
    {
      "cell_type": "markdown",
      "metadata": {
        "id": "KsTQYI7_k6DA"
      },
      "source": [
        "When we define a logistic regressor by instantiating the class `LR_compact`, we can access the weights and the bias as `self.output.weight` and `self.output.bias`"
      ]
    },
    {
      "cell_type": "markdown",
      "metadata": {
        "id": "2h1KP_Abk6DA"
      },
      "source": [
        "### Evaluate the logistic regressor using our data\n",
        "\n",
        "Lets go back to the database we just preprocessed above. Consider now the first 10 datapoints in the training set."
      ]
    },
    {
      "cell_type": "code",
      "metadata": {
        "id": "c2Clpl7Mk6DA"
      },
      "source": [
        "x = np.array(train_data[:10]).astype(np.float32) # train_data is a Dataframe, can easily be converted to a numpy array\n",
        "y = x[:,-1]    # Last Column is the class\n",
        "x = x[:,:-1]   # We remove the last column from x"
      ],
      "execution_count": 38,
      "outputs": []
    },
    {
      "cell_type": "code",
      "metadata": {
        "colab": {
          "base_uri": "https://localhost:8080/"
        },
        "id": "ecz8SZlxk6DA",
        "outputId": "ea55068f-eea6-4e18-a453-550098b75f81"
      },
      "source": [
        "print(\"The dimensions of x are ({0},{1})\\n\".format(x.shape[0],x.shape[1]))\n",
        "\n",
        "print(x)"
      ],
      "execution_count": 39,
      "outputs": [
        {
          "output_type": "stream",
          "text": [
            "The dimensions of x are (10,8)\n",
            "\n",
            "[[ 1.300525    2.2856638   2.2764957   2.4554093   2.2863305   2.6582384\n",
            "   1.3306657   0.8670005 ]\n",
            " [-1.2125387  -0.7003592  -0.7478111  -0.6429514  -0.55274856 -1.010787\n",
            "  -0.60810614 -0.3386047 ]\n",
            " [ 0.22349761 -0.7003592  -0.7478111  -0.6429514  -0.55274856 -0.60311747\n",
            "  -0.2849775  -0.3386047 ]\n",
            " [ 0.22349761 -0.7003592  -0.41177702 -0.6429514  -0.55274856 -1.010787\n",
            "  -0.60810614 -0.3386047 ]\n",
            " [ 0.22349761 -0.7003592  -0.7478111   0.04557319  0.39361116 -0.195448\n",
            "  -0.2849775  -0.3386047 ]\n",
            " [ 2.018543   -0.03679854  0.93235934 -0.29868913 -0.07956871  0.21222152\n",
            "   2.3000517   0.26419792]\n",
            " [ 0.22349761 -0.7003592  -0.7478111  -0.6429514  -0.55274856 -0.195448\n",
            "  -0.60810614 -0.3386047 ]\n",
            " [-0.8535297  -0.7003592  -0.7478111  -0.6429514  -0.55274856 -1.010787\n",
            "  -0.60810614 -0.3386047 ]\n",
            " [ 1.300525    1.6221032   1.6044276  -0.6429514  -0.55274856  1.0275605\n",
            "   2.3000517  -0.3386047 ]\n",
            " [-1.2125387  -0.7003592  -0.7478111  -0.6429514  -0.55274856 -0.195448\n",
            "  -0.60810614 -0.3386047 ]]\n"
          ],
          "name": "stdout"
        }
      ]
    },
    {
      "cell_type": "markdown",
      "metadata": {
        "id": "0uHw_zzdk6DB"
      },
      "source": [
        "> **Exercise:** Instantiate the class `LR_compact` with the dimension of every data point in `x`"
      ]
    },
    {
      "cell_type": "code",
      "metadata": {
        "id": "8sAGUPFVk6DB"
      },
      "source": [
        "## YOUR CODE HERE\n",
        "# must define the dimension of the input vector, in this case the number of columns of x: x.shape[1]\n",
        "my_classifier = LR_compact(x.shape[1])"
      ],
      "execution_count": 40,
      "outputs": []
    },
    {
      "cell_type": "markdown",
      "metadata": {
        "id": "ptP6vO26k6DB"
      },
      "source": [
        "> **Exercise:** Print the current parameters of the classifier (weight vector and bias)"
      ]
    },
    {
      "cell_type": "code",
      "metadata": {
        "colab": {
          "base_uri": "https://localhost:8080/"
        },
        "id": "0DujGtxak6DB",
        "outputId": "ee18fd03-e191-4fee-94b4-6b8dde7e1a02"
      },
      "source": [
        "## YOUR CODE HERE\n",
        "# weights are generated randomly at the start\n",
        "print(f'the weights of the classifier are: {my_classifier.output.weight}')"
      ],
      "execution_count": 41,
      "outputs": [
        {
          "output_type": "stream",
          "text": [
            "the weights of the classifier are: Parameter containing:\n",
            "tensor([[ 0.0148,  0.0659,  0.2685,  0.0909,  0.1876, -0.2735,  0.2517,  0.1217]],\n",
            "       requires_grad=True)\n"
          ],
          "name": "stdout"
        }
      ]
    },
    {
      "cell_type": "code",
      "metadata": {
        "colab": {
          "base_uri": "https://localhost:8080/"
        },
        "id": "oAWkwJ4OxWRx",
        "outputId": "54e2346b-98b0-4814-a863-56d02e98f9e7"
      },
      "source": [
        "# the bias of the classifier (are also generated randomly):\n",
        "print(f'the bias of the classifier are: {my_classifier.output.bias}')"
      ],
      "execution_count": 42,
      "outputs": [
        {
          "output_type": "stream",
          "text": [
            "the bias of the classifier are: Parameter containing:\n",
            "tensor([0.0896], requires_grad=True)\n"
          ],
          "name": "stdout"
        }
      ]
    },
    {
      "cell_type": "markdown",
      "metadata": {
        "id": "1dNlzhEck6DB"
      },
      "source": [
        "To evaluate the logistic regressor output for the data in `x`, we make use of the class `forward` method. Do not forget to feed the function with a **torch tensor**."
      ]
    },
    {
      "cell_type": "code",
      "metadata": {
        "id": "Fb_SN4Lfk6DC"
      },
      "source": [
        "output = my_classifier.forward(torch.tensor(x))"
      ],
      "execution_count": 43,
      "outputs": []
    },
    {
      "cell_type": "code",
      "metadata": {
        "scrolled": false,
        "colab": {
          "base_uri": "https://localhost:8080/"
        },
        "id": "sXNAgfWdk6DC",
        "outputId": "209e49c4-0699-436f-c2c7-a2308e3f457b"
      },
      "source": [
        "# this is the output using the sigmoid function with the randomly generated weights and biases\n",
        "print(output)"
      ],
      "execution_count": 44,
      "outputs": [
        {
          "output_type": "stream",
          "text": [
            "tensor([[0.7749],\n",
            "        [0.4365],\n",
            "        [0.4343],\n",
            "        [0.4641],\n",
            "        [0.4662],\n",
            "        [0.7065],\n",
            "        [0.3877],\n",
            "        [0.4378],\n",
            "        [0.6772],\n",
            "        [0.3827]], grad_fn=<SigmoidBackward>)\n"
          ],
          "name": "stdout"
        }
      ]
    },
    {
      "cell_type": "markdown",
      "metadata": {
        "id": "wpqvSxD1k6DC"
      },
      "source": [
        "Above we can see the operation that created `output`, a sigmoid operation `SigmoidBackward`. The autograd module keeps track of **all operations that affect Parameter tensors** and use such information to calculate the gradient for each one. In this way, it's able to calculate the gradients for a chain of operations, with respect to any one tensor. \n",
        "\n",
        "### Evaluating the binary cross entropy function using `nn.BCE()`\n",
        "\n",
        "Let's reduce the tensor `y` to a scalar value, the binary cross entropy. We will use the class `nn.BCE()`. See how to use the function in the [official documentation](https://pytorch.org/docs/stable/nn.html)."
      ]
    },
    {
      "cell_type": "code",
      "metadata": {
        "id": "kxCKBVeKk6DC"
      },
      "source": [
        "bce = nn.BCELoss()"
      ],
      "execution_count": 45,
      "outputs": []
    },
    {
      "cell_type": "code",
      "metadata": {
        "colab": {
          "base_uri": "https://localhost:8080/"
        },
        "id": "LZiuqH1kk6DD",
        "outputId": "7105e727-9e1c-440e-ce83-3da07c9a64e3"
      },
      "source": [
        "# the bce function needs the x and y tensors to compute the 'difference' between them.\n",
        "# for the y vector we need to reshape it in order to have the same shape as the x vector.\n",
        "loss = bce(output,torch.tensor(y).view(output.shape[0],1))\n",
        "\n",
        "# this is the loss 'difference' between the y and x vectors\n",
        "print(loss)"
      ],
      "execution_count": 46,
      "outputs": [
        {
          "output_type": "stream",
          "text": [
            "tensor(0.4936, grad_fn=<BinaryCrossEntropyBackward>)\n"
          ],
          "name": "stdout"
        }
      ]
    },
    {
      "cell_type": "markdown",
      "metadata": {
        "id": "g4TDpOgkk6DD"
      },
      "source": [
        "Above we can see the operation that created `loss`, a binary cross entropy `BinaryCrossEntropyBackward`.\n",
        "\n",
        "\n",
        "Now that we know how to calculate a loss, Torch provides a module, `autograd`, for automatically calculating the gradients of the loss w.r.t. the tensors. Autograd works by keeping track of operations performed on tensors, then going backwards through those operations, calculating gradients along the way.\n",
        "To make sure PyTorch keeps track of operations on a tensor and calculates the gradients, you need to set `requires_grad = True` on a tensor. You can do this at creation with the `requires_grad` keyword, or at any time with `x.requires_grad_(True)`. By default, all tensors created by instantiating the class `nn.Parameter` have `requires_grad = True`.\n",
        "\n",
        "> **Exercise**: Check that both the weights and the bias of the object have this flag set to `True`"
      ]
    },
    {
      "cell_type": "code",
      "metadata": {
        "colab": {
          "base_uri": "https://localhost:8080/"
        },
        "id": "kOabv7kDk6DD",
        "outputId": "fb7efd9b-2066-472b-e625-01f8bf945ad9"
      },
      "source": [
        "# YOUR CODE HERE \n",
        "# We need to have the requires_grad flag activated, so that pytorch can keep track of the operations and calculate the gradients\n",
        "\n",
        "my_classifier.output.weight.requires_grad\n",
        "my_classifier.output.bias.requires_grad\n",
        "# we see that they do require grads"
      ],
      "execution_count": 47,
      "outputs": [
        {
          "output_type": "execute_result",
          "data": {
            "text/plain": [
              "True"
            ]
          },
          "metadata": {
            "tags": []
          },
          "execution_count": 47
        }
      ]
    },
    {
      "cell_type": "markdown",
      "metadata": {
        "id": "pivdybAak6DD"
      },
      "source": [
        "You can turn off gradients for a block of code with the `torch.no_grad()` content:\n",
        "```python\n",
        "x = torch.zeros(1, requires_grad=True)\n",
        ">>> with torch.no_grad():\n",
        "...     y = x * 2\n",
        ">>> y.requires_grad\n",
        "False\n",
        "```\n",
        "\n",
        "Also, you can turn on or off gradients altogether with `torch.set_grad_enabled(True|False)`. Turning off gradients is recommended for instance when you are just evaluating you network, i.e., when training is finished and only parameter evaluation is required.\n"
      ]
    },
    {
      "cell_type": "markdown",
      "metadata": {
        "id": "TTo3fKn_k6DD"
      },
      "source": [
        "### The `.backward()` operator\n",
        "\n",
        "\n",
        "The gradients are computed with respect to some variable `z` with `z.backward()`. This does a backward pass through the operations that created `z`. This means that when we calculate the loss and call `loss.backward()`, the gradients of the loss function w.r.t. the parameters are calculated. These gradients are used to update the weights with gradient descent.\n",
        "\n",
        "After calling  `loss.backward()` the gradient of `loss` w.r.t. to any tensor `x` can be accessed as `x.grad`\n",
        "\n",
        "\n",
        "> **Exercise**: Print the gradient of the loss function w.r.t. the model parameters for the `LR` object (or the `LR_compact`) before and after running `loss.backward()`."
      ]
    },
    {
      "cell_type": "code",
      "metadata": {
        "colab": {
          "base_uri": "https://localhost:8080/"
        },
        "id": "cAEdkyGnk6DE",
        "outputId": "dd69f2c5-4d42-4422-da02-53822e4fcf38"
      },
      "source": [
        "#YOUR CODE HERE\n",
        "# before running the loss backward funcion, we see that there is no gradient\n",
        "print(my_classifier.output.weight.grad)\n",
        "\n",
        "loss.backward()\n",
        "\n",
        "# after running it we observe that the gradient has been calculated\n",
        "print(my_classifier.output.weight.grad)\n",
        "# if we try to run it again, we will get an error, since the gradient has already been computed"
      ],
      "execution_count": 48,
      "outputs": [
        {
          "output_type": "stream",
          "text": [
            "None\n",
            "tensor([[-0.2280, -0.3135, -0.3398, -0.1871, -0.1535, -0.2849, -0.3256, -0.1182]])\n"
          ],
          "name": "stdout"
        }
      ]
    },
    {
      "cell_type": "markdown",
      "metadata": {
        "id": "Jx6YLRRSk6DE"
      },
      "source": [
        "> **Exercise**: Complete the following code, in which given the tensor $u$ (of size $10\\times1$), you have to evaluate the gradient of $y=u^T~u$ w.r.t. every component of $u$. Does it coincide with the analytical solution?"
      ]
    },
    {
      "cell_type": "code",
      "metadata": {
        "colab": {
          "base_uri": "https://localhost:8080/",
          "height": 265
        },
        "id": "1IExU-3Ck6DE",
        "outputId": "eb3b85e9-e2dd-426e-bbb5-f2e87a6e68c1"
      },
      "source": [
        "u = torch.randn(10,1,requires_grad=True)\n",
        "\n",
        "#YOUR CODE HERE (2 lines of code)\n",
        "y = torch.matmul(u.view(1,10),u)\n",
        "y.backward()\n",
        "\n",
        "\n",
        "\n",
        "# Turn off gradients for validation, saves memory and computations\n",
        "with torch.no_grad():\n",
        "    plt.stem(u.grad.numpy(),label='Autograd',use_line_collection=True)\n",
        "    plt.plot(2*u.detach().numpy(),'-g',label='$2x$')\n",
        "    plt.grid()\n",
        "    plt.legend()"
      ],
      "execution_count": 49,
      "outputs": [
        {
          "output_type": "display_data",
          "data": {
            "image/png": "[encoded data removed]",
            "text/plain": [
              "<Figure size 432x288 with 1 Axes>"
            ]
          },
          "metadata": {
            "tags": [],
            "image/png": {
              "width": 370,
              "height": 248
            },
            "needs_background": "light"
          }
        }
      ]
    },
    {
      "cell_type": "markdown",
      "metadata": {
        "id": "YyHJkZlLk6DE"
      },
      "source": [
        "`.detach()` method constructs a new view on a tensor which is declared not to need gradients. You can see a nice example in this [link](http://www.bnikolic.co.uk/blog/pytorch-detach.html). Typically, we will use detach to export values to numpy to perform model evaluation. In Pytorch, you cannot call the `.numpy()` operators in Tensor that has `require_grad=True`.\n",
        "\n",
        "An important aspects to implement Gradient Descent Loops is that if call again the `.backward()` operator, then **gradients are accumulated** in the variable `x.grad`. \n",
        "\n",
        "If we recompute `y`, we can check that gradients are accumulated by calling again `y.backward()` "
      ]
    },
    {
      "cell_type": "code",
      "metadata": {
        "colab": {
          "base_uri": "https://localhost:8080/",
          "height": 282
        },
        "id": "ULkah-V7k6DE",
        "outputId": "fd0fdbfe-5085-4996-ba48-e89c39341aca"
      },
      "source": [
        "y = torch.matmul(u.view(1,10),u)\n",
        "y.backward()\n",
        "\n",
        "plt.stem(u.grad.numpy(),label='Autograd',use_line_collection=True)\n",
        "plt.plot(2*u.detach().numpy(),'-g',label='$2x$')\n",
        "plt.plot(4*u.detach().numpy(),'-b',label='$4x$')\n",
        "plt.grid()\n",
        "plt.legend()"
      ],
      "execution_count": 50,
      "outputs": [
        {
          "output_type": "execute_result",
          "data": {
            "text/plain": [
              "<matplotlib.legend.Legend at 0x7f607ba713c8>"
            ]
          },
          "metadata": {
            "tags": []
          },
          "execution_count": 50
        },
        {
          "output_type": "display_data",
          "data": {
            "image/png": "[encoded data removed]",
            "text/plain": [
              "<Figure size 432x288 with 1 Axes>"
            ]
          },
          "metadata": {
            "tags": [],
            "image/png": {
              "width": 370,
              "height": 248
            },
            "needs_background": "light"
          }
        }
      ]
    },
    {
      "cell_type": "markdown",
      "metadata": {
        "id": "mfwIbizkk6DE"
      },
      "source": [
        "To **reset gradients**, Pytorch optimizers provide us with the appropiate method."
      ]
    },
    {
      "cell_type": "markdown",
      "metadata": {
        "id": "kSNg_Veak6DF"
      },
      "source": [
        "## Part IV. Train the logistic regressor with the complete dataset\n",
        "\n",
        "When we create a network with PyTorch, all of the parameters are initialized with `requires_grad = True`. This means that when we calculate the loss and call `loss.backward()`, the gradients for the parameters are calculated. These gradients are used to update the weights with gradient descent. Below you can see an example of calculating the gradients using a backwards pass."
      ]
    },
    {
      "cell_type": "code",
      "metadata": {
        "id": "bpbwjCrck6DF"
      },
      "source": [
        "# We use all data points  \n",
        "\n",
        "x = np.array(train_data).astype(np.float32)\n",
        "# Last Column is the class\n",
        "y = x[:,-1]  \n",
        "x = x[:,:-1]"
      ],
      "execution_count": 51,
      "outputs": []
    },
    {
      "cell_type": "code",
      "metadata": {
        "colab": {
          "base_uri": "https://localhost:8080/"
        },
        "id": "J4RZI84Jk6DF",
        "outputId": "fd16ec1d-2e1d-472c-c32c-5f5794c57086"
      },
      "source": [
        "output = my_classifier.forward(torch.tensor(x))\n",
        "\n",
        "loss = bce(output,torch.tensor(y).view(output.shape[0],1))\n",
        "\n",
        "loss.backward()\n",
        "\n",
        "print(my_classifier.output.weight.grad.shape)"
      ],
      "execution_count": 52,
      "outputs": [
        {
          "output_type": "stream",
          "text": [
            "torch.Size([1, 8])\n"
          ],
          "name": "stdout"
        }
      ]
    },
    {
      "cell_type": "markdown",
      "metadata": {
        "id": "ZbmwYL_Mk6DF"
      },
      "source": [
        "### Defining an optimizer\n",
        "\n",
        "There's one last piece we need to start training, an optimizer that we'll use to update the weights with the gradients. We get these from PyTorch's [`optim` package](https://pytorch.org/docs/stable/optim.html). For example we can use stochastic gradient descent with `optim.SGD`. You can see how to define an optimizer below.\n",
        "\n",
        "With the following code, we can define the optimizer:\n"
      ]
    },
    {
      "cell_type": "code",
      "metadata": {
        "id": "dVhqKTLek6DF"
      },
      "source": [
        "from torch import optim\n",
        "\n",
        "# Optimizers require the parameters to optimize and a learning rate\n",
        "optimizer = optim.SGD(my_classifier.parameters(), lr=0.01)"
      ],
      "execution_count": 53,
      "outputs": []
    },
    {
      "cell_type": "markdown",
      "metadata": {
        "id": "rUUpWXy-k6DF"
      },
      "source": [
        "To perform a SGD iteration, we simply call `optmizer.step()`\n",
        "\n",
        "\n",
        "By the way, `my_classifier.parameters()` returns a [generator object](https://realpython.com/introduction-to-python-generators/). Namely, a list with all the parameters that you read one by one or iterate through a for loop."
      ]
    },
    {
      "cell_type": "code",
      "metadata": {
        "colab": {
          "base_uri": "https://localhost:8080/"
        },
        "id": "SCg0D7hqk6DF",
        "outputId": "927ee412-b92b-4ab8-8bcb-fc77f4e898ae"
      },
      "source": [
        "params = my_classifier.parameters()\n",
        "\n",
        "print(type(params))\n",
        "# We print the first set of parameters (weight vector)\n",
        "print(next(params))\n",
        "# We print the second set of parameters (the bias)\n",
        "print(next(params))"
      ],
      "execution_count": 54,
      "outputs": [
        {
          "output_type": "stream",
          "text": [
            "<class 'generator'>\n",
            "Parameter containing:\n",
            "tensor([[ 0.0148,  0.0659,  0.2685,  0.0909,  0.1876, -0.2735,  0.2517,  0.1217]],\n",
            "       requires_grad=True)\n",
            "Parameter containing:\n",
            "tensor([0.0896], requires_grad=True)\n"
          ],
          "name": "stdout"
        }
      ]
    },
    {
      "cell_type": "markdown",
      "metadata": {
        "id": "-1mwyCktk6DG"
      },
      "source": [
        "If we call again the method `next()` over params, Python will yield a `StopIteration` error:"
      ]
    },
    {
      "cell_type": "code",
      "metadata": {
        "id": "utqNqkgCk6DG"
      },
      "source": [
        "#print(next(params))"
      ],
      "execution_count": 55,
      "outputs": []
    },
    {
      "cell_type": "markdown",
      "metadata": {
        "id": "ZetMhTUGk6DG"
      },
      "source": [
        "## Creating a class with both the network and a training method\n",
        "\n",
        "Object Oriented Programming (OOP) in Python is a versatil and convenient method to implement our own software and create reusable sofware. Indeed, along this whole notebook, we have been using classes all the time.\n",
        "\n",
        "[Here](https://www.programiz.com/python-programming/object-oriented-programming) you can find a short introduction to OOP in Python.\n",
        "\n",
        "With the following code, we will define a class that incorporates the definition of the logistic regression network and **a method to train the parameters**. Go carefully through the code and try to understand it line by line."
      ]
    },
    {
      "cell_type": "code",
      "metadata": {
        "id": "ig422JNIk6DG"
      },
      "source": [
        "''' This class inherits from the LR_compact class. So it has the same atributes\n",
        "and methods, and some others that we will add. \n",
        "'''\n",
        "class LR_extended(LR_compact):\n",
        "    \n",
        "    # extended initiallitation method for the extended class LR_extended\n",
        "    def __init__(self,dimx,sgd_iterations=1000,lr=0.001,print_every=200):\n",
        "        \n",
        "        # takes the initialization method from its parent class \n",
        "        # super().__init__(arguments from parent class, without 'self')\n",
        "        super().__init__(dimx)  #To initialize LR_compact!\n",
        "        \n",
        "        self.lr = lr #Learning Rate\n",
        "        \n",
        "        # self.parameters are taken from the parent class\n",
        "        self.optim = optim.SGD(self.parameters(), self.lr)\n",
        "        \n",
        "        #Stochastic gradient descent steps\n",
        "        self.sgd_iterations = sgd_iterations \n",
        "        \n",
        "        # type of critetion applied\n",
        "        self.criterion = nn.BCELoss()\n",
        "        \n",
        "        # A list to store the loss evolution along training\n",
        "        self.loss_during_training = [] \n",
        "        \n",
        "        # print every number of steps (200)\n",
        "        self.print_every = print_every\n",
        "        \n",
        "    # train method for the extended class only\n",
        "    def train(self,x,y):\n",
        "        \n",
        "        # Stochastic gradient descent loop \n",
        "        for iter in range(int(self.sgd_iterations)):\n",
        "        \n",
        "            self.optim.zero_grad()  #TO RESET GRADIENTS!\n",
        "\n",
        "            # get the output of the last computed values\n",
        "            out = self.forward(x)\n",
        "\n",
        "            # compute the loss function with those values\n",
        "            loss = self.criterion(out,y.view(x.shape[0],1))\n",
        "\n",
        "            # append this error to the error list\n",
        "            self.loss_during_training.append(loss.item())\n",
        "            # get the recently computed gradients\n",
        "            loss.backward()\n",
        "\n",
        "            self.optim.step()\n",
        "        \n",
        "            if(iter % self.print_every == 0): # Every 1000 iterations\n",
        "                \n",
        "                print(\"Training loss after %d iterations: %f\" \n",
        "                      %(iter,self.loss_during_training[-1]))\n",
        "        "
      ],
      "execution_count": 56,
      "outputs": []
    },
    {
      "cell_type": "markdown",
      "metadata": {
        "id": "SwctuPMGk6DG"
      },
      "source": [
        "Lets instantiate the class and train the logistic regressor. See how compact and easy is now (OOP is great!)."
      ]
    },
    {
      "cell_type": "code",
      "metadata": {
        "colab": {
          "base_uri": "https://localhost:8080/"
        },
        "id": "40qFIn5ik6DH",
        "outputId": "01aabe16-0c1f-49b4-ee11-47c4e1e27971"
      },
      "source": [
        "# instantiate the linear regression with the data we have\n",
        "# to instantiate we need to pass the dimension of x (columns) and the other parameters are optional\n",
        "# but we will put 3000 max iterations and a learning rate of 0.001\n",
        "my_LR = LR_extended(x.shape[1],sgd_iterations=3000,lr=0.001)\n",
        "\n",
        "# now we apply the train method, which needs the x and y variables \n",
        "my_LR.train(torch.tensor(x),torch.tensor(y))"
      ],
      "execution_count": 57,
      "outputs": [
        {
          "output_type": "stream",
          "text": [
            "Training loss after 0 iterations: 0.768621\n",
            "Training loss after 200 iterations: 0.595879\n",
            "Training loss after 400 iterations: 0.488465\n",
            "Training loss after 600 iterations: 0.417329\n",
            "Training loss after 800 iterations: 0.367228\n",
            "Training loss after 1000 iterations: 0.330191\n",
            "Training loss after 1200 iterations: 0.301776\n",
            "Training loss after 1400 iterations: 0.279332\n",
            "Training loss after 1600 iterations: 0.261186\n",
            "Training loss after 1800 iterations: 0.246234\n",
            "Training loss after 2000 iterations: 0.233715\n",
            "Training loss after 2200 iterations: 0.223091\n",
            "Training loss after 2400 iterations: 0.213972\n",
            "Training loss after 2600 iterations: 0.206064\n",
            "Training loss after 2800 iterations: 0.199146\n"
          ],
          "name": "stdout"
        }
      ]
    },
    {
      "cell_type": "markdown",
      "metadata": {
        "id": "eMHun24hk6DH"
      },
      "source": [
        "Note that if you believe that training isn't finished yet, you can simply call again the `.train()` method."
      ]
    },
    {
      "cell_type": "code",
      "metadata": {
        "colab": {
          "base_uri": "https://localhost:8080/"
        },
        "id": "5Fr7Ot-Kk6DH",
        "outputId": "3150f27d-00bf-4144-9383-3b10a9f9f249"
      },
      "source": [
        "my_LR.train(torch.tensor(x),torch.tensor(y))"
      ],
      "execution_count": 58,
      "outputs": [
        {
          "output_type": "stream",
          "text": [
            "Training loss after 0 iterations: 0.193047\n",
            "Training loss after 200 iterations: 0.187633\n",
            "Training loss after 400 iterations: 0.182797\n",
            "Training loss after 600 iterations: 0.178453\n",
            "Training loss after 800 iterations: 0.174531\n",
            "Training loss after 1000 iterations: 0.170973\n",
            "Training loss after 1200 iterations: 0.167733\n",
            "Training loss after 1400 iterations: 0.164770\n",
            "Training loss after 1600 iterations: 0.162051\n",
            "Training loss after 1800 iterations: 0.159548\n",
            "Training loss after 2000 iterations: 0.157236\n",
            "Training loss after 2200 iterations: 0.155095\n",
            "Training loss after 2400 iterations: 0.153107\n",
            "Training loss after 2600 iterations: 0.151256\n",
            "Training loss after 2800 iterations: 0.149529\n"
          ],
          "name": "stdout"
        }
      ]
    },
    {
      "cell_type": "markdown",
      "metadata": {
        "id": "-p6drZCHk6DH"
      },
      "source": [
        "> **Exercise**: Train from scratch the logistic regresson for 20.000 iterations and plot the evolution of the binary cross entropy loss."
      ]
    },
    {
      "cell_type": "code",
      "metadata": {
        "colab": {
          "base_uri": "https://localhost:8080/"
        },
        "id": "8RkoUPWKk6DH",
        "outputId": "f8598a26-6629-4abd-ab1c-3ae6fa65f098"
      },
      "source": [
        "# Your code here\n",
        "\n",
        "# we need to instantiate the class again: \n",
        "\n",
        "my_LR = LR_extended(x.shape[1], sgd_iterations=2e4, lr=0.001, print_every=9000)\n",
        "\n",
        "# and train the model again: \n",
        "\n",
        "my_LR.train(torch.tensor(x),torch.tensor(y))\n",
        "\n"
      ],
      "execution_count": 59,
      "outputs": [
        {
          "output_type": "stream",
          "text": [
            "Training loss after 0 iterations: 0.875011\n",
            "Training loss after 9000 iterations: 0.130808\n",
            "Training loss after 18000 iterations: 0.115401\n"
          ],
          "name": "stdout"
        }
      ]
    },
    {
      "cell_type": "code",
      "metadata": {
        "colab": {
          "base_uri": "https://localhost:8080/",
          "height": 294
        },
        "id": "aBXWiJJkOBJR",
        "outputId": "8fa29ee2-ef2f-4e46-d915-73f065d8f305"
      },
      "source": [
        "# here we will print the evolution of the training error by using the attribute \n",
        "# loss_during_training that is storing all the values\n",
        "plt.plot(my_LR.loss_during_training)\n",
        "plt.xlabel('Iterations')\n",
        "plt.ylabel('Error')\n",
        "plt.title('Evolution of the training error')\n",
        "plt.show()"
      ],
      "execution_count": 60,
      "outputs": [
        {
          "output_type": "display_data",
          "data": {
            "image/png": "[encoded data removed]",
            "text/plain": [
              "<Figure size 432x288 with 1 Axes>"
            ]
          },
          "metadata": {
            "tags": [],
            "image/png": {
              "width": 386,
              "height": 277
            },
            "needs_background": "light"
          }
        }
      ]
    },
    {
      "cell_type": "markdown",
      "metadata": {
        "id": "EApeQPeQk6DH"
      },
      "source": [
        "> **Exercise**: Print all model parameters (e.g. weights and bias)"
      ]
    },
    {
      "cell_type": "code",
      "metadata": {
        "colab": {
          "base_uri": "https://localhost:8080/"
        },
        "id": "mlHGl3k2k6DH",
        "outputId": "93a1e961-dc8b-4526-a0ba-7406ad4939bc"
      },
      "source": [
        "#Your code here\n",
        "# Now we will print the model parameters. These values were constantly updated\n",
        "# Inside the class my_LR, since it inhereted the parameters from the parent class\n",
        "# LR, that had the following attributes: LR.output.weight and LR.output.bias\n",
        "\n",
        "print(f'The model after ttraining has the weights: {my_LR.output.weight[0]}')\n",
        "print(f'And the following bias: {my_LR.output.bias[0]}')\n"
      ],
      "execution_count": 61,
      "outputs": [
        {
          "output_type": "stream",
          "text": [
            "The model after ttraining has the weights: tensor([0.9383, 0.5689, 0.8222, 0.7527, 0.3529, 0.7652, 0.6367, 0.5520],\n",
            "       grad_fn=<SelectBackward>)\n",
            "And the following bias: -0.6298190951347351\n"
          ],
          "name": "stdout"
        }
      ]
    },
    {
      "cell_type": "markdown",
      "metadata": {
        "id": "xlfCYlG2k6DI"
      },
      "source": [
        "#### Evaluating the model in the test set\n",
        "\n",
        "Now that we have trained our logistic regressor, it is time to compare its performance in both the training and the test sets.\n",
        "\n",
        "> **Exercise**: Compute the logistic regressor output for both the training data and the test data."
      ]
    },
    {
      "cell_type": "code",
      "metadata": {
        "id": "l2PoLo1jk6DI"
      },
      "source": [
        "# the forward method will compute the results with the already trained parameters\n",
        "out_train = my_LR.forward(torch.tensor(x))\n",
        "\n",
        "#Your code here\n",
        "# convert the test_data dataframe as a numpy array\n",
        "xtest = np.array(test_data).astype(np.float32)\n",
        "\n",
        "# Last Column is the class\n",
        "ytest = xtest[:,-1]   \n",
        "xtest = xtest[:,:-1]\n",
        "\n",
        "out_test = my_LR.forward(torch.tensor(xtest))"
      ],
      "execution_count": 88,
      "outputs": []
    },
    {
      "cell_type": "markdown",
      "metadata": {
        "id": "t5GrSrHKk6DI"
      },
      "source": [
        "Recall that the logistic regressor output is an estimated class probability. Assuming we put the threshold at a probability of 0.5, lets count the number of errors in both sets."
      ]
    },
    {
      "cell_type": "code",
      "metadata": {
        "colab": {
          "base_uri": "https://localhost:8080/"
        },
        "id": "hdPrBVL-k6DI",
        "outputId": "5ac40921-ad99-4d0f-89b4-e604d74e4ba0"
      },
      "source": [
        "# convert all output values that are greater than 0.5 to 1, and those lower to 0\n",
        "error_rate_train = np.sum((out_train.detach().numpy()>=0.5) \n",
        "                          == y.reshape([-1,1]))/y.shape[0]\n",
        "\n",
        "error_rate_test = np.sum((out_test.detach().numpy()>=0.5) \n",
        "                         == ytest.reshape([-1,1]))/ytest.shape[0]\n",
        "\n",
        "print(error_rate_train)\n",
        "\n",
        "print(error_rate_test)"
      ],
      "execution_count": 63,
      "outputs": [
        {
          "output_type": "stream",
          "text": [
            "0.9534883720930233\n",
            "0.9714285714285714\n"
          ],
          "name": "stdout"
        }
      ]
    },
    {
      "cell_type": "markdown",
      "metadata": {
        "id": "IiffFau6k6DI"
      },
      "source": [
        "## Part V. Training a Logistic Regressor with mini-batch stochastic gradient descent\n",
        "\n",
        "Finally, we are going to implement an scalable version of the gradient descent training implemented above. At every iteration, instead of evaluating the gradient using all data points, a small minibatch of data will be used.\n",
        "\n",
        "To make sure that all training data points are evenly used to evaluate the gradient, we will use a short iterating function. Instead of predefining a certain number of SGD iterations, we define a certain number of **epochs**. After every epoch **all datapoints** have been used in the optimizer once. \n",
        "\n",
        "\n",
        "> **Exercise**: Complete the code for the following class"
      ]
    },
    {
      "cell_type": "code",
      "metadata": {
        "id": "HdP-pHtNk6DI"
      },
      "source": [
        "''' This class inherits from the LR_compact class. So it has the same atributes\n",
        "and methods, and some others that we will add. \n",
        "'''\n",
        "class LR_stochastic(LR_compact):\n",
        "    \n",
        "    # now we initialize it with the number of epochs as well\n",
        "    def __init__(self,dimx,num_train_data,\n",
        "                 epochs=100,lr=0.001,batch_size=50,print_every=20):\n",
        "        \n",
        "        super().__init__(dimx)  #To initialize LR2!\n",
        "        \n",
        "        self.lr = lr #Learning Rate\n",
        "        \n",
        "        # take parameters from parent class\n",
        "        self.optim = optim.SGD(self.parameters(), self.lr)\n",
        "        \n",
        "        self.epochs = epochs\n",
        "        \n",
        "        self.print_every = print_every  # Print loss every \n",
        "        \n",
        "        self.criterion = nn.BCELoss()\n",
        "        \n",
        "        # A list to store the loss evolution along training\n",
        "        \n",
        "        self.loss_during_training = [] \n",
        "        \n",
        "        self.batch_size = batch_size\n",
        "        \n",
        "        self.num_train = num_train_data\n",
        "        \n",
        "        self.num_batchs = np.floor(self.num_train/self.batch_size)\n",
        "        \n",
        "        \n",
        "    def train(self,x,y):\n",
        "        \n",
        "        # SGD Loop\n",
        "        \n",
        "        # first loop for the epochs\n",
        "        for e in range(int(self.epochs)):\n",
        "            \n",
        "            # Random data permutation at each epoch\n",
        "            # generate random indexes for the batch to go around\n",
        "            idx = np.random.permutation(self.num_train)\n",
        "            \n",
        "            # put the loss back to zero\n",
        "            running_loss = 0.\n",
        "            \n",
        "            # second loop for the iterations\n",
        "            for i in range(int(self.num_batchs)):\n",
        "        \n",
        "                self.optim.zero_grad()  #TO RESET GRADIENTS!\n",
        "            \n",
        "                # Indexes of the datapoints that enter the batch\n",
        "                idx_batch = idx[i*self.batch_size:(i+1)*self.batch_size]\n",
        "\n",
        "                # generate the outputs for the selected batch of points\n",
        "                out = self.forward(x[idx_batch,:]) \n",
        "\n",
        "                \n",
        "                loss = self.criterion(out,y[idx_batch].view(self.batch_size,1))\n",
        "\n",
        "                # accumulate the losses\n",
        "                running_loss += loss.item()\n",
        "\n",
        "                #Your code here. Compute gradients\n",
        "                loss.backward()\n",
        "                \n",
        "                #Your code here. Perform one SGD step\n",
        "                self.optim.step()\n",
        "                # finish the iterations inside an epoch\n",
        "                \n",
        "            self.loss_during_training.append(running_loss/self.num_batchs)\n",
        "\n",
        "            if(e % self.print_every == 0 or e == int(self.epochs)-1): \n",
        "\n",
        "                print(\"Training loss after %d epochs: %f\" \n",
        "                      %(e,self.loss_during_training[-1]))\n"
      ],
      "execution_count": 64,
      "outputs": []
    },
    {
      "cell_type": "markdown",
      "metadata": {
        "id": "50x0kYeDk6DJ"
      },
      "source": [
        "> **Exercise**: Train a logistic regressor with minibatch-stochastic gradient descent with different batch sizes (10,20,50 and 100) and plot the evolution of the loss function for all cases in the same plot. \n",
        "Also, compare with the evolution of the loss function when all data is used. Note that when all datapoints are used, every GD iteration correspond to a **full epoch**.\n",
        ">\n",
        "> Finally, observe if in all cases the parameters of the models (weights and biases) are similar."
      ]
    },
    {
      "cell_type": "code",
      "metadata": {
        "colab": {
          "base_uri": "https://localhost:8080/"
        },
        "id": "xGwXdzc9k6DJ",
        "outputId": "089def29-3bf2-4b70-bb05-ab939bf51691"
      },
      "source": [
        "#Your code here\n",
        "print('batch: 10')\n",
        "# batch = 10\n",
        "my_LR10 = LR_stochastic(x.shape[1], x.shape[0], epochs=500, batch_size=10, print_every=100)\n",
        "my_LR10.train(torch.tensor(x), torch.tensor(y))\n",
        "\n",
        "print('batch: 20')\n",
        "# batch = 20\n",
        "my_LR20 = LR_stochastic(x.shape[1], x.shape[0], epochs=500, batch_size=20, print_every=100)\n",
        "my_LR20.train(torch.tensor(x), torch.tensor(y))\n",
        "\n",
        "print('batch: 50')\n",
        "# batch = 50\n",
        "my_LR50 = LR_stochastic(x.shape[1], x.shape[0], epochs=500, batch_size=50, print_every=100)\n",
        "my_LR50.train(torch.tensor(x), torch.tensor(y))\n",
        "\n",
        "print('batch: 100')\n",
        "# batch = 100\n",
        "my_LR100 = LR_stochastic(x.shape[1], x.shape[0], epochs=500, batch_size=100, print_every=100)\n",
        "my_LR100.train(torch.tensor(x), torch.tensor(y))\n",
        "\n"
      ],
      "execution_count": 65,
      "outputs": [
        {
          "output_type": "stream",
          "text": [
            "batch: 10\n",
            "Training loss after 0 epochs: 0.594287\n",
            "Training loss after 100 epochs: 0.156206\n",
            "Training loss after 200 epochs: 0.128469\n",
            "Training loss after 300 epochs: 0.122284\n",
            "Training loss after 400 epochs: 0.111965\n",
            "Training loss after 499 epochs: 0.112281\n",
            "batch: 20\n",
            "Training loss after 0 epochs: 0.736431\n",
            "Training loss after 100 epochs: 0.196943\n",
            "Training loss after 200 epochs: 0.152857\n",
            "Training loss after 300 epochs: 0.135548\n",
            "Training loss after 400 epochs: 0.125884\n",
            "Training loss after 499 epochs: 0.122437\n",
            "batch: 50\n",
            "Training loss after 0 epochs: 1.073059\n",
            "Training loss after 100 epochs: 0.359382\n",
            "Training loss after 200 epochs: 0.235485\n",
            "Training loss after 300 epochs: 0.194029\n",
            "Training loss after 400 epochs: 0.169145\n",
            "Training loss after 499 epochs: 0.154473\n",
            "batch: 100\n",
            "Training loss after 0 epochs: 0.966866\n",
            "Training loss after 100 epochs: 0.523904\n",
            "Training loss after 200 epochs: 0.364482\n",
            "Training loss after 300 epochs: 0.292626\n",
            "Training loss after 400 epochs: 0.247342\n",
            "Training loss after 499 epochs: 0.217396\n"
          ],
          "name": "stdout"
        }
      ]
    },
    {
      "cell_type": "code",
      "metadata": {
        "colab": {
          "base_uri": "https://localhost:8080/",
          "height": 294
        },
        "id": "1JU07mmpYJrV",
        "outputId": "c5e172d7-3c3e-485c-90f4-1e684ee7806d"
      },
      "source": [
        "plt.plot(my_LR10.loss_during_training, '-b', label='batch=10')\n",
        "plt.plot(my_LR20.loss_during_training, '-g', label='batch=20')\n",
        "plt.plot(my_LR50.loss_during_training, '-y', label='batch=50')\n",
        "plt.plot(my_LR100.loss_during_training, '-r', label='batch=100')\n",
        "#plt.plot(my_LR.loss_during_training, '-v')\n",
        "plt.xlabel('Epochs')\n",
        "plt.ylabel('Loss')\n",
        "plt.title('Evolution of the loss function w.r.t batch size')\n",
        "plt.legend()\n",
        "plt.show()"
      ],
      "execution_count": 66,
      "outputs": [
        {
          "output_type": "display_data",
          "data": {
            "image/png": "[encoded data removed]",
            "text/plain": [
              "<Figure size 432x288 with 1 Axes>"
            ]
          },
          "metadata": {
            "tags": [],
            "image/png": {
              "width": 385,
              "height": 277
            },
            "needs_background": "light"
          }
        }
      ]
    },
    {
      "cell_type": "markdown",
      "metadata": {
        "id": "Yzt8Zb0zk6DJ"
      },
      "source": [
        "> **Exercise**: Add a method to the above class that evaluates the classification error rate for a given set of data points and the corresponding labels. Hint: we have done this previously in the notebook, you only  have to encapsulate it in the class as a new method.\n",
        ">\n",
        ">Recall to disable gradient computation for these computations (it saves time and operations!)"
      ]
    },
    {
      "cell_type": "code",
      "metadata": {
        "id": "KkRi257Tk6DJ"
      },
      "source": [
        "# We need to create another child class from the parent LR\n",
        "''' This class inherits from the LR_compact class. So it has the same atributes\n",
        "and methods, and some others that we will add. \n",
        "'''\n",
        "class LR_stochastic(LR_compact):\n",
        "    \n",
        "    # now we initialize it with the number of epochs as well\n",
        "    def __init__(self,dimx,num_train_data,\n",
        "                 epochs=100,lr=0.001,batch_size=50,print_every=20):\n",
        "        \n",
        "        super().__init__(dimx)  #To initialize LR2!\n",
        "        \n",
        "        self.lr = lr #Learning Rate\n",
        "        \n",
        "        # take parameters from parent class\n",
        "        self.optim = optim.SGD(self.parameters(), self.lr)\n",
        "        \n",
        "        self.epochs = epochs\n",
        "        \n",
        "        self.print_every = print_every  # Print loss every \n",
        "        \n",
        "        self.criterion = nn.BCELoss()\n",
        "        \n",
        "        # A list to store the loss evolution along training\n",
        "        \n",
        "        self.loss_during_training = [] \n",
        "        \n",
        "        self.batch_size = batch_size\n",
        "        \n",
        "        self.num_train = num_train_data\n",
        "        \n",
        "        self.num_batchs = np.floor(self.num_train/self.batch_size)\n",
        "        \n",
        "\n",
        "    def error_rate(self, x, y):\n",
        "\n",
        "      with torch.no_grad():\n",
        "\n",
        "        out = self.forward(x)\n",
        "        error = np.sum((out.detach().numpy()>=0.5) == y.reshape([-1,1]))/y.shape[0]\n",
        "        \n",
        "      return error\n",
        "\n",
        "\n",
        "    def train(self,x,y):\n",
        "        \n",
        "        # SGD Loop\n",
        "        \n",
        "        # first loop for the epochs\n",
        "        for e in range(int(self.epochs)):\n",
        "            \n",
        "            # Random data permutation at each epoch\n",
        "            # generate random indexes for the batch to go around\n",
        "            idx = np.random.permutation(self.num_train)\n",
        "            \n",
        "            # put the loss back to zero\n",
        "            running_loss = 0.\n",
        "            \n",
        "            # second loop for the iterations\n",
        "            for i in range(int(self.num_batchs)):\n",
        "        \n",
        "                self.optim.zero_grad()  #TO RESET GRADIENTS!\n",
        "            \n",
        "                # Indexes of the datapoints that enter the batch\n",
        "                idx_batch = idx[i*self.batch_size:(i+1)*self.batch_size]\n",
        "\n",
        "                # generate the outputs for the selected batch of points\n",
        "                out = self.forward(x[idx_batch,:]) \n",
        "\n",
        "                \n",
        "                loss = self.criterion(out,y[idx_batch].view(self.batch_size,1))\n",
        "\n",
        "                # accumulate the losses\n",
        "                running_loss += loss.item()\n",
        "\n",
        "                #Your code here. Compute gradients\n",
        "                loss.backward()\n",
        "                \n",
        "                #Your code here. Perform one SGD step\n",
        "                self.optim.step()\n",
        "                # finish the iterations inside an epoch\n",
        "                \n",
        "            self.loss_during_training.append(running_loss/self.num_batchs)\n",
        "\n",
        "            if(e % self.print_every == 0 or e == int(self.epochs)-1): \n",
        "\n",
        "                print(\"Training loss after %d epochs: %f\" \n",
        "                      %(e,self.loss_during_training[-1]))\n"
      ],
      "execution_count": 67,
      "outputs": []
    },
    {
      "cell_type": "code",
      "metadata": {
        "colab": {
          "base_uri": "https://localhost:8080/"
        },
        "id": "JxoTEDDWk6DJ",
        "outputId": "e9639419-cc17-4370-9900-5d50e42fa281"
      },
      "source": [
        "my_LR = LR_stochastic(x.shape[1], x.shape[0], batch_size=20, print_every=100, epochs=500)\n",
        "\n",
        "my_LR.train(torch.tensor(x), torch.tensor(y))\n",
        "my_LR.error_rate(torch.tensor(x), y)"
      ],
      "execution_count": 68,
      "outputs": [
        {
          "output_type": "stream",
          "text": [
            "Training loss after 0 epochs: 0.623416\n",
            "Training loss after 100 epochs: 0.194229\n",
            "Training loss after 200 epochs: 0.152751\n",
            "Training loss after 300 epochs: 0.136588\n",
            "Training loss after 400 epochs: 0.128842\n",
            "Training loss after 499 epochs: 0.118356\n"
          ],
          "name": "stdout"
        },
        {
          "output_type": "execute_result",
          "data": {
            "text/plain": [
              "0.9516994633273703"
            ]
          },
          "metadata": {
            "tags": []
          },
          "execution_count": 68
        }
      ]
    },
    {
      "cell_type": "markdown",
      "metadata": {
        "id": "-ga_24lbk6DK"
      },
      "source": [
        "## Part VI. Regularize the model weights"
      ]
    },
    {
      "cell_type": "markdown",
      "metadata": {
        "id": "eagR60YTk6DK"
      },
      "source": [
        "> **Exercise**: Implement a class for regularized logistic regression, in which you penalize the $L_2$ norm of the weights (do not penalize for the bias). Use a pre-defined regularization parameter that you specify when instantiate the class.\n",
        ">\n",
        "> Recall that $L_2$ is simply the sum of the squared elements of a vector.  For a given tensor `u` you can get this \n",
        "> norm by calling `torch.norm(u)`, which returns the squared-root of the norm. The idea is that you add this norm to the loss function, with a regularization parameter $\\lambda$:\n",
        ">\n",
        "> $$\\mathcal{L}_{reg} = \\mathcal{L}_{BCE} + \\lambda ||\\mathbf{w}||^2_2$$\n",
        ">\n",
        "> Train the model with SGD and compare the train/test performance as you vary $\\lambda$. Hint: Since in this case the > unregularized LR model performs really well on both train and test datasets, there is actually no need for   regularization. So do not expect much improvement, rather the contrary. We will reuse this code in future projects.\n",
        "\n"
      ]
    },
    {
      "cell_type": "code",
      "metadata": {
        "id": "HkfeLpkfk6DK"
      },
      "source": [
        "# now we apply the same function but with the added regularization parameter to the ridge regression\n",
        "# We need to create another child class from the parent LR\n",
        "''' This class inherits from the LR_compact class. So it has the same atributes\n",
        "and methods, and some others that we will add. \n",
        "'''\n",
        "class LR_stochastic_reg(LR_compact):\n",
        "    \n",
        "    # now we initialize it with the number of epochs as well\n",
        "    def __init__(self,dimx,num_train_data,\n",
        "                 epochs=100,lr=0.001,batch_size=50,print_every=20,lam=1.0):\n",
        "        \n",
        "        super().__init__(dimx)  #To initialize LR2!\n",
        "        \n",
        "        self.lr = lr #Learning Rate\n",
        "        \n",
        "        # take parameters from parent class\n",
        "        self.optim = optim.SGD(self.parameters(), self.lr)\n",
        "        \n",
        "        self.epochs = epochs\n",
        "        \n",
        "        self.print_every = print_every  # Print loss every \n",
        "        \n",
        "        self.criterion = nn.BCELoss()\n",
        "        \n",
        "        # A list to store the loss evolution along training\n",
        "        \n",
        "        self.loss_during_training = [] \n",
        "        \n",
        "        self.batch_size = batch_size\n",
        "        \n",
        "        self.num_train = num_train_data\n",
        "        \n",
        "        self.num_batchs = np.floor(self.num_train/self.batch_size)\n",
        "\n",
        "        # regularization parameter\n",
        "\n",
        "        self.lam = lam\n",
        "        \n",
        "\n",
        "    def error_rate(self, x, y):\n",
        "\n",
        "      with torch.no_grad():\n",
        "\n",
        "        out = self.forward(x)\n",
        "        error = np.sum((out.detach().numpy()>=0.5) == y.reshape([-1,1]))/y.shape[0]\n",
        "\n",
        "      self.accuracy = error \n",
        "      return error\n",
        "\n",
        "\n",
        "    def train(self,x,y):\n",
        "        \n",
        "        # SGD Loop\n",
        "        \n",
        "        # first loop for the epochs\n",
        "        for e in range(int(self.epochs)):\n",
        "            \n",
        "            # Random data permutation at each epoch\n",
        "            # generate random indexes for the batch to go around\n",
        "            idx = np.random.permutation(self.num_train)\n",
        "            \n",
        "            # put the loss back to zero\n",
        "            running_loss = 0.\n",
        "            \n",
        "            # second loop for the iterations\n",
        "            for i in range(int(self.num_batchs)):\n",
        "        \n",
        "                self.optim.zero_grad()  #TO RESET GRADIENTS!\n",
        "            \n",
        "                # Indexes of the datapoints that enter the batch\n",
        "                idx_batch = idx[i*self.batch_size:(i+1)*self.batch_size]\n",
        "\n",
        "                # generate the outputs for the selected batch of points\n",
        "                out = self.forward(x[idx_batch,:]) \n",
        "\n",
        "                \n",
        "                loss = self.criterion(out,y[idx_batch].view(self.batch_size,1)) + self.lam * torch.norm(self.output.weight)\n",
        "\n",
        "                # accumulate the losses\n",
        "                running_loss += loss.item()\n",
        "\n",
        "                #Your code here. Compute gradients\n",
        "                loss.backward()\n",
        "                \n",
        "                #Your code here. Perform one SGD step\n",
        "                self.optim.step()\n",
        "                # finish the iterations inside an epoch\n",
        "                \n",
        "            self.loss_during_training.append(running_loss/self.num_batchs)\n",
        "\n",
        "            if(e % self.print_every == 0 or e == int(self.epochs)-1): \n",
        "\n",
        "                print(\"Training loss after %d epochs: %f\" \n",
        "                      %(e,self.loss_during_training[-1]))\n"
      ],
      "execution_count": 95,
      "outputs": []
    },
    {
      "cell_type": "code",
      "metadata": {
        "colab": {
          "base_uri": "https://localhost:8080/"
        },
        "id": "BRSIA7Jok6DL",
        "outputId": "c98b87bf-f2ff-4f8e-85ce-4fb745cf8fad"
      },
      "source": [
        "my_LRR = LR_stochastic_reg(x.shape[1], x.shape[0], lam=0.5)\n",
        "my_LRR.train(torch.tensor(x),torch.tensor(y))\n",
        "my_LRR.error_rate(torch.tensor(x),y)"
      ],
      "execution_count": 70,
      "outputs": [
        {
          "output_type": "stream",
          "text": [
            "Training loss after 0 epochs: 1.138968\n",
            "Training loss after 20 epochs: 0.814735\n",
            "Training loss after 40 epochs: 0.684718\n",
            "Training loss after 60 epochs: 0.634314\n",
            "Training loss after 80 epochs: 0.615212\n",
            "Training loss after 99 epochs: 0.604081\n"
          ],
          "name": "stdout"
        },
        {
          "output_type": "execute_result",
          "data": {
            "text/plain": [
              "0.9499105545617174"
            ]
          },
          "metadata": {
            "tags": []
          },
          "execution_count": 70
        }
      ]
    },
    {
      "cell_type": "code",
      "metadata": {
        "colab": {
          "base_uri": "https://localhost:8080/"
        },
        "id": "WevuUgGuk6DL",
        "outputId": "d30f5d1d-a962-4031-821f-e84b57eb713d"
      },
      "source": [
        "# trying out different lambdas\n",
        "# lambda = 0.1\n",
        "my_LRR_1 = LR_stochastic_reg(x.shape[1], x.shape[0], lam=0.1)\n",
        "my_LRR_1.train(torch.tensor(x),torch.tensor(y))\n",
        "# lambda = 0.25\n",
        "my_LRR_25 = LR_stochastic_reg(x.shape[1], x.shape[0], lam=0.25)\n",
        "my_LRR_25.train(torch.tensor(x),torch.tensor(y))\n",
        "# lambda = 05\n",
        "my_LRR_5 = LR_stochastic_reg(x.shape[1], x.shape[0], lam=0.5)\n",
        "my_LRR_5.train(torch.tensor(x),torch.tensor(y))\n",
        "# lambda = 0.75\n",
        "my_LRR_75 = LR_stochastic_reg(x.shape[1], x.shape[0], lam=0.75)\n",
        "my_LRR_75.train(torch.tensor(x),torch.tensor(y))\n",
        "# lambda = 1\n",
        "my_LRR_11 = LR_stochastic_reg(x.shape[1], x.shape[0], lam=0.11)\n",
        "my_LRR_11.train(torch.tensor(x),torch.tensor(y))"
      ],
      "execution_count": 71,
      "outputs": [
        {
          "output_type": "stream",
          "text": [
            "Training loss after 0 epochs: 1.190305\n",
            "Training loss after 20 epochs: 0.845065\n",
            "Training loss after 40 epochs: 0.649839\n",
            "Training loss after 60 epochs: 0.543968\n",
            "Training loss after 80 epochs: 0.480572\n",
            "Training loss after 99 epochs: 0.438081\n",
            "Training loss after 0 epochs: 0.673350\n",
            "Training loss after 20 epochs: 0.596844\n",
            "Training loss after 40 epochs: 0.550091\n",
            "Training loss after 60 epochs: 0.522064\n",
            "Training loss after 80 epochs: 0.501063\n",
            "Training loss after 99 epochs: 0.486632\n",
            "Training loss after 0 epochs: 1.106184\n",
            "Training loss after 20 epochs: 0.798142\n",
            "Training loss after 40 epochs: 0.663683\n",
            "Training loss after 60 epochs: 0.607109\n",
            "Training loss after 80 epochs: 0.586696\n",
            "Training loss after 99 epochs: 0.574381\n",
            "Training loss after 0 epochs: 1.157879\n",
            "Training loss after 20 epochs: 0.936372\n",
            "Training loss after 40 epochs: 0.806426\n",
            "Training loss after 60 epochs: 0.728853\n",
            "Training loss after 80 epochs: 0.688331\n",
            "Training loss after 99 epochs: 0.666527\n",
            "Training loss after 0 epochs: 1.103709\n",
            "Training loss after 20 epochs: 0.793519\n",
            "Training loss after 40 epochs: 0.622565\n",
            "Training loss after 60 epochs: 0.524747\n",
            "Training loss after 80 epochs: 0.463238\n",
            "Training loss after 99 epochs: 0.426413\n"
          ],
          "name": "stdout"
        }
      ]
    },
    {
      "cell_type": "code",
      "metadata": {
        "colab": {
          "base_uri": "https://localhost:8080/",
          "height": 265
        },
        "id": "R-TvNevCk6DL",
        "outputId": "132617ed-e274-4ecf-a332-2a8857335dba"
      },
      "source": [
        "plt.plot(my_LRR_1.loss_during_training, '-b', label='lambda: 0.1')\n",
        "plt.plot(my_LRR_25.loss_during_training, '-g', label='lambda: 0.25')\n",
        "plt.plot(my_LRR_5.loss_during_training, '-y', label='lambda: 0.5')\n",
        "plt.plot(my_LRR_75.loss_during_training, '-r', label='lambda: 0.75')\n",
        "plt.plot(my_LRR_11.loss_during_training, '-v', label='lambda: 1')\n",
        "plt.legend()\n",
        "plt.show()"
      ],
      "execution_count": 72,
      "outputs": [
        {
          "output_type": "display_data",
          "data": {
            "image/png": "[encoded data removed]",
            "text/plain": [
              "<Figure size 432x288 with 1 Axes>"
            ]
          },
          "metadata": {
            "tags": [],
            "image/png": {
              "width": 372,
              "height": 248
            },
            "needs_background": "light"
          }
        }
      ]
    },
    {
      "cell_type": "code",
      "metadata": {
        "id": "MN_esOxlgt4h",
        "colab": {
          "base_uri": "https://localhost:8080/"
        },
        "outputId": "0f171ad8-1546-4150-c86e-ecb285d630e9"
      },
      "source": [
        "# testing error:\n",
        "# this is the final testing accuracy rate of the model\n",
        "my_LRR_1.error_rate(torch.tensor(xtest), ytest)"
      ],
      "execution_count": 97,
      "outputs": [
        {
          "output_type": "execute_result",
          "data": {
            "text/plain": [
              "0.9785714285714285"
            ]
          },
          "metadata": {
            "tags": []
          },
          "execution_count": 97
        }
      ]
    },
    {
      "cell_type": "code",
      "metadata": {
        "colab": {
          "base_uri": "https://localhost:8080/"
        },
        "id": "MdYRY5jpXBSw",
        "outputId": "2a759935-3bac-4127-a5a4-c75f1b36cae7"
      },
      "source": [
        "sum(((my_LRR_1.forward(torch.tensor(xtest)).detach().numpy()) >= 0.5) == ytest.reshape([-1,1]))"
      ],
      "execution_count": 91,
      "outputs": [
        {
          "output_type": "execute_result",
          "data": {
            "text/plain": [
              "array([137])"
            ]
          },
          "metadata": {
            "tags": []
          },
          "execution_count": 91
        }
      ]
    },
    {
      "cell_type": "code",
      "metadata": {
        "colab": {
          "base_uri": "https://localhost:8080/"
        },
        "id": "-7tcbemrXlIv",
        "outputId": "4d4b2fe4-6054-4fca-ec22-4611026d01ab"
      },
      "source": [
        "len(ytest.reshape([-1,1]))"
      ],
      "execution_count": 92,
      "outputs": [
        {
          "output_type": "execute_result",
          "data": {
            "text/plain": [
              "140"
            ]
          },
          "metadata": {
            "tags": []
          },
          "execution_count": 92
        }
      ]
    },
    {
      "cell_type": "code",
      "metadata": {
        "colab": {
          "base_uri": "https://localhost:8080/"
        },
        "id": "u-lcZoH9ZlPR",
        "outputId": "601cfa30-5b0e-44f7-861b-8c7637d7c04f"
      },
      "source": [
        "# if we try the testing accuracy rate of the least performing model, we get: \n",
        "my_LRR_75.error_rate(torch.tensor(xtest), ytest)\n",
        "# we see that its accuracy is indeed lower than the one obtained with the lambda=1 model"
      ],
      "execution_count": 94,
      "outputs": [
        {
          "output_type": "execute_result",
          "data": {
            "text/plain": [
              "0.95"
            ]
          },
          "metadata": {
            "tags": []
          },
          "execution_count": 94
        }
      ]
    },
    {
      "cell_type": "code",
      "metadata": {
        "colab": {
          "base_uri": "https://localhost:8080/"
        },
        "id": "wlCIXKjCZ-VR",
        "outputId": "1c0980f1-ac04-4ccb-d9ba-40e7ac4f5c90"
      },
      "source": [
        "my_LRR_1 = LR_stochastic_reg(x.shape[1], x.shape[0], lam=0.1)\n",
        "my_LRR_1.train(torch.tensor(x),torch.tensor(y))"
      ],
      "execution_count": 96,
      "outputs": [
        {
          "output_type": "stream",
          "text": [
            "Training loss after 0 epochs: 0.855691\n",
            "Training loss after 20 epochs: 0.660032\n",
            "Training loss after 40 epochs: 0.548689\n",
            "Training loss after 60 epochs: 0.482111\n",
            "Training loss after 80 epochs: 0.436055\n",
            "Training loss after 99 epochs: 0.405672\n"
          ],
          "name": "stdout"
        }
      ]
    },
    {
      "cell_type": "code",
      "metadata": {
        "colab": {
          "base_uri": "https://localhost:8080/"
        },
        "id": "2BRUBeJPbAio",
        "outputId": "9e6dff8e-730a-4491-a937-67492584303f"
      },
      "source": [
        "my_LRR_1.accuracy"
      ],
      "execution_count": 98,
      "outputs": [
        {
          "output_type": "execute_result",
          "data": {
            "text/plain": [
              "0.9785714285714285"
            ]
          },
          "metadata": {
            "tags": []
          },
          "execution_count": 98
        }
      ]
    },
    {
      "cell_type": "code",
      "metadata": {
        "id": "0XTVAreZbGsf"
      },
      "source": [
        ""
      ],
      "execution_count": null,
      "outputs": []
    }
  ]
}