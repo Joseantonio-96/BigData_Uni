{
 "cells": [
  {
   "cell_type": "markdown",
   "metadata": {
    "id": "UW1pYG8_r9_d"
   },
   "source": [
    "# Lab 2 (Part 2): Regularizing MLPs\n",
    "\n",
    "**Jose Antonio Jijon Vorbeck - 100438045**\n",
    "\n",
    "------------------------------------------------------\n",
    "*Deep Learning. Master in Big Data Analytics*\n",
    "\n",
    "*Pablo M. Olmos pamartin@ing.uc3m.es*\n",
    "\n",
    "------------------------------------------------------\n",
    "\n",
    "\n",
    "In this second part of the lab, we'll be using the [Fashion-MNIST dataset](https://github.com/zalandoresearch/fashion-mnist), a drop-in replacement for the MNIST dataset. MNIST is actually quite trivial with neural networks where you can easily achieve better than 97% accuracy. Fashion-MNIST is a set of 28x28 greyscale images of clothes. It's more complex than MNIST, so it's a better representation of the actual performance of your network, and a better representation of datasets you'll use in the real world. You can see a sample below."
   ]
  },
  {
   "cell_type": "code",
   "execution_count": null,
   "metadata": {
    "colab": {
     "base_uri": "https://localhost:8080/",
     "height": 221
    },
    "executionInfo": {
     "elapsed": 1638,
     "status": "ok",
     "timestamp": 1614601591119,
     "user": {
      "displayName": "JOSE ANTONIO JIJON VORBECK",
      "photoUrl": "",
      "userId": "12531941878311717446"
     },
     "user_tz": -60
    },
    "id": "TiHYLJaCr9_i",
    "outputId": "41c1ad0f-8954-4d2e-bdcb-84072d48fcef"
   },
   "outputs": [
    {
     "data": {
      "text/html": [
       "<img src=\"https://miro.medium.com/max/3200/1*QQVbuP2SEasB0XAmvjW0AA.jpeg\" width=\"400\" height=\"200\"/>"
      ],
      "text/plain": [
       "<IPython.core.display.Image object>"
      ]
     },
     "execution_count": 51,
     "metadata": {
      "tags": []
     },
     "output_type": "execute_result"
    }
   ],
   "source": [
    "from IPython.display import Image\n",
    "from IPython.core.display import HTML \n",
    "\n",
    "Image(url= \"https://miro.medium.com/max/3200/1*QQVbuP2SEasB0XAmvjW0AA.jpeg\", width=400, height=200)"
   ]
  },
  {
   "cell_type": "markdown",
   "metadata": {
    "id": "XUTNj0umr9_m"
   },
   "source": [
    "Our goal is to build a neural network that can take one of these images and predict the digit in the image. Unlike the MNIST case, for this problem you will notice that the model **easily overfits**, so addressing this issue is an important problem here. To do so, we will experiment with early stopping, dropout, and L2 weight regularization.\n",
    "\n",
    "Note: a big part of the following material is a personal wrap-up of [Facebook's Deep Learning Course in Udacity](https://www.udacity.com/course/deep-learning-pytorch--ud188). So all credit goes for them!!"
   ]
  },
  {
   "cell_type": "code",
   "execution_count": null,
   "metadata": {
    "id": "_ZPWyYdXr9_n"
   },
   "outputs": [],
   "source": [
    "%matplotlib inline\n",
    "%config InlineBackend.figure_format = 'retina'  #To get figures with high quality!\n",
    "\n",
    "import numpy as np\n",
    "import torch\n",
    "from torch import nn\n",
    "from torch import optim\n",
    "import matplotlib.pyplot as plt\n",
    "import pandas as pd"
   ]
  },
  {
   "cell_type": "markdown",
   "metadata": {
    "id": "q_-PTTwwr9_o"
   },
   "source": [
    "## Part I. Download FMNIST with `torchvision`\n",
    "\n",
    "The code below will download the MNIST dataset, then create training and test datasets for us. It is mostly the same code we used to download MNIST in the previous part of the Lab."
   ]
  },
  {
   "cell_type": "code",
   "execution_count": null,
   "metadata": {
    "id": "a7iJsMPur9_p"
   },
   "outputs": [],
   "source": [
    "import torch\n",
    "from torchvision import datasets, transforms\n",
    "\n",
    "# Define a transform to normalize the data\n",
    "transform = transforms.Compose([transforms.ToTensor(),\n",
    "                                transforms.Normalize((0.5,), (0.5,))])\n",
    "# Download and load the training data\n",
    "trainset = datasets.FashionMNIST('~/.pytorch/F_MNIST_data/', download=True, train=True, transform=transform)\n",
    "trainloader = torch.utils.data.DataLoader(trainset, batch_size=64, shuffle=True)\n",
    "\n",
    "# Download and load the test data\n",
    "testset = datasets.FashionMNIST('~/.pytorch/F_MNIST_data/', download=True, train=False, transform=transform)\n",
    "testloader = torch.utils.data.DataLoader(testset, batch_size=64, shuffle=True)"
   ]
  },
  {
   "cell_type": "markdown",
   "metadata": {
    "id": "ma5XLalQr9_p"
   },
   "source": [
    "Lets take a look to the mini-batch size and plot a sample."
   ]
  },
  {
   "cell_type": "code",
   "execution_count": null,
   "metadata": {
    "colab": {
     "base_uri": "https://localhost:8080/"
    },
    "executionInfo": {
     "elapsed": 1606,
     "status": "ok",
     "timestamp": 1614601591124,
     "user": {
      "displayName": "JOSE ANTONIO JIJON VORBECK",
      "photoUrl": "",
      "userId": "12531941878311717446"
     },
     "user_tz": -60
    },
    "id": "z536aiwbr9_q",
    "outputId": "d28802f9-9f51-49b7-c72e-f333583a73d5"
   },
   "outputs": [
    {
     "name": "stdout",
     "output_type": "stream",
     "text": [
      "<class 'torch.Tensor'>\n",
      "torch.Size([64, 1, 28, 28])\n",
      "torch.Size([64])\n"
     ]
    }
   ],
   "source": [
    "dataiter = iter(trainloader)   #To iterate through the dataset\n",
    "\n",
    "images, labels = dataiter.next()\n",
    "print(type(images))\n",
    "print(images.shape)\n",
    "print(labels.shape)\n"
   ]
  },
  {
   "cell_type": "markdown",
   "metadata": {
    "id": "05kLNsV8r9_q"
   },
   "source": [
    "This is what one of the images looks like. "
   ]
  },
  {
   "cell_type": "code",
   "execution_count": null,
   "metadata": {
    "colab": {
     "base_uri": "https://localhost:8080/",
     "height": 282
    },
    "executionInfo": {
     "elapsed": 1835,
     "status": "ok",
     "timestamp": 1614601591365,
     "user": {
      "displayName": "JOSE ANTONIO JIJON VORBECK",
      "photoUrl": "",
      "userId": "12531941878311717446"
     },
     "user_tz": -60
    },
    "id": "AbEEDcDAr9_r",
    "outputId": "b2f51d8d-54dd-4dd4-9349-f2254bd7de00"
   },
   "outputs": [
    {
     "name": "stdout",
     "output_type": "stream",
     "text": [
      "Digit associated to this is: 1\n"
     ]
    },
    {
     "data": {
      "image/png": "[encoded data removed]",
      "text/plain": [
       "<Figure size 432x288 with 1 Axes>"
      ]
     },
     "metadata": {
      "image/png": {
       "height": 248,
       "width": 251
      },
      "tags": []
     },
     "output_type": "display_data"
    }
   ],
   "source": [
    "plt.imshow(images[1].numpy().reshape([28,28]), cmap='Greys_r')\n",
    "print(f'Digit associated to this is: {labels[1].item()}')"
   ]
  },
  {
   "cell_type": "markdown",
   "metadata": {
    "id": "SxH4lrgsr9_r"
   },
   "source": [
    "## Part II. Visualize overfiting\n",
    "\n",
    "> **Exercise**: Train a Neural Network with four layers, hidden dimmensions 256, 128 and 64 neurons. Use ReLU activation functions, and a log-Softmax output layer. To do so, complete the following steps: \n",
    "> - Create a class defining the NN model \n",
    "> - Extend the class to incorporate a training method. **Call it trainloop instead of train**. The reason will be clear later.\n",
    "> - Train the model for 30 epochs and evaluate train/test performance"
   ]
  },
  {
   "cell_type": "code",
   "execution_count": null,
   "metadata": {
    "id": "Vjzib0zWr9_r"
   },
   "outputs": [],
   "source": [
    "# Creating the NN class\n",
    "class MLP(nn.Module):\n",
    "    def __init__(self, dimx, nlabels, hidden1=256, hidden2=128, hidden3=64):\n",
    "        super().__init__()\n",
    "  \n",
    "        # first layer\n",
    "        self.output1 = nn.Linear(dimx,hidden1)\n",
    "        # second layer\n",
    "        self.output2 = nn.Linear(hidden1, hidden2)\n",
    "        # third layer\n",
    "        self.output3 = nn.Linear(hidden2, hidden3)\n",
    "        # fourth layer\n",
    "        self.output4 = nn.Linear(hidden3, nlabels)\n",
    "  \n",
    "        # ReLu activation function\n",
    "        self.relu = nn.ReLU()\n",
    "        # log-softmax activation fun.\n",
    "        self.logsoft = nn.LogSoftmax(dim=1)\n",
    "\n",
    "\n",
    "    def forward(self, x):\n",
    "\n",
    "        # first layer\n",
    "        x = self.relu(self.output1(x))\n",
    "        # second layer\n",
    "        x = self.relu(self.output2(x))\n",
    "        # third layer\n",
    "        x = self.relu(self.output3(x))\n",
    "        # fourth layer\n",
    "        x = self.logsoft(self.output4(x))\n",
    "        return x"
   ]
  },
  {
   "cell_type": "code",
   "execution_count": null,
   "metadata": {
    "id": "ByGpsK0Hr9_s"
   },
   "outputs": [],
   "source": [
    "# Now we create the class that we will use for training and testing\n",
    "class MLP_extended(MLP):\n",
    "    def __init__(self, dimx, nlabels, hidden1=256, hidden2=128, hidden3=64, epochs=30, lr = 1e-3):\n",
    "        super().__init__(dimx, nlabels, hidden1=256, hidden2=128, hidden3=64)\n",
    "    \n",
    "        # attributes:\n",
    "    \n",
    "        self.lr = lr        # learning rate\n",
    "        self.optim = optim.Adam(self.parameters(), self.lr)   #optimizer\n",
    "        self.epochs = epochs    # epochs\n",
    "        self.criterion = nn.NLLLoss()\n",
    "\n",
    "        # create a list to store the loss at each epoch:\n",
    "        self.loss_during_training = []\n",
    "\n",
    "    def trainloop(self, loader):\n",
    "\n",
    "          # optimization loop\n",
    "\n",
    "        for j in range(int(self.epochs)):   # looping for all the epochs\n",
    "\n",
    "            # making the error equal to zero:\n",
    "            running_loss = 0\n",
    "\n",
    "            for images, labels in loader:\n",
    "\n",
    "                self.optim.zero_grad()\n",
    "\n",
    "                # get output of value:\n",
    "                out = self.forward(images.view(images.shape[0], -1))\n",
    "\n",
    "                # computing the loss\n",
    "                loss = self.criterion(out, labels)\n",
    "\n",
    "                # adding up to the running loss\n",
    "                running_loss += loss.item()\n",
    "                loss.backward()\n",
    "                # changing the parameters with the optimizer:\n",
    "                self.optim.step()\n",
    "\n",
    "\n",
    "            # appending the avg. running_loss to the epoch error list:\n",
    "            self.loss_during_training.append(running_loss/len(trainloader))\n",
    "\n",
    "            # printing the errors:\n",
    "            if(j % 10 == 0):\n",
    "                print(f'Training Loss after {j} epochs: {self.loss_during_training[-1]}')\n",
    "\n",
    "\n",
    "    def accuracy(self, loader, part):\n",
    "\n",
    "        accuracy = 0\n",
    "\n",
    "        with torch.no_grad():\n",
    "\n",
    "          for images, labels in loader:\n",
    "\n",
    "            logprobs = self.forward(images.view(images.shape[0], -1))\n",
    "            top_p, top_class = logprobs.topk(1, dim=1)\n",
    "\n",
    "            equals = (top_class == labels.view(images.shape[0], -1))\n",
    "\n",
    "            accuracy += torch.mean(equals.type(torch.FloatTensor))\n",
    "\n",
    "        # printing the accuracy: \n",
    "\n",
    "        print(f'The accuracy in the {part} dataset is: {accuracy/len(loader)}')\n"
   ]
  },
  {
   "cell_type": "code",
   "execution_count": null,
   "metadata": {
    "colab": {
     "base_uri": "https://localhost:8080/"
    },
    "executionInfo": {
     "elapsed": 146285,
     "status": "ok",
     "timestamp": 1614602125402,
     "user": {
      "displayName": "JOSE ANTONIO JIJON VORBECK",
      "photoUrl": "",
      "userId": "12531941878311717446"
     },
     "user_tz": -60
    },
    "id": "26NvPpGRr9_t",
    "outputId": "aca6bf76-bc24-4395-e292-fea25475e4a3"
   },
   "outputs": [
    {
     "name": "stdout",
     "output_type": "stream",
     "text": [
      "Training Loss after 0 epochs: 0.5227527167560704\n",
      "Training Loss after 10 epochs: 0.2186413343940208\n",
      "Training Loss after 20 epochs: 0.15034523246480203\n"
     ]
    }
   ],
   "source": [
    "#YOUR CODE HERE\n",
    "# training and evaluating the model:\n",
    "dimx = 28*28\n",
    "my_MLP = MLP_extended(dimx, 10)\n",
    "# train the model\n",
    "my_MLP.trainloop(trainloader)"
   ]
  },
  {
   "cell_type": "code",
   "execution_count": null,
   "metadata": {
    "colab": {
     "base_uri": "https://localhost:8080/"
    },
    "executionInfo": {
     "elapsed": 14529,
     "status": "ok",
     "timestamp": 1614602139915,
     "user": {
      "displayName": "JOSE ANTONIO JIJON VORBECK",
      "photoUrl": "",
      "userId": "12531941878311717446"
     },
     "user_tz": -60
    },
    "id": "thH9TLCfoy2h",
    "outputId": "681dc6e3-6502-4be0-bfc0-af69706ebf38"
   },
   "outputs": [
    {
     "name": "stdout",
     "output_type": "stream",
     "text": [
      "The accuracy in the training dataset is: 0.9643356800079346\n",
      "The accuracy in the testing dataset is: 0.8887341022491455\n"
     ]
    }
   ],
   "source": [
    "# training accuracy\n",
    "my_MLP.accuracy(trainloader, 'training')\n",
    "# testing accuracy\n",
    "my_MLP.accuracy(testloader, 'testing')"
   ]
  },
  {
   "cell_type": "markdown",
   "metadata": {
    "id": "6zgNQPxMr9_u"
   },
   "source": [
    "In light of the train/test performance, certainly the model is performing significantly better in the train set than in the test set. This is a sign of overfitting. For an early detection of overfitting, we will make use of a **validation set** that we will use to visualize the evolution of the loss function during training. \n",
    "\n",
    "With the following code we split the train set into one training set (45k images) and a validation set (15k images). We do a naive splitting assuming that the data is randomized. **Keep in mind that in general you can do something smarter than this like K-Fold cross validation**, but here we keep it simple.\n",
    "\n"
   ]
  },
  {
   "cell_type": "code",
   "execution_count": null,
   "metadata": {
    "id": "6stascs7r9_u"
   },
   "outputs": [],
   "source": [
    "import copy\n",
    "\n",
    "\n",
    "validloader = copy.deepcopy(trainloader)  # Creates a copy of the object \n",
    "\n",
    "#We take the first 45k images for training\n",
    "trainloader.dataset.data = trainloader.dataset.data[:45000,:,:]\n",
    "trainloader.dataset.targets = trainloader.dataset.targets[:45000]\n",
    "\n",
    "#And the rest for validation\n",
    "validloader.dataset.data = validloader.dataset.data[45000:,:,:]\n",
    "validloader.dataset.targets = validloader.dataset.targets[45000:]\n",
    "\n"
   ]
  },
  {
   "cell_type": "markdown",
   "metadata": {
    "id": "hpqmK-PPr9_v"
   },
   "source": [
    "> **Exercise**: Modify your code class above so that, during training, everytime an epoch is finished you compute the loss function over the validation set. You must store these values into a list name as `valid_loss_during_training`. When performing this step, do not forget to turn off gradients by using `with torch.no_grad()`.\n",
    ">\n",
    ">Then, repeat the training (30 epochs) and plot the train/validation loss along epochs. Compute the final train/validation/test performance."
   ]
  },
  {
   "cell_type": "code",
   "execution_count": null,
   "metadata": {
    "id": "iv5GAViwr9_w"
   },
   "outputs": [],
   "source": [
    "#YOUR CODE HERE\n",
    "\n",
    "# Now add the computation of the loss with respect to the validation set\n",
    "class MLP_extended2(MLP):\n",
    "    def __init__(self, dimx, nlabels, hidden1=256, hidden2=128, hidden3=64, epochs=30, lr = 1e-3):\n",
    "        super().__init__(dimx, nlabels, hidden1=256, hidden2=128, hidden3=64)\n",
    "    \n",
    "        # attributes:\n",
    "    \n",
    "        self.lr = lr        # learning rate\n",
    "        self.optim = optim.Adam(self.parameters(), self.lr)   #optimizer\n",
    "        self.epochs = epochs    # epochs\n",
    "        self.criterion = nn.NLLLoss()\n",
    "\n",
    "        # create a list to store the loss at each epoch:\n",
    "        self.loss_during_training = []\n",
    "\n",
    "        # create a list to store the loss over validation:\n",
    "        self.valid_loss_during_training = []\n",
    "\n",
    "    def trainloop(self, trainloader, validloader):\n",
    "\n",
    "          # optimization loop\n",
    "\n",
    "        for j in range(int(self.epochs)):   # looping for all the epochs\n",
    "\n",
    "            # making the error equal to zero:\n",
    "            running_loss = 0\n",
    "            valid_loss = 0\n",
    "\n",
    "            for images, labels in trainloader:\n",
    "\n",
    "                self.optim.zero_grad()\n",
    "\n",
    "                # get output of value:\n",
    "                out = self.forward(images.view(images.shape[0], -1))\n",
    "\n",
    "                # computing the loss\n",
    "                loss = self.criterion(out, labels)\n",
    "\n",
    "                # adding up to the running loss\n",
    "                running_loss += loss.item()\n",
    "                loss.backward()\n",
    "                # changing the parameters with the optimizer:\n",
    "                self.optim.step()\n",
    "\n",
    "            \n",
    "            # computation of the loss w.r.t the validation:\n",
    "            with torch.no_grad():\n",
    "\n",
    "              for images_valid, labels_valid in validloader:\n",
    "\n",
    "                out_valid = self.forward(images_valid.view(images_valid.shape[0], -1))\n",
    "\n",
    "                loss_valid = self.criterion(out_valid, labels_valid)\n",
    "\n",
    "                valid_loss += loss_valid\n",
    "\n",
    "            # appending the avg. running_loss to the epoch error list:\n",
    "            self.loss_during_training.append(running_loss/len(trainloader))\n",
    "            # appending the validation loss\n",
    "            self.valid_loss_during_training.append(valid_loss/len(validloader))\n",
    "\n",
    "            # printing the errors for both training and validation datasets:\n",
    "            if(j % 5 == 0):\n",
    "                print(f'Training Loss after {j} epochs: {self.loss_during_training[-1]}')\n",
    "                print(f'Validation Loss after {j} epochs: {self.valid_loss_during_training[-1]}')\n",
    "\n",
    "\n",
    "\n",
    "\n",
    "    def accuracy(self, loader, part='Training'):\n",
    "\n",
    "        accuracy = 0\n",
    "\n",
    "        with torch.no_grad():\n",
    "\n",
    "          for images, labels in loader:\n",
    "\n",
    "            logprobs = self.forward(images.view(images.shape[0], -1))\n",
    "            top_p, top_class = logprobs.topk(1, dim=1)\n",
    "\n",
    "            equals = (top_class == labels.view(images.shape[0], -1))\n",
    "\n",
    "            accuracy += torch.mean(equals.type(torch.FloatTensor))\n",
    "\n",
    "        # printing the accuracy: \n",
    "\n",
    "        print(f'The accuracy in the {part} dataset is: {accuracy/len(loader)}')\n",
    "\n"
   ]
  },
  {
   "cell_type": "code",
   "execution_count": null,
   "metadata": {
    "colab": {
     "base_uri": "https://localhost:8080/"
    },
    "executionInfo": {
     "elapsed": 474121,
     "status": "ok",
     "timestamp": 1614602614030,
     "user": {
      "displayName": "JOSE ANTONIO JIJON VORBECK",
      "photoUrl": "",
      "userId": "12531941878311717446"
     },
     "user_tz": -60
    },
    "id": "nLHkDspPpFqq",
    "outputId": "1de98008-8785-46ae-d0f8-0c043ecfc24d"
   },
   "outputs": [
    {
     "name": "stdout",
     "output_type": "stream",
     "text": [
      "Training Loss after 0 epochs: 0.5440986867232079\n",
      "Validation Loss after 0 epochs: 0.4118369519710541\n",
      "Training Loss after 5 epochs: 0.28982503241224383\n",
      "Validation Loss after 5 epochs: 0.3415098190307617\n",
      "Training Loss after 10 epochs: 0.22652374262477018\n",
      "Validation Loss after 10 epochs: 0.329180508852005\n",
      "Training Loss after 15 epochs: 0.18169970120321854\n",
      "Validation Loss after 15 epochs: 0.3516446650028229\n",
      "Training Loss after 20 epochs: 0.14814237852856008\n",
      "Validation Loss after 20 epochs: 0.3994126617908478\n",
      "Training Loss after 25 epochs: 0.12133623772057366\n",
      "Validation Loss after 25 epochs: 0.439168244600296\n"
     ]
    }
   ],
   "source": [
    "# now we train and implement the new method:\n",
    "\n",
    "my_mlp = MLP_extended2(dimx, 10)\n",
    "my_mlp.trainloop(trainloader, validloader)"
   ]
  },
  {
   "cell_type": "code",
   "execution_count": null,
   "metadata": {
    "id": "YpB068VCrRqX"
   },
   "outputs": [],
   "source": [
    "plt.plot(my_mlp.loss_during_training)\n",
    "plt.plot(my_mlp.valid_loss_during_training)\n",
    "plt.xlabel('Epochs')\n",
    "plt.ylabel('Loss')\n",
    "plt.title('Training and Validation Errors during training')\n",
    "plt.show()"
   ]
  },
  {
   "cell_type": "code",
   "execution_count": null,
   "metadata": {
    "id": "h0cVo1HisRIS"
   },
   "outputs": [],
   "source": [
    "# now we get the performances of all datasets:\n",
    "my_mlp.accuracy(trainloader, 'training')\n",
    "my_mlp.accuracy(validloader, 'validation')\n",
    "my_mlp.accuracy(testloader, 'testing')"
   ]
  },
  {
   "cell_type": "markdown",
   "metadata": {
    "id": "2R4Gwy8zr9_w"
   },
   "source": [
    "If we look at the training and validation losses as we train the network, we can see a phenomenon known as overfitting. \n",
    "\n",
    "The network learns the training set better and better, resulting in lower training losses. However, it starts having problems generalizing to data outside the training set leading to the validation loss increasing. The ultimate goal of any deep learning model is to make predictions on new data, so we should strive to get the lowest validation loss possible. One option is to use the version of the model with the lowest validation loss, here the one around 8-10 training epochs. This strategy is called *early-stopping*. In practice, you'd save the model frequently as you're training then later choose the model with the lowest validation loss. **Note that with early stopping we are using the validation set to select the appropiate number of epochs.**\n",
    "\n",
    "> **Exercise:** According to your results, re-train the model again for the right number of epochs (just before the validation loss starts to grow). Compare the train, validation and test performance."
   ]
  },
  {
   "cell_type": "code",
   "execution_count": null,
   "metadata": {
    "colab": {
     "base_uri": "https://localhost:8080/"
    },
    "executionInfo": {
     "elapsed": 121867,
     "status": "ok",
     "timestamp": 1614602938187,
     "user": {
      "displayName": "JOSE ANTONIO JIJON VORBECK",
      "photoUrl": "",
      "userId": "12531941878311717446"
     },
     "user_tz": -60
    },
    "id": "sDt3iYGZr9_x",
    "outputId": "1e8da216-e232-4e4c-b389-34dc3c287080"
   },
   "outputs": [
    {
     "name": "stdout",
     "output_type": "stream",
     "text": [
      "Training Loss after 0 epochs: 0.5527474085736851\n",
      "Validation Loss after 0 epochs: 0.4212166965007782\n",
      "Training Loss after 5 epochs: 0.29019215573895385\n",
      "Validation Loss after 5 epochs: 0.3700103163719177\n"
     ]
    }
   ],
   "source": [
    "#YOUR CODE HERE\n",
    "# get the epoch that has the lowest validation loss:\n",
    "epoch = my_mlp.valid_loss_during_training.index(min(my_mlp.valid_loss_during_training)) + 1 # subtract 1 because of the index\n",
    "\n",
    "# now we train the model with only that number of epochs:\n",
    "my_mlp2 = MLP_extended2(dimx, 10, epochs=epoch)\n",
    "my_mlp2.trainloop(trainloader, validloader)"
   ]
  },
  {
   "cell_type": "code",
   "execution_count": null,
   "metadata": {
    "colab": {
     "base_uri": "https://localhost:8080/"
    },
    "executionInfo": {
     "elapsed": 135728,
     "status": "ok",
     "timestamp": 1614602952054,
     "user": {
      "displayName": "JOSE ANTONIO JIJON VORBECK",
      "photoUrl": "",
      "userId": "12531941878311717446"
     },
     "user_tz": -60
    },
    "id": "EZ_9MkVsvyF_",
    "outputId": "d53dd9f0-b043-4b19-b201-4524726c118b"
   },
   "outputs": [
    {
     "name": "stdout",
     "output_type": "stream",
     "text": [
      "The accuracy in the training dataset is: 0.9161710143089294\n",
      "The accuracy in the validation dataset is: 0.8859707713127136\n",
      "The accuracy in the testing dataset is: 0.8771895170211792\n"
     ]
    }
   ],
   "source": [
    "# now we see the performance of each case:\n",
    "my_mlp2.accuracy(trainloader, 'training')\n",
    "my_mlp2.accuracy(validloader, 'validation')\n",
    "my_mlp2.accuracy(testloader, 'testing')"
   ]
  },
  {
   "cell_type": "code",
   "execution_count": null,
   "metadata": {
    "colab": {
     "base_uri": "https://localhost:8080/"
    },
    "executionInfo": {
     "elapsed": 135726,
     "status": "ok",
     "timestamp": 1614602952056,
     "user": {
      "displayName": "JOSE ANTONIO JIJON VORBECK",
      "photoUrl": "",
      "userId": "12531941878311717446"
     },
     "user_tz": -60
    },
    "id": "w2mg43b_wL0U",
    "outputId": "3789b28c-be77-4ec9-f51a-af5566828d42"
   },
   "outputs": [
    {
     "data": {
      "image/png": "[encoded data removed]",
      "text/plain": [
       "<Figure size 432x288 with 1 Axes>"
      ]
     },
     "metadata": {
      "image/png": {
       "height": 277,
       "width": 392
      },
      "tags": []
     },
     "output_type": "display_data"
    }
   ],
   "source": [
    "plt.plot(my_mlp2.loss_during_training)\n",
    "plt.plot(my_mlp2.valid_loss_during_training)\n",
    "plt.xlabel('Epochs')\n",
    "plt.ylabel('Loss')\n",
    "plt.title('Training and Validation Errors during training')\n",
    "plt.show()"
   ]
  },
  {
   "cell_type": "markdown",
   "metadata": {
    "id": "9ov2_9cbr9_y"
   },
   "source": [
    "## Part III. Using Dropout Regularization\n",
    "\n",
    "The most common method to reduce overfitting (outside of early-stopping) is *dropout*, where we randomly drop input units. This forces the network to share information between weights, increasing it's ability to generalize to new data. Adding dropout in PyTorch is straightforward using the [`nn.Dropout`](https://pytorch.org/docs/stable/nn.html#torch.nn.Dropout) module.\n",
    "\n",
    "The following code corresponds to a 2 layer NN where we use dropout in the intermediate hidden space:\n",
    "\n",
    "\n",
    "```python\n",
    "class MLP_dropout(nn.Module):\n",
    "    def __init__(self,dimx,hidden1,nlabels): #Nlabels will be 10 in our case\n",
    "        super().__init__()\n",
    "        \n",
    "        self.output1 = nn.Linear(dimx,hidden1)  \n",
    "        \n",
    "        self.output2 = nn.Linear(hidden1,nlabels)\n",
    "    \n",
    "        self.relu = nn.ReLU()\n",
    "        \n",
    "        self.logsoftmax = nn.LogSoftmax(dim=1)  \n",
    "        \n",
    "        # Dropout module with 0.2 drop probability\n",
    "        self.dropout = nn.Dropout(p=0.2)\n",
    "        \n",
    "    def forward(self, x):\n",
    "        # Pass the input tensor through each of our operations\n",
    "        x = self.output1(x)\n",
    "        x = self.relu(x)\n",
    "        x = self.dropout(x)\n",
    "        x = self.output2(x)\n",
    "        x = self.logsoftmax(x) #YOUR CODE HERE\n",
    "        return x\n",
    "\n",
    "```\n",
    "\n",
    "During training we want to use dropout to prevent overfitting, but during inference we want to use the entire network. So, we need to turn off dropout during validation, testing, and whenever we're using the network to make predictions. To do this, you use `self.eval()`. This sets the model to evaluation mode where the dropout probability is 0. You can turn dropout back on by setting the model to train mode with `self.train()` (**This is why we cannot call our training method `train` anymore**). In general, the pattern for the validation loop will look like this, where you turn off gradients, set the model to evaluation mode, calculate the validation loss and metric, then set the model back to train mode.\n",
    "\n",
    "```python\n",
    "# turn off gradients\n",
    "with torch.no_grad():\n",
    "    \n",
    "    # set model to evaluation mode\n",
    "    self.eval()\n",
    "    \n",
    "    # validation pass here\n",
    "    for images, labels in testloader:\n",
    "        ...\n",
    "\n",
    "# set model back to train mode\n",
    "self.train()\n",
    "```\n",
    "\n",
    "> **Exercise:** \n",
    "> - Create a new NN class that modifies the previous one by incorporating a dropout step with `p=0.2`  after every ReLU non-linearity is applied. \n",
    "> - Modified the extended clases to set `model.eval()` when appropiate (do not forget to go back to `model.train()`)\n",
    "> - For this new model, plot the evolution of the training and validation losses. Compare with the case with no dropout. Discuss the results. Is early stopping still required? If so, when you should stop training? Compare the train, validation and test performance.\n",
    "> - Repeat the experiments for a dropout probability of `p=0.1` and `p=0.3`. Which value provides the best validation performance? "
   ]
  },
  {
   "cell_type": "code",
   "execution_count": 88,
   "metadata": {
    "executionInfo": {
     "elapsed": 464,
     "status": "ok",
     "timestamp": 1614607374298,
     "user": {
      "displayName": "JOSE ANTONIO JIJON VORBECK",
      "photoUrl": "",
      "userId": "12531941878311717446"
     },
     "user_tz": -60
    },
    "id": "w_ErYlTFr9_z"
   },
   "outputs": [],
   "source": [
    "# new model applying the dropout option to avoid overfitting\n",
    "class MLPdrop(nn.Module):\n",
    "    def __init__(self, dimx, nlabels, hidden1=256, hidden2=128, hidden3=64, pr=0.2):\n",
    "        super().__init__()\n",
    "  \n",
    "        # first layer\n",
    "        self.output1 = nn.Linear(dimx,hidden1)\n",
    "        # second layer\n",
    "        self.output2 = nn.Linear(hidden1, hidden2)\n",
    "        # third layer\n",
    "        self.output3 = nn.Linear(hidden2, hidden3)\n",
    "        # fourth layer\n",
    "        self.output4 = nn.Linear(hidden3, nlabels)\n",
    "  \n",
    "        # ReLu activation function\n",
    "        self.relu = nn.ReLU()\n",
    "        # log-softmax activation fun.\n",
    "        self.logsoft = nn.LogSoftmax(dim=1)\n",
    "\n",
    "        # Dropout method\n",
    "        self.dropout = nn.Dropout(p=pr)\n",
    "\n",
    "\n",
    "    def forward(self, x):\n",
    "\n",
    "        # first layer\n",
    "        x = self.relu(self.output1(x))\n",
    "        # apply dropout method\n",
    "        x = self.dropout(x)\n",
    "        # second layer\n",
    "        x = self.relu(self.output2(x))\n",
    "        # apply dropout method\n",
    "        x = self.dropout(x)\n",
    "        # third layer\n",
    "        x = self.relu(self.output3(x))\n",
    "        # apply dropout method\n",
    "        x = self.dropout(x)\n",
    "        # fourth layer\n",
    "        x = self.logsoft(self.output4(x))\n",
    "        return x"
   ]
  },
  {
   "cell_type": "code",
   "execution_count": 98,
   "metadata": {
    "executionInfo": {
     "elapsed": 487,
     "status": "ok",
     "timestamp": 1614608375302,
     "user": {
      "displayName": "JOSE ANTONIO JIJON VORBECK",
      "photoUrl": "",
      "userId": "12531941878311717446"
     },
     "user_tz": -60
    },
    "id": "Wsp8O0q8r9_1"
   },
   "outputs": [],
   "source": [
    "class MLPdrop_extended(MLPdrop):\n",
    "    def __init__(self, dimx, nlabels, hidden1=256, hidden2=128, hidden3=64, pr = 0.2, epochs=30, lr = 1e-3):\n",
    "        super().__init__(dimx, nlabels, hidden1=hidden1, hidden2=hidden2, hidden3=hidden3, pr=pr)\n",
    "    \n",
    "        # attributes:\n",
    "    \n",
    "        self.lr = lr        # learning rate\n",
    "        self.optim = optim.Adam(self.parameters(), self.lr)   #optimizer\n",
    "        self.epochs = epochs    # epochs\n",
    "        self.criterion = nn.NLLLoss()\n",
    "\n",
    "        # create a list to store the loss at each epoch:\n",
    "        self.loss_during_training = []\n",
    "\n",
    "        # create a list to store the loss over validation:\n",
    "        self.valid_loss_during_training = []\n",
    "\n",
    "    def trainloop(self, trainloader, validloader):\n",
    "\n",
    "      # setting training mode on\n",
    "\n",
    "        # optimization loop\n",
    "\n",
    "        for j in range(int(self.epochs)):   # looping for all the epochs\n",
    "\n",
    "            # making the error equal to zero:\n",
    "            running_loss = 0.\n",
    "            valid_loss = 0.\n",
    "\n",
    "            for images, labels in trainloader:\n",
    "\n",
    "                self.optim.zero_grad()\n",
    "                self.train()\n",
    "\n",
    "                # get output of value:\n",
    "                out = self.forward(images.view(images.shape[0], -1))\n",
    "\n",
    "                # computing the loss\n",
    "                loss = self.criterion(out, labels)\n",
    "\n",
    "                # adding up to the running loss\n",
    "                running_loss += loss.item()\n",
    "                loss.backward()\n",
    "                # changing the parameters with the optimizer:\n",
    "                self.optim.step()\n",
    "\n",
    "            \n",
    "            # computation of the loss w.r.t the validation:\n",
    "            with torch.no_grad():\n",
    "\n",
    "              self.eval()\n",
    "\n",
    "              for images_valid, labels_valid in validloader:\n",
    "\n",
    "                out_valid = self.forward(images_valid.view(images_valid.shape[0], -1))\n",
    "\n",
    "                loss_valid = self.criterion(out_valid, labels_valid)\n",
    "\n",
    "                valid_loss += loss_valid\n",
    "\n",
    "            self.train()\n",
    "\n",
    "            # appending the avg. running_loss to the epoch error list:\n",
    "            self.loss_during_training.append(running_loss/len(trainloader))\n",
    "            # appending the validation loss\n",
    "            self.valid_loss_during_training.append(valid_loss/len(validloader))\n",
    "\n",
    "            # printing the errors for both training and validation datasets:\n",
    "            if(j % 5 == 0):\n",
    "                print(f'Training Loss after {j} epochs: {self.loss_during_training[-1]}')\n",
    "                print(f'Validation Loss after {j} epochs: {self.valid_loss_during_training[-1]}')\n",
    "\n",
    "\n",
    "\n",
    "\n",
    "    def accuracy(self, loader, part='Training'):\n",
    "\n",
    "      # setting evaluation mode on:\n",
    "        self.eval()\n",
    "\n",
    "        accuracy = 0\n",
    "\n",
    "        with torch.no_grad():\n",
    "\n",
    "          for images, labels in loader:\n",
    "\n",
    "            logprobs = self.forward(images.view(images.shape[0], -1))\n",
    "            top_p, top_class = logprobs.topk(1, dim=1)\n",
    "\n",
    "            equals = (top_class == labels.view(images.shape[0], -1))\n",
    "\n",
    "            accuracy += torch.mean(equals.type(torch.FloatTensor))\n",
    "\n",
    "        self.accu = accuracy/len(loader)\n",
    "\n",
    "        # printing the accuracy: \n",
    "\n",
    "        print(f'The accuracy in the {part} dataset is: {self.accu}')\n",
    "        return self.accu\n",
    "\n"
   ]
  },
  {
   "cell_type": "markdown",
   "metadata": {
    "id": "qSglOX6qfIAM"
   },
   "source": [
    "Now we will analyize this method plotting the training and validation loss scores during training"
   ]
  },
  {
   "cell_type": "code",
   "execution_count": 94,
   "metadata": {
    "colab": {
     "base_uri": "https://localhost:8080/"
    },
    "executionInfo": {
     "elapsed": 468797,
     "status": "ok",
     "timestamp": 1614608051713,
     "user": {
      "displayName": "JOSE ANTONIO JIJON VORBECK",
      "photoUrl": "",
      "userId": "12531941878311717446"
     },
     "user_tz": -60
    },
    "id": "DkVKi5Lxr9_2",
    "outputId": "1c6bde20-72c4-434b-af60-72eea1d5cceb"
   },
   "outputs": [
    {
     "name": "stdout",
     "output_type": "stream",
     "text": [
      "Training Loss after 0 epochs: 0.6453288567083125\n",
      "Validation Loss after 0 epochs: 0.45299968123435974\n",
      "Training Loss after 5 epochs: 0.3541334473993629\n",
      "Validation Loss after 5 epochs: 0.36842992901802063\n",
      "Training Loss after 10 epochs: 0.3060508081795309\n",
      "Validation Loss after 10 epochs: 0.3443754017353058\n",
      "Training Loss after 15 epochs: 0.2738312553000552\n",
      "Validation Loss after 15 epochs: 0.3275904357433319\n",
      "Training Loss after 20 epochs: 0.25203285145107657\n",
      "Validation Loss after 20 epochs: 0.33536118268966675\n",
      "Training Loss after 25 epochs: 0.23323547171788628\n",
      "Validation Loss after 25 epochs: 0.3344140350818634\n"
     ]
    }
   ],
   "source": [
    "mlp_drop = MLPdrop_extended(dimx, 10, pr = 0.2)\n",
    "mlp_drop.trainloop(trainloader, validloader)"
   ]
  },
  {
   "cell_type": "code",
   "execution_count": 95,
   "metadata": {
    "colab": {
     "base_uri": "https://localhost:8080/",
     "height": 294
    },
    "executionInfo": {
     "elapsed": 468306,
     "status": "ok",
     "timestamp": 1614608052058,
     "user": {
      "displayName": "JOSE ANTONIO JIJON VORBECK",
      "photoUrl": "",
      "userId": "12531941878311717446"
     },
     "user_tz": -60
    },
    "id": "uYiR5Z-Pfmjr",
    "outputId": "8ee30ed5-899b-4214-a2fe-ec354f4f84bc"
   },
   "outputs": [
    {
     "data": {
      "image/png": "[encoded data removed]",
      "text/plain": [
       "<Figure size 432x288 with 1 Axes>"
      ]
     },
     "metadata": {
      "image/png": {
       "height": 277,
       "width": 387
      },
      "needs_background": "light",
      "tags": []
     },
     "output_type": "display_data"
    }
   ],
   "source": [
    "# plotting the training and validation training_losses\n",
    "plt.plot(mlp_drop.loss_during_training)\n",
    "plt.plot(mlp_drop.valid_loss_during_training)\n",
    "plt.xlabel('Epochs')\n",
    "plt.ylabel('Loss')\n",
    "plt.title('Training and Validation Errors with 0.2 Dropout prob.')\n",
    "plt.show()"
   ]
  },
  {
   "cell_type": "code",
   "execution_count": 96,
   "metadata": {
    "colab": {
     "base_uri": "https://localhost:8080/"
    },
    "executionInfo": {
     "elapsed": 479278,
     "status": "ok",
     "timestamp": 1614608066533,
     "user": {
      "displayName": "JOSE ANTONIO JIJON VORBECK",
      "photoUrl": "",
      "userId": "12531941878311717446"
     },
     "user_tz": -60
    },
    "id": "FQuv4Z27fzy9",
    "outputId": "88ea8806-a447-4416-902d-330bfb1bcb2b"
   },
   "outputs": [
    {
     "name": "stdout",
     "output_type": "stream",
     "text": [
      "The accuracy in the training dataset is: 0.9349920153617859\n",
      "The accuracy in the validation dataset is: 0.8919326663017273\n",
      "The accuracy in the Testing dataset is: 0.8843550682067871\n"
     ]
    }
   ],
   "source": [
    "# getting the accuracies of each of the datasets:\n",
    "acc_02_training       = mlp_drop.accuracy(trainloader, 'training')\n",
    "acc_02_validation = mlp_drop.accuracy(validloader, 'validation')\n",
    "acc_02_testing    = mlp_drop.accuracy(testloader, 'Testing')"
   ]
  },
  {
   "cell_type": "code",
   "execution_count": 99,
   "metadata": {
    "executionInfo": {
     "elapsed": 446,
     "status": "ok",
     "timestamp": 1614608388457,
     "user": {
      "displayName": "JOSE ANTONIO JIJON VORBECK",
      "photoUrl": "",
      "userId": "12531941878311717446"
     },
     "user_tz": -60
    },
    "id": "0pRHZv6ug6XG"
   },
   "outputs": [],
   "source": [
    "Performance_02 = {'Training': acc_02_training.item(), 'Validating': acc_02_validation.item(), 'Testing': acc_02_testing.item()}"
   ]
  },
  {
   "cell_type": "markdown",
   "metadata": {
    "id": "lACxQcZ0gLaz"
   },
   "source": [
    "Now we repeat the process but with dropout probablity of 0.1 and 0.3"
   ]
  },
  {
   "cell_type": "markdown",
   "metadata": {
    "id": "WbQrhrewgSbQ"
   },
   "source": [
    "**Dropout Probability 0.1**"
   ]
  },
  {
   "cell_type": "code",
   "execution_count": 100,
   "metadata": {
    "colab": {
     "base_uri": "https://localhost:8080/"
    },
    "executionInfo": {
     "elapsed": 491002,
     "status": "ok",
     "timestamp": 1614608888628,
     "user": {
      "displayName": "JOSE ANTONIO JIJON VORBECK",
      "photoUrl": "",
      "userId": "12531941878311717446"
     },
     "user_tz": -60
    },
    "id": "ictj4eXlr9_3",
    "outputId": "9f462972-1634-4bb5-8dad-7398189657f8"
   },
   "outputs": [
    {
     "name": "stdout",
     "output_type": "stream",
     "text": [
      "Training Loss after 0 epochs: 0.5998896992426704\n",
      "Validation Loss after 0 epochs: 0.4376060664653778\n",
      "Training Loss after 5 epochs: 0.3193197828315368\n",
      "Validation Loss after 5 epochs: 0.33498522639274597\n",
      "Training Loss after 10 epochs: 0.2629936729896475\n",
      "Validation Loss after 10 epochs: 0.3294782042503357\n",
      "Training Loss after 15 epochs: 0.23033836105076427\n",
      "Validation Loss after 15 epochs: 0.3305032551288605\n",
      "Training Loss after 20 epochs: 0.20418958315117794\n",
      "Validation Loss after 20 epochs: 0.352048397064209\n",
      "Training Loss after 25 epochs: 0.18643437905649823\n",
      "Validation Loss after 25 epochs: 0.3500632643699646\n"
     ]
    }
   ],
   "source": [
    "# instantiate and train the model\n",
    "mlp_drop1 = MLPdrop_extended(dimx, 10, pr = 0.1)\n",
    "mlp_drop1.trainloop(trainloader, validloader)"
   ]
  },
  {
   "cell_type": "code",
   "execution_count": 101,
   "metadata": {
    "colab": {
     "base_uri": "https://localhost:8080/",
     "height": 294
    },
    "executionInfo": {
     "elapsed": 491466,
     "status": "ok",
     "timestamp": 1614608889111,
     "user": {
      "displayName": "JOSE ANTONIO JIJON VORBECK",
      "photoUrl": "",
      "userId": "12531941878311717446"
     },
     "user_tz": -60
    },
    "id": "uAxs_8czr9_3",
    "outputId": "c51fcabe-b128-4f6e-d639-cfc3ec4dbdaa"
   },
   "outputs": [
    {
     "data": {
      "image/png": "[encoded data removed]",
      "text/plain": [
       "<Figure size 432x288 with 1 Axes>"
      ]
     },
     "metadata": {
      "image/png": {
       "height": 277,
       "width": 387
      },
      "needs_background": "light",
      "tags": []
     },
     "output_type": "display_data"
    }
   ],
   "source": [
    "# plotting the training and validation training_losses\n",
    "plt.plot(mlp_drop1.loss_during_training)\n",
    "plt.plot(mlp_drop1.valid_loss_during_training)\n",
    "plt.xlabel('Epochs')\n",
    "plt.ylabel('Loss')\n",
    "plt.title('Training and Validation Errors with 0.1 Dropout prob.')\n",
    "plt.show()"
   ]
  },
  {
   "cell_type": "code",
   "execution_count": 102,
   "metadata": {
    "colab": {
     "base_uri": "https://localhost:8080/"
    },
    "executionInfo": {
     "elapsed": 505631,
     "status": "ok",
     "timestamp": 1614608903289,
     "user": {
      "displayName": "JOSE ANTONIO JIJON VORBECK",
      "photoUrl": "",
      "userId": "12531941878311717446"
     },
     "user_tz": -60
    },
    "id": "fIz8Hu7rr9_4",
    "outputId": "eb0e04a4-fd19-4030-d7ca-6fdc90a37bbb"
   },
   "outputs": [
    {
     "name": "stdout",
     "output_type": "stream",
     "text": [
      "The accuracy in the training dataset is: 0.9501065611839294\n",
      "The accuracy in the validation dataset is: 0.8930186033248901\n",
      "The accuracy in the testing dataset is: 0.8889331221580505\n"
     ]
    }
   ],
   "source": [
    "acc_01_training   = mlp_drop1.accuracy(trainloader, 'training')\n",
    "acc_01_validation = mlp_drop1.accuracy(validloader, 'validation')\n",
    "acc_01_testing    = mlp_drop1.accuracy(testloader, 'testing')"
   ]
  },
  {
   "cell_type": "code",
   "execution_count": 103,
   "metadata": {
    "executionInfo": {
     "elapsed": 505624,
     "status": "ok",
     "timestamp": 1614608903290,
     "user": {
      "displayName": "JOSE ANTONIO JIJON VORBECK",
      "photoUrl": "",
      "userId": "12531941878311717446"
     },
     "user_tz": -60
    },
    "id": "eHRlA5EwkZPf"
   },
   "outputs": [],
   "source": [
    "Performance_01 = {'Training': acc_01_training.item(), 'Validating': acc_01_validation.item(), 'Testing': acc_01_testing.item()}"
   ]
  },
  {
   "cell_type": "markdown",
   "metadata": {
    "id": "ZGXwFqdmgm37"
   },
   "source": [
    "**Dropout Probability 0.3**"
   ]
  },
  {
   "cell_type": "code",
   "execution_count": 104,
   "metadata": {
    "colab": {
     "base_uri": "https://localhost:8080/"
    },
    "executionInfo": {
     "elapsed": 1027035,
     "status": "ok",
     "timestamp": 1614609424706,
     "user": {
      "displayName": "JOSE ANTONIO JIJON VORBECK",
      "photoUrl": "",
      "userId": "12531941878311717446"
     },
     "user_tz": -60
    },
    "id": "2Rp1nPPXgqeM",
    "outputId": "dbc66c76-0886-4276-ccfc-fd94cecc8ea0"
   },
   "outputs": [
    {
     "name": "stdout",
     "output_type": "stream",
     "text": [
      "Training Loss after 0 epochs: 0.6951789524914189\n",
      "Validation Loss after 0 epochs: 0.4561971127986908\n",
      "Training Loss after 5 epochs: 0.38696790852753277\n",
      "Validation Loss after 5 epochs: 0.3656851053237915\n",
      "Training Loss after 10 epochs: 0.34143743109466\n",
      "Validation Loss after 10 epochs: 0.336431086063385\n",
      "Training Loss after 15 epochs: 0.3139994402352551\n",
      "Validation Loss after 15 epochs: 0.3269636332988739\n",
      "Training Loss after 20 epochs: 0.2910950188419189\n",
      "Validation Loss after 20 epochs: 0.3285420835018158\n",
      "Training Loss after 25 epochs: 0.2794605693938634\n",
      "Validation Loss after 25 epochs: 0.3114241659641266\n"
     ]
    }
   ],
   "source": [
    "# instantiate and train the model\n",
    "mlp_drop3 = MLPdrop_extended(dimx, 10, pr = 0.3)\n",
    "mlp_drop3.trainloop(trainloader, validloader)"
   ]
  },
  {
   "cell_type": "code",
   "execution_count": 105,
   "metadata": {
    "colab": {
     "base_uri": "https://localhost:8080/",
     "height": 294
    },
    "executionInfo": {
     "elapsed": 1027375,
     "status": "ok",
     "timestamp": 1614609425056,
     "user": {
      "displayName": "JOSE ANTONIO JIJON VORBECK",
      "photoUrl": "",
      "userId": "12531941878311717446"
     },
     "user_tz": -60
    },
    "id": "nEZ0Buulgvj4",
    "outputId": "fc558e56-75bb-4133-c7f1-766fc3f99f2d"
   },
   "outputs": [
    {
     "data": {
      "image/png": "[encoded data removed]",
      "text/plain": [
       "<Figure size 432x288 with 1 Axes>"
      ]
     },
     "metadata": {
      "image/png": {
       "height": 277,
       "width": 387
      },
      "needs_background": "light",
      "tags": []
     },
     "output_type": "display_data"
    }
   ],
   "source": [
    "# plotting the training and validation training_losses\n",
    "plt.plot(mlp_drop3.loss_during_training)\n",
    "plt.plot(mlp_drop3.valid_loss_during_training)\n",
    "plt.xlabel('Epochs')\n",
    "plt.ylabel('Loss')\n",
    "plt.title('Training and Validation Errors with 0.3 Dropout prob.')\n",
    "plt.show()"
   ]
  },
  {
   "cell_type": "code",
   "execution_count": 106,
   "metadata": {
    "colab": {
     "base_uri": "https://localhost:8080/"
    },
    "executionInfo": {
     "elapsed": 1042843,
     "status": "ok",
     "timestamp": 1614609440542,
     "user": {
      "displayName": "JOSE ANTONIO JIJON VORBECK",
      "photoUrl": "",
      "userId": "12531941878311717446"
     },
     "user_tz": -60
    },
    "id": "bzANPgsjgvdo",
    "outputId": "5f75ebdb-af62-418a-ec04-11b8f3e85b1e"
   },
   "outputs": [
    {
     "name": "stdout",
     "output_type": "stream",
     "text": [
      "The accuracy in the training dataset is: 0.9187899231910706\n",
      "The accuracy in the validation dataset is: 0.8861702084541321\n",
      "The accuracy in the testing dataset is: 0.8774880766868591\n"
     ]
    }
   ],
   "source": [
    "acc_03_training   = mlp_drop3.accuracy(trainloader, 'training')\n",
    "acc_03_validation = mlp_drop3.accuracy(validloader, 'validation')\n",
    "acc_03_testing    = mlp_drop3.accuracy(testloader, 'testing')"
   ]
  },
  {
   "cell_type": "code",
   "execution_count": 107,
   "metadata": {
    "executionInfo": {
     "elapsed": 1042843,
     "status": "ok",
     "timestamp": 1614609440544,
     "user": {
      "displayName": "JOSE ANTONIO JIJON VORBECK",
      "photoUrl": "",
      "userId": "12531941878311717446"
     },
     "user_tz": -60
    },
    "id": "GdpUHAWFkdgG"
   },
   "outputs": [],
   "source": [
    "Performance_03 = {'Training': acc_03_training.item(), 'Validating': acc_03_validation.item(), 'Testing': acc_03_testing.item()}"
   ]
  },
  {
   "cell_type": "code",
   "execution_count": 108,
   "metadata": {
    "colab": {
     "base_uri": "https://localhost:8080/",
     "height": 142
    },
    "executionInfo": {
     "elapsed": 1042834,
     "status": "ok",
     "timestamp": 1614609440547,
     "user": {
      "displayName": "JOSE ANTONIO JIJON VORBECK",
      "photoUrl": "",
      "userId": "12531941878311717446"
     },
     "user_tz": -60
    },
    "id": "f3_wGn_RgvVs",
    "outputId": "3875285f-4977-4d80-c79b-5623a2aa7976"
   },
   "outputs": [
    {
     "data": {
      "text/html": [
       "<div>\n",
       "<style scoped>\n",
       "    .dataframe tbody tr th:only-of-type {\n",
       "        vertical-align: middle;\n",
       "    }\n",
       "\n",
       "    .dataframe tbody tr th {\n",
       "        vertical-align: top;\n",
       "    }\n",
       "\n",
       "    .dataframe thead th {\n",
       "        text-align: right;\n",
       "    }\n",
       "</style>\n",
       "<table border=\"1\" class=\"dataframe\">\n",
       "  <thead>\n",
       "    <tr style=\"text-align: right;\">\n",
       "      <th></th>\n",
       "      <th>Dropout Prob: 0.1</th>\n",
       "      <th>Dropout Prob: 0.2</th>\n",
       "      <th>Dropout Prob: 0.3</th>\n",
       "    </tr>\n",
       "  </thead>\n",
       "  <tbody>\n",
       "    <tr>\n",
       "      <th>Training</th>\n",
       "      <td>0.950107</td>\n",
       "      <td>0.934992</td>\n",
       "      <td>0.918790</td>\n",
       "    </tr>\n",
       "    <tr>\n",
       "      <th>Validating</th>\n",
       "      <td>0.893019</td>\n",
       "      <td>0.891933</td>\n",
       "      <td>0.886170</td>\n",
       "    </tr>\n",
       "    <tr>\n",
       "      <th>Testing</th>\n",
       "      <td>0.888933</td>\n",
       "      <td>0.884355</td>\n",
       "      <td>0.877488</td>\n",
       "    </tr>\n",
       "  </tbody>\n",
       "</table>\n",
       "</div>"
      ],
      "text/plain": [
       "            Dropout Prob: 0.1  Dropout Prob: 0.2  Dropout Prob: 0.3\n",
       "Training             0.950107           0.934992           0.918790\n",
       "Validating           0.893019           0.891933           0.886170\n",
       "Testing              0.888933           0.884355           0.877488"
      ]
     },
     "execution_count": 108,
     "metadata": {
      "tags": []
     },
     "output_type": "execute_result"
    }
   ],
   "source": [
    "Performance = {'Dropout Prob: 0.1': Performance_01, 'Dropout Prob: 0.2': Performance_02, 'Dropout Prob: 0.3': Performance_03}\n",
    "pd.DataFrame.from_dict(Performance)"
   ]
  },
  {
   "cell_type": "markdown",
   "metadata": {
    "executionInfo": {
     "elapsed": 1042836,
     "status": "ok",
     "timestamp": 1614609440553,
     "user": {
      "displayName": "JOSE ANTONIO JIJON VORBECK",
      "photoUrl": "",
      "userId": "12531941878311717446"
     },
     "user_tz": -60
    },
    "id": "vLCkuxpAmwS-"
   },
   "source": [
    "We see in the summary table above that the dropout probability affects the traininset performance, but not really the validation and testing sets. Since we see that there is no significant change between the performances of the three cases. And actually it could be also said that it decays in a small amount. \n",
    "\n",
    "In general, the dropout functionality can help decrease the overfitting of the training step, but at least in this example it does not really chanage much the testing performance of the model, once it has been trained. "
   ]
  },
  {
   "cell_type": "code",
   "execution_count": null,
   "metadata": {},
   "outputs": [],
   "source": []
  }
 ],
 "metadata": {
  "colab": {
   "collapsed_sections": [],
   "name": "JijonVorbeck_Lab_2_Part_2.ipynb",
   "provenance": []
  },
  "kernelspec": {
   "display_name": "Python 3",
   "language": "python",
   "name": "python3"
  },
  "language_info": {
   "codemirror_mode": {
    "name": "ipython",
    "version": 3
   },
   "file_extension": ".py",
   "mimetype": "text/x-python",
   "name": "python",
   "nbconvert_exporter": "python",
   "pygments_lexer": "ipython3",
   "version": "3.7.4"
  }
 },
 "nbformat": 4,
 "nbformat_minor": 4
}
