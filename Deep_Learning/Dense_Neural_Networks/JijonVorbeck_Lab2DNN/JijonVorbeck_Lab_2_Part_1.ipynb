{
 "cells": [
  {
   "cell_type": "markdown",
   "metadata": {
    "id": "LT34ob_rmx5c"
   },
   "source": [
    "# Lab 2 (Part 1): Image classification with MLPs\n",
    "\n",
    "**Jose Antonio Jijon Vorbeck - 100438045**\n",
    "\n",
    "\n",
    "------------------------------------------------------\n",
    "*Deep Learning. Master in Big Data Analytics*\n",
    "\n",
    "*Pablo M. Olmos pamartin@ing.uc3m.es*\n",
    "\n",
    "------------------------------------------------------\n",
    "\n",
    "\n",
    "In this second lab of the course, you will implement an image classifier using MLPs. We will use the MNIST dataset, which consists of greyscale handwritten digits. Each image is 28x28 pixels, you can see a sample below"
   ]
  },
  {
   "cell_type": "code",
   "execution_count": 1,
   "metadata": {
    "colab": {
     "base_uri": "https://localhost:8080/",
     "height": 221
    },
    "executionInfo": {
     "elapsed": 1571,
     "status": "ok",
     "timestamp": 1614622312588,
     "user": {
      "displayName": "JOSE ANTONIO JIJON VORBECK",
      "photoUrl": "",
      "userId": "12531941878311717446"
     },
     "user_tz": -60
    },
    "id": "KdzHd-aImx5g",
    "outputId": "07b63c18-30ee-4e53-9429-d8071c1696c7"
   },
   "outputs": [
    {
     "data": {
      "text/html": [
       "<img src=\"https://upload.wikimedia.org/wikipedia/commons/2/27/MnistExamples.png\" width=\"400\" height=\"200\"/>"
      ],
      "text/plain": [
       "<IPython.core.display.Image object>"
      ]
     },
     "execution_count": 1,
     "metadata": {
      "tags": []
     },
     "output_type": "execute_result"
    }
   ],
   "source": [
    "from IPython.display import Image\n",
    "from IPython.core.display import HTML \n",
    "\n",
    "Image(url= \"https://upload.wikimedia.org/wikipedia/commons/2/27/MnistExamples.png\", width=400, height=200)"
   ]
  },
  {
   "cell_type": "markdown",
   "metadata": {
    "id": "Y3XUxTIMmx5i"
   },
   "source": [
    "Our goal is to build a neural network that can take one of these images and predict the digit in the image.\n",
    "\n",
    "Note: a big part of the following material is a personal wrap-up of [Facebook's Deep Learning Course in Udacity](https://www.udacity.com/course/deep-learning-pytorch--ud188). So all credit goes for them!!"
   ]
  },
  {
   "cell_type": "code",
   "execution_count": 2,
   "metadata": {
    "executionInfo": {
     "elapsed": 4369,
     "status": "ok",
     "timestamp": 1614622315407,
     "user": {
      "displayName": "JOSE ANTONIO JIJON VORBECK",
      "photoUrl": "",
      "userId": "12531941878311717446"
     },
     "user_tz": -60
    },
    "id": "lZ_-hPPHmx5i"
   },
   "outputs": [],
   "source": [
    "%matplotlib inline\n",
    "%config InlineBackend.figure_format = 'retina'  #To get figures with high quality!\n",
    "\n",
    "import numpy as np\n",
    "# pytorch package\n",
    "import torch\n",
    "# neural networks\n",
    "from torch import nn\n",
    "# optimizer\n",
    "from torch import optim\n",
    "import matplotlib.pyplot as plt\n",
    "import math"
   ]
  },
  {
   "cell_type": "markdown",
   "metadata": {
    "id": "IRmxSN3mmx5j"
   },
   "source": [
    "## Part I. Download MNIST with `torchvision`\n",
    "\n",
    "First up, we need to get our dataset. This is provided through the `torchvision` package. The [torchvision package](https://pytorch.org/docs/stable/torchvision/index.html) consists of popular datasets, model architectures, and common image transformations for computer vision.\n",
    "\n",
    "\n",
    "The code below will download the MNIST dataset, then create training and test datasets for us. Don't worry too much about the details here, you'll learn more about this later."
   ]
  },
  {
   "cell_type": "code",
   "execution_count": 3,
   "metadata": {
    "colab": {
     "base_uri": "https://localhost:8080/",
     "height": 420,
     "referenced_widgets": [
      "e138f6aa7cd74bf5a3c7d12d3723e4e0",
      "48a68547b50644adb6268d30d09af5cc",
      "45a2b1caef0a496797200ee00475aa6e",
      "648f18115ad54ba59def34ea88e4f918",
      "10fe0f540cf44f4ca528ab100f63046e",
      "b16d1000e1a445dcb331db70726f3306",
      "01c947e01eb6464b9a645b443b218879",
      "8a37043e7f5641e7b69ceeffd83066b1",
      "deaad2f8eea54326b12392e209fd6056",
      "8d4091006ce24adc84e1a354486f3c52",
      "988840f687b243c0a30c144b61c4ca87",
      "3062d91ed84e41c18c5ea14a7cce8502",
      "c19862eefa494e888a1c32b96e60e544",
      "3f9303187796458c975426592c7bdabe",
      "7f073547b42b436a8ffd220fe591bff9",
      "15e5d0f2f3a34edbae50e692f3f5cfaf",
      "25c67db203fc4fdbaf2b623fa367a036",
      "811dab9da9e24dc48d72984b719b7b07",
      "05a505b1d50c463eb98ffee1be093652",
      "6696eb1897664956ad75888d7664d1d4",
      "b1ac85ed33ab47a79d4627e26a8cac59",
      "f0c577b94faf4bfa9f8670f44d3f8e9e",
      "dc79aaaee2bc41778d742ecb79500a22",
      "822e035b700e49c4b1402c9ba7fe82a1",
      "9e2ec968443a417589b12c8cdb929bc5",
      "d60800f5dd744d149932728e51146068",
      "d06c75f8224646f4977ee63e6d685fae",
      "89d35132877e4339856c5bae9077b197",
      "aa6cda9fc61c452eb87a38203bc986ad",
      "c5b349e524244243a76c19d5512c21c4",
      "a7851f87f94447e6b6ac06ea25d98c03",
      "ed312c70cd994e9b8f8d2f64b0784221"
     ]
    },
    "executionInfo": {
     "elapsed": 7597,
     "status": "ok",
     "timestamp": 1614622318645,
     "user": {
      "displayName": "JOSE ANTONIO JIJON VORBECK",
      "photoUrl": "",
      "userId": "12531941878311717446"
     },
     "user_tz": -60
    },
    "id": "F0TBQ4ilmx5j",
    "outputId": "008e9251-74c7-4216-df74-f90f37600d22"
   },
   "outputs": [
    {
     "name": "stdout",
     "output_type": "stream",
     "text": [
      "Downloading http://yann.lecun.com/exdb/mnist/train-images-idx3-ubyte.gz to /root/.pytorch/MNIST_data/MNIST/raw/train-images-idx3-ubyte.gz\n"
     ]
    },
    {
     "data": {
      "application/vnd.jupyter.widget-view+json": {
       "model_id": "e138f6aa7cd74bf5a3c7d12d3723e4e0",
       "version_major": 2,
       "version_minor": 0
      },
      "text/plain": [
       "HBox(children=(FloatProgress(value=1.0, bar_style='info', max=1.0), HTML(value='')))"
      ]
     },
     "metadata": {
      "tags": []
     },
     "output_type": "display_data"
    },
    {
     "name": "stdout",
     "output_type": "stream",
     "text": [
      "Extracting /root/.pytorch/MNIST_data/MNIST/raw/train-images-idx3-ubyte.gz to /root/.pytorch/MNIST_data/MNIST/raw\n",
      "Downloading http://yann.lecun.com/exdb/mnist/train-labels-idx1-ubyte.gz to /root/.pytorch/MNIST_data/MNIST/raw/train-labels-idx1-ubyte.gz\n"
     ]
    },
    {
     "data": {
      "application/vnd.jupyter.widget-view+json": {
       "model_id": "deaad2f8eea54326b12392e209fd6056",
       "version_major": 2,
       "version_minor": 0
      },
      "text/plain": [
       "HBox(children=(FloatProgress(value=1.0, bar_style='info', max=1.0), HTML(value='')))"
      ]
     },
     "metadata": {
      "tags": []
     },
     "output_type": "display_data"
    },
    {
     "name": "stdout",
     "output_type": "stream",
     "text": [
      "Extracting /root/.pytorch/MNIST_data/MNIST/raw/train-labels-idx1-ubyte.gz to /root/.pytorch/MNIST_data/MNIST/raw\n",
      "Downloading http://yann.lecun.com/exdb/mnist/t10k-images-idx3-ubyte.gz to /root/.pytorch/MNIST_data/MNIST/raw/t10k-images-idx3-ubyte.gz\n"
     ]
    },
    {
     "data": {
      "application/vnd.jupyter.widget-view+json": {
       "model_id": "25c67db203fc4fdbaf2b623fa367a036",
       "version_major": 2,
       "version_minor": 0
      },
      "text/plain": [
       "HBox(children=(FloatProgress(value=1.0, bar_style='info', max=1.0), HTML(value='')))"
      ]
     },
     "metadata": {
      "tags": []
     },
     "output_type": "display_data"
    },
    {
     "name": "stdout",
     "output_type": "stream",
     "text": [
      "Extracting /root/.pytorch/MNIST_data/MNIST/raw/t10k-images-idx3-ubyte.gz to /root/.pytorch/MNIST_data/MNIST/raw\n",
      "Downloading http://yann.lecun.com/exdb/mnist/t10k-labels-idx1-ubyte.gz to /root/.pytorch/MNIST_data/MNIST/raw/t10k-labels-idx1-ubyte.gz\n"
     ]
    },
    {
     "data": {
      "application/vnd.jupyter.widget-view+json": {
       "model_id": "9e2ec968443a417589b12c8cdb929bc5",
       "version_major": 2,
       "version_minor": 0
      },
      "text/plain": [
       "HBox(children=(FloatProgress(value=1.0, bar_style='info', max=1.0), HTML(value='')))"
      ]
     },
     "metadata": {
      "tags": []
     },
     "output_type": "display_data"
    },
    {
     "name": "stdout",
     "output_type": "stream",
     "text": [
      "Extracting /root/.pytorch/MNIST_data/MNIST/raw/t10k-labels-idx1-ubyte.gz to /root/.pytorch/MNIST_data/MNIST/raw\n",
      "Processing...\n",
      "\n",
      "\n",
      "\n"
     ]
    },
    {
     "name": "stderr",
     "output_type": "stream",
     "text": [
      "/usr/local/lib/python3.7/dist-packages/torchvision/datasets/mnist.py:480: UserWarning: The given NumPy array is not writeable, and PyTorch does not support non-writeable tensors. This means you can write to the underlying (supposedly non-writeable) NumPy array using the tensor. You may want to copy the array to protect its data or make it writeable before converting it to a tensor. This type of warning will be suppressed for the rest of this program. (Triggered internally at  /pytorch/torch/csrc/utils/tensor_numpy.cpp:141.)\n",
      "  return torch.from_numpy(parsed.astype(m[2], copy=False)).view(*s)\n"
     ]
    },
    {
     "name": "stdout",
     "output_type": "stream",
     "text": [
      "Done!\n"
     ]
    }
   ],
   "source": [
    "### Run this cell\n",
    "\n",
    "from torchvision import datasets, transforms\n",
    "\n",
    "# Define a transform to normalize the data\n",
    "transform = transforms.Compose([transforms.ToTensor(),\n",
    "                              transforms.Normalize((0.5,), (0.5,)),\n",
    "                              ])\n",
    "\n",
    "# Download and load the training  data\n",
    "# getting all the training data in a variable\n",
    "trainset = datasets.MNIST('~/.pytorch/MNIST_data/', download=True, train=True, transform=transform)\n",
    "# need to store this in a trainloder, that contains a list of  xtensors and y tensors\n",
    "# batch size dictates how many items pass at each time, like training in small pieces\n",
    "trainloader = torch.utils.data.DataLoader(trainset, batch_size=64, shuffle=True)\n",
    "\n",
    "# Download and load the test data\n",
    "testset = datasets.MNIST('~/.pytorch/MNIST_data/', download=True, train=False, transform=transform)\n",
    "# we do the same for the testing data\n",
    "testloader = torch.utils.data.DataLoader(testset, batch_size=64, shuffle=True)"
   ]
  },
  {
   "cell_type": "markdown",
   "metadata": {
    "id": "tXbL2wctmx5k"
   },
   "source": [
    "We have the training data loaded into `trainloader` and we make that an iterator with `iter(trainloader)`. Later, we'll use this to loop through the dataset for training, like\n",
    "\n",
    "```python\n",
    "for image, label in trainloader:\n",
    "    ## do things with images and labels\n",
    "```\n",
    "\n",
    "You'll notice I created the `trainloader` with a batch size of 64, and `shuffle=True`. The batch size is the number of images we get in one iteration from the data loader and pass through our network, often called a *batch*. And `shuffle=True` tells it to **shuffle the dataset every time we start going through the data loader again**. But here I'm just grabbing the first batch so we can check out the data. We can see below that `images` is just a tensor with size `(64, 1, 28, 28)`. So, 64 images per batch, **1 color channel**, and 28x28 images."
   ]
  },
  {
   "cell_type": "code",
   "execution_count": 4,
   "metadata": {
    "colab": {
     "base_uri": "https://localhost:8080/"
    },
    "executionInfo": {
     "elapsed": 7584,
     "status": "ok",
     "timestamp": 1614622318647,
     "user": {
      "displayName": "JOSE ANTONIO JIJON VORBECK",
      "photoUrl": "",
      "userId": "12531941878311717446"
     },
     "user_tz": -60
    },
    "id": "7sDgcYLImx5k",
    "outputId": "04f55c41-0f67-49e6-a2da-92605c3c625e"
   },
   "outputs": [
    {
     "name": "stdout",
     "output_type": "stream",
     "text": [
      "<class 'torch.Tensor'>\n",
      "torch.Size([64, 1, 28, 28])\n",
      "torch.Size([64])\n"
     ]
    }
   ],
   "source": [
    "# iter function creates an iterator \n",
    "# every element of this iterator contains 64 images of 1 color and 28by28 and label \n",
    "dataiter = iter(trainloader)   #To iterate through the dataset\n",
    "\n",
    "images, labels = dataiter.next()\n",
    "print(type(images))\n",
    "print(images.shape)\n",
    "print(labels.shape)\n"
   ]
  },
  {
   "cell_type": "markdown",
   "metadata": {
    "id": "WjQMAYygmx5l"
   },
   "source": [
    "This is what one of the images looks like. "
   ]
  },
  {
   "cell_type": "code",
   "execution_count": 5,
   "metadata": {
    "colab": {
     "base_uri": "https://localhost:8080/",
     "height": 299
    },
    "executionInfo": {
     "elapsed": 7573,
     "status": "ok",
     "timestamp": 1614622318648,
     "user": {
      "displayName": "JOSE ANTONIO JIJON VORBECK",
      "photoUrl": "",
      "userId": "12531941878311717446"
     },
     "user_tz": -60
    },
    "id": "Nyi32xOemx5l",
    "outputId": "c42f8917-f273-4d6f-e3d2-4fbd08f317c5"
   },
   "outputs": [
    {
     "name": "stdout",
     "output_type": "stream",
     "text": [
      "tensor(1)\n",
      "\n"
     ]
    },
    {
     "data": {
      "image/png": "[encoded data removed]",
      "text/plain": [
       "<Figure size 432x288 with 1 Axes>"
      ]
     },
     "metadata": {
      "image/png": {
       "height": 248,
       "width": 251
      },
      "needs_background": "light",
      "tags": []
     },
     "output_type": "display_data"
    }
   ],
   "source": [
    "plt.imshow(images[0].view([28,28]), cmap='Greys_r')\n",
    "print(labels[0])"
   ]
  },
  {
   "cell_type": "markdown",
   "metadata": {
    "id": "bIVOBdscmx5l"
   },
   "source": [
    "## Part II. Train a multi-class Logistic Regressor\n",
    "\n",
    "Our first goal is to train a multi-class logistic regressor to evaluate how good it can do in both the training and the test sets. \n",
    "\n",
    "The following code is **almost identical** to the one you used for Lab 1 except for two small details:\n",
    "\n",
    "- We are training a LR classifier with 10 different outputs that implements a **softmax** non-linear function (instead of a binary LR with a sigmoid). \n",
    "\n",
    "- We are using the MNIST database loaded above.\n",
    "\n",
    "We first define the Multi-class Logistic Regressor class\n",
    "\n",
    "> **Exercise**: Complete the following code"
   ]
  },
  {
   "cell_type": "code",
   "execution_count": 6,
   "metadata": {
    "executionInfo": {
     "elapsed": 7560,
     "status": "ok",
     "timestamp": 1614622318650,
     "user": {
      "displayName": "JOSE ANTONIO JIJON VORBECK",
      "photoUrl": "",
      "userId": "12531941878311717446"
     },
     "user_tz": -60
    },
    "id": "h5gTxbTwmx5m"
   },
   "outputs": [],
   "source": [
    "class Multi_LR(nn.Module):\n",
    "    def __init__(self,dimx,nlabels): #Nlabels will be 10 in our case\n",
    "        super().__init__()\n",
    "        \n",
    "        # arguments passed for the first layer are: input and output 'neurons' \n",
    "        # dimx : dimension of x (28*28)\n",
    "        # nlabels : number of digits we want to predict, so it must be 10\n",
    "        self.output = nn.Linear(dimx,nlabels)\n",
    "\n",
    "        self.logsoftmax = nn.LogSoftmax(dim=1)   # NEW w.r.t Lab 1. dim is the dimension along which \n",
    "                                                 #Softmax will be computed (so every slice along dim will sum to 1)\n",
    "        \n",
    "    def forward(self, x):\n",
    "        # Pass the input tensor through each of our operations\n",
    "        x = self.output(x)\n",
    "        x = self.logsoftmax(x)\n",
    "\n",
    "        return x"
   ]
  },
  {
   "cell_type": "markdown",
   "metadata": {
    "id": "owOG69rOmx5m"
   },
   "source": [
    "Note that we use `nn.LogSoftmax` instead of `nn.Softmax()`. In many cases, softmax gives you probabilities which will often be very close to zero or one but floating-point numbers can't accurately represent values near zero or one ([read more here](https://docs.python.org/3/tutorial/floatingpoint.html)). It's usually best to avoid doing calculations with probabilities, typically we use log-probabilities.  The cross entropy loss is obtained by combining `nn.LogSoftmax` with the negative loss likelihood loss `nn.NLLLoss()`.\n",
    "\n",
    "Alternatively, we can use [`nn.CrossEntropyLoss`](https://pytorch.org/docs/stable/nn.html#torch.nn.CrossEntropyLoss). **This criterion combines `nn.LogSoftmax()` and `nn.NLLLoss()` in one single class.**\n",
    "\n",
    "This means we need to pass in the raw output of our network into the loss, not the output of the softmax function. This raw output is usually called the *logits* or *scores*.\n"
   ]
  },
  {
   "cell_type": "markdown",
   "metadata": {
    "id": "C6jipYsVmx5m"
   },
   "source": [
    "Now we implement an extension to the class above (which inheritates from `Multi_LR`) that includes a training method.  One thing, note that MNIST images are of dimension $28\\times28=784$. To feed this image as the input to a `nn.Linear` layer, it has to be converted to a $784\\times 1$ input tensor. \n",
    "\n",
    "> **Exercise**: Complete the following code"
   ]
  },
  {
   "cell_type": "code",
   "execution_count": 7,
   "metadata": {
    "executionInfo": {
     "elapsed": 7554,
     "status": "ok",
     "timestamp": 1614622318651,
     "user": {
      "displayName": "JOSE ANTONIO JIJON VORBECK",
      "photoUrl": "",
      "userId": "12531941878311717446"
     },
     "user_tz": -60
    },
    "id": "qFLgz9Xcmx5n"
   },
   "outputs": [],
   "source": [
    "''' This class inherits from the `Multi_LR` class. So it has the same atributes\n",
    "and methods, and some others that we will add. \n",
    "'''\n",
    "class Multi_LR_extended(Multi_LR):\n",
    "    \n",
    "    def __init__(self,dimx,nlabels,epochs=100,lr=0.001):\n",
    "        \n",
    "        # pass same parameters than parent class\n",
    "        super().__init__(dimx,nlabels)  #To initialize `Multi_LR`!, \n",
    "        \n",
    "        self.lr = lr #Learning Rate\n",
    "        \n",
    "        self.optim = optim.Adam(self.parameters(), self.lr)\n",
    "        \n",
    "        self.epochs = epochs\n",
    "        \n",
    "        self.criterion = nn.NLLLoss()               # NEW w.r.t Lab 1\n",
    "        \n",
    "        # A list to store the loss evolution along training\n",
    "        \n",
    "        self.loss_during_training = [] \n",
    "        \n",
    "    def train(self,trainloader):\n",
    "        \n",
    "        # Optimization Loop\n",
    "        \n",
    "        for e in range(int(self.epochs)):\n",
    "            \n",
    "            # Random data permutation at each epoch\n",
    "            \n",
    "            running_loss = 0.\n",
    "            \n",
    "            for images, labels in trainloader:              # NEW w.r.t Lab 1\n",
    "        \n",
    "                self.optim.zero_grad()  #TO RESET GRADIENTS!\n",
    "            \n",
    "                # get output of last computed value\n",
    "                out = self.forward(images.view(images.shape[0], -1))\n",
    "\n",
    "                #Your code here (multiple lines)\n",
    "\n",
    "                # Compute the loss with these values:\n",
    "                loss = self.criterion(out, labels)\n",
    "\n",
    "                running_loss += loss.item()\n",
    "\n",
    "                # now we compute the backward error of this:\n",
    "                loss.backward()\n",
    "\n",
    "                # finally we run the optimizer:\n",
    "                self.optim.step()\n",
    "\n",
    "\n",
    "            self.loss_during_training.append(running_loss/len(trainloader))\n",
    "\n",
    "            if(e % 1 == 0): # Every 10 epochs\n",
    "\n",
    "                print(\"Training loss after %d epochs: %f\" \n",
    "                      %(e,self.loss_during_training[-1]))\n"
   ]
  },
  {
   "cell_type": "markdown",
   "metadata": {
    "id": "BH3vl5kzmx5o"
   },
   "source": [
    "Ok that was easy, wasn't it? Lets now train the multi-class LR and evaluate the performance in both the training and the test sets.\n"
   ]
  },
  {
   "cell_type": "code",
   "execution_count": 8,
   "metadata": {
    "colab": {
     "base_uri": "https://localhost:8080/"
    },
    "executionInfo": {
     "elapsed": 132881,
     "status": "ok",
     "timestamp": 1614622443986,
     "user": {
      "displayName": "JOSE ANTONIO JIJON VORBECK",
      "photoUrl": "",
      "userId": "12531941878311717446"
     },
     "user_tz": -60
    },
    "id": "_oOPUCJhmx5o",
    "outputId": "e4f3d116-dd90-4ad8-86a0-f2ebf6044be7",
    "scrolled": true
   },
   "outputs": [
    {
     "name": "stdout",
     "output_type": "stream",
     "text": [
      "Training loss after 0 epochs: 0.465543\n",
      "Training loss after 1 epochs: 0.326697\n",
      "Training loss after 2 epochs: 0.307561\n",
      "Training loss after 3 epochs: 0.300417\n",
      "Training loss after 4 epochs: 0.295096\n",
      "Training loss after 5 epochs: 0.290175\n",
      "Training loss after 6 epochs: 0.286855\n",
      "Training loss after 7 epochs: 0.284655\n",
      "Training loss after 8 epochs: 0.282790\n",
      "Training loss after 9 epochs: 0.279769\n"
     ]
    }
   ],
   "source": [
    "my_LR = Multi_LR_extended(dimx=784,nlabels=10,epochs=10,lr=1e-3)\n",
    "\n",
    "my_LR.train(trainloader)\n"
   ]
  },
  {
   "cell_type": "code",
   "execution_count": 9,
   "metadata": {
    "colab": {
     "base_uri": "https://localhost:8080/",
     "height": 278
    },
    "executionInfo": {
     "elapsed": 132872,
     "status": "ok",
     "timestamp": 1614622443990,
     "user": {
      "displayName": "JOSE ANTONIO JIJON VORBECK",
      "photoUrl": "",
      "userId": "12531941878311717446"
     },
     "user_tz": -60
    },
    "id": "OrwAhqhbmx5o",
    "outputId": "efc26bd6-d18d-43dd-dfb0-c3991c5a8d01"
   },
   "outputs": [
    {
     "data": {
      "image/png": "[encoded data removed]",
      "text/plain": [
       "<Figure size 432x288 with 1 Axes>"
      ]
     },
     "metadata": {
      "image/png": {
       "height": 261,
       "width": 398
      },
      "needs_background": "light",
      "tags": []
     },
     "output_type": "display_data"
    }
   ],
   "source": [
    "plt.plot(my_LR.loss_during_training,'-b',label='Cross Entropy Loss')\n",
    "plt.xlabel('Iterations')\n",
    "plt.ylabel('Loss')\n",
    "plt.grid()"
   ]
  },
  {
   "cell_type": "markdown",
   "metadata": {
    "id": "Y6GbUWFjmx5p"
   },
   "source": [
    "To evaluate the performance across the entire test dataset, we will implement a for loop using `testloader` and compute errors per mini-batch. The following code will do the work:"
   ]
  },
  {
   "cell_type": "code",
   "execution_count": 10,
   "metadata": {
    "colab": {
     "base_uri": "https://localhost:8080/"
    },
    "executionInfo": {
     "elapsed": 135029,
     "status": "ok",
     "timestamp": 1614622446160,
     "user": {
      "displayName": "JOSE ANTONIO JIJON VORBECK",
      "photoUrl": "",
      "userId": "12531941878311717446"
     },
     "user_tz": -60
    },
    "id": "zIh_vMe5mx5p",
    "outputId": "8d490f78-bf12-4ef5-bdd6-483e43387d6d"
   },
   "outputs": [
    {
     "name": "stdout",
     "output_type": "stream",
     "text": [
      "Test Accuracy 0.920084\n"
     ]
    }
   ],
   "source": [
    "loss = 0\n",
    "accuracy = 0\n",
    "\n",
    "# Turn off gradients for validation, saves memory and computations\n",
    "with torch.no_grad():\n",
    "\n",
    "    for images,labels in testloader:\n",
    "        \n",
    "        # We use a log-softmax, so what we get are log-probabilities\n",
    "        logprobs = my_LR.forward(images.view(images.shape[0], -1)) \n",
    "        \n",
    "        # get the top probability and class per image\n",
    "        top_p, top_class = logprobs.topk(1, dim=1)\n",
    "        # see if these values are the same (match with the groundtruth)\n",
    "        equals = (top_class == labels.view(images.shape[0], 1))\n",
    "        # if it does, then is 1, if not it is 0\n",
    "        accuracy += torch.mean(equals.type(torch.FloatTensor))\n",
    "    \n",
    "\n",
    "print(\"Test Accuracy %f\" %(accuracy/len(testloader)))"
   ]
  },
  {
   "cell_type": "markdown",
   "metadata": {
    "id": "DrNAx_0Tmx5q"
   },
   "source": [
    "With the probabilities, we can get the most likely class using the `probs.topk` method. This returns the $k$ highest values. Since we just want the most likely class, we can use `probs.topk(1)`. This returns a tuple of the top-$k$ values and the top-$k$ indices. If the highest value is the fifth element, we'll get back 4 as the index.\n",
    "\n",
    "The line \n",
    "```python\n",
    "(top_class == labels.view(images.shape[0], 1))\n",
    "```\n",
    "returns a boolean vector of `True/False` values, indicanting werther `top_class` is equeal to `labels` at every position. Finally, with the line\n",
    "\n",
    "```python\n",
    "equals.type(torch.FloatTensor)\n",
    "```\n",
    "we transform it to real a vector in which `True --> 1.0` and `False --> 0.0`, where we can compute the mean using `torch.mean()`."
   ]
  },
  {
   "cell_type": "markdown",
   "metadata": {
    "id": "GZw-bi0jmx5q"
   },
   "source": [
    "> **Excercise** Modify the code of the `Multi_LR_extended` class so it incorporates a method to evaluate the performance in either the train set or the test set (Use a single method with the proper inputs!). Compute the train/test accuracy using such a method."
   ]
  },
  {
   "cell_type": "code",
   "execution_count": 11,
   "metadata": {
    "executionInfo": {
     "elapsed": 135017,
     "status": "ok",
     "timestamp": 1614622446161,
     "user": {
      "displayName": "JOSE ANTONIO JIJON VORBECK",
      "photoUrl": "",
      "userId": "12531941878311717446"
     },
     "user_tz": -60
    },
    "id": "jMi-BieQmx5r"
   },
   "outputs": [],
   "source": [
    "#YOUR CODE HERE  \n",
    "# modify the class Multi_LR_extended to add a new method 'performance' \n",
    "# it has to work in either the test or train sets\n",
    "# copying the same class from before and modifying it:\n",
    "\n",
    "class Multi_LR_extended(Multi_LR):\n",
    "    \n",
    "    def __init__(self,dimx,nlabels,epochs=100,lr=0.001):\n",
    "        \n",
    "        # pass same parameters than parent class\n",
    "        super().__init__(dimx,nlabels)  #To initialize `Multi_LR`!, \n",
    "        \n",
    "        self.lr = lr #Learning Rate\n",
    "        \n",
    "        self.optim = optim.Adam(self.parameters(), self.lr)\n",
    "        \n",
    "        self.epochs = epochs\n",
    "        \n",
    "        self.criterion = nn.NLLLoss()               # NEW w.r.t Lab 1\n",
    "        \n",
    "        # A list to store the loss evolution along training\n",
    "        \n",
    "        self.loss_during_training = [] \n",
    "        \n",
    "    \n",
    "    def accuracy(self, loader):\n",
    "\n",
    "        accuracy = 0\n",
    "\n",
    "        # Turn off gradients for validation, saves memory and computations\n",
    "        with torch.no_grad():\n",
    "\n",
    "          for images,labels in loader:\n",
    "\n",
    "              # We use a log-softmax, so what we get are log-probabilities\n",
    "              logprobs = self.forward(images.view(images.shape[0], -1)) \n",
    "\n",
    "              # get the top probability and class per image\n",
    "              top_p, top_class = logprobs.topk(1, dim=1)\n",
    "              # see if these values are the same (match with the groundtruth)\n",
    "              equals = (top_class == labels.view(images.shape[0], 1))\n",
    "              # if it does, then is 1, if not it is 0\n",
    "              accuracy += torch.mean(equals.type(torch.FloatTensor))\n",
    "\n",
    "        print(\"Accuracy %f\" %(accuracy/len(loader)))\n",
    "\n",
    "    \n",
    "    def train(self,trainloader):\n",
    "        \n",
    "        # Optimization Loop\n",
    "        \n",
    "        for e in range(int(self.epochs)):\n",
    "            \n",
    "            # Random data permutation at each epoch\n",
    "            \n",
    "            running_loss = 0.\n",
    "            \n",
    "            for images, labels in trainloader:              # NEW w.r.t Lab 1\n",
    "        \n",
    "                self.optim.zero_grad()  #TO RESET GRADIENTS!\n",
    "            \n",
    "                # get output of last computed value\n",
    "                out = self.forward(images.view(images.shape[0], -1))\n",
    "\n",
    "                #Your code here (multiple lines)\n",
    "\n",
    "                # Compute the loss with these values:\n",
    "                loss = self.criterion(out, labels)\n",
    "\n",
    "                running_loss += loss.item()\n",
    "\n",
    "                # now we compute the backward error of this:\n",
    "                loss.backward()\n",
    "\n",
    "                # finally we run the optimizer:\n",
    "                self.optim.step()\n",
    "\n",
    "\n",
    "            self.loss_during_training.append(running_loss/len(trainloader))\n",
    "\n",
    "            if(e % 1 == 0): # Every 10 epochs\n",
    "\n",
    "                print(\"Training loss after %d epochs: %f\" \n",
    "                      %(e,self.loss_during_training[-1]))\n"
   ]
  },
  {
   "cell_type": "code",
   "execution_count": 12,
   "metadata": {
    "colab": {
     "base_uri": "https://localhost:8080/"
    },
    "executionInfo": {
     "elapsed": 257571,
     "status": "ok",
     "timestamp": 1614622568728,
     "user": {
      "displayName": "JOSE ANTONIO JIJON VORBECK",
      "photoUrl": "",
      "userId": "12531941878311717446"
     },
     "user_tz": -60
    },
    "id": "sEHOLce3mx5r",
    "outputId": "1507163c-b06a-4043-e044-1b53099c6952"
   },
   "outputs": [
    {
     "name": "stdout",
     "output_type": "stream",
     "text": [
      "Training loss after 0 epochs: 0.465284\n",
      "Training loss after 1 epochs: 0.325387\n",
      "Training loss after 2 epochs: 0.310647\n",
      "Training loss after 3 epochs: 0.300118\n",
      "Training loss after 4 epochs: 0.296137\n",
      "Training loss after 5 epochs: 0.292431\n",
      "Training loss after 6 epochs: 0.286664\n",
      "Training loss after 7 epochs: 0.285157\n",
      "Training loss after 8 epochs: 0.282413\n",
      "Training loss after 9 epochs: 0.280112\n"
     ]
    }
   ],
   "source": [
    "#YOUR CODE HERE    \n",
    "# try out the method in this part\n",
    "# performance of train\n",
    "# performance of test\n",
    "# dimension must be flat dimension 28*28\n",
    "dimx = images[0].shape[1]*images[0].shape[1]\n",
    "# instantiate the model\n",
    "my_LR = Multi_LR_extended(dimx, 10, epochs=10)\n",
    "# train it with the trainloader\n",
    "my_LR.train(trainloader)"
   ]
  },
  {
   "cell_type": "code",
   "execution_count": 13,
   "metadata": {
    "colab": {
     "base_uri": "https://localhost:8080/"
    },
    "executionInfo": {
     "elapsed": 271225,
     "status": "ok",
     "timestamp": 1614622582398,
     "user": {
      "displayName": "JOSE ANTONIO JIJON VORBECK",
      "photoUrl": "",
      "userId": "12531941878311717446"
     },
     "user_tz": -60
    },
    "id": "ucSNpp09-usr",
    "outputId": "baa7c634-d87f-4a19-8ce6-54a61731ca7c"
   },
   "outputs": [
    {
     "name": "stdout",
     "output_type": "stream",
     "text": [
      "Accuracy 0.916445\n",
      "Accuracy 0.914908\n"
     ]
    }
   ],
   "source": [
    "# now we test the accuracy with testing and training data:\n",
    "# training data:\n",
    "my_LR.accuracy(trainloader)\n",
    "# testing data:\n",
    "my_LR.accuracy(testloader)"
   ]
  },
  {
   "cell_type": "markdown",
   "metadata": {
    "id": "zJI1XucVmx5s"
   },
   "source": [
    "Observe that both values are indeed similar, indicating that the model is not overfitting.  \n",
    "\n",
    "Let's check the values for the weight matrix. For a simpler visualization, we will plot the histogram of all the values in the weight matrix."
   ]
  },
  {
   "cell_type": "code",
   "execution_count": 14,
   "metadata": {
    "colab": {
     "base_uri": "https://localhost:8080/",
     "height": 265
    },
    "executionInfo": {
     "elapsed": 271439,
     "status": "ok",
     "timestamp": 1614622582624,
     "user": {
      "displayName": "JOSE ANTONIO JIJON VORBECK",
      "photoUrl": "",
      "userId": "12531941878311717446"
     },
     "user_tz": -60
    },
    "id": "GwoEtr4Imx5s",
    "outputId": "a7df4eed-fd1e-4b46-d75f-b18a1657de0b"
   },
   "outputs": [
    {
     "data": {
      "image/png": "[encoded data removed]",
      "text/plain": [
       "<Figure size 432x288 with 1 Axes>"
      ]
     },
     "metadata": {
      "image/png": {
       "height": 248,
       "width": 381
      },
      "needs_background": "light",
      "tags": []
     },
     "output_type": "display_data"
    }
   ],
   "source": [
    "plt.hist(my_LR.output.weight.detach().numpy().reshape([-1,]),50) # Modify my_LR by the name of the object you defined above\n",
    "plt.grid()"
   ]
  },
  {
   "cell_type": "code",
   "execution_count": 15,
   "metadata": {
    "colab": {
     "base_uri": "https://localhost:8080/"
    },
    "executionInfo": {
     "elapsed": 271427,
     "status": "ok",
     "timestamp": 1614622582625,
     "user": {
      "displayName": "JOSE ANTONIO JIJON VORBECK",
      "photoUrl": "",
      "userId": "12531941878311717446"
     },
     "user_tz": -60
    },
    "id": "quJC0BuaO1Cg",
    "outputId": "a9c7d936-368c-464e-99e9-3c1adca3f9c8"
   },
   "outputs": [
    {
     "data": {
      "text/plain": [
       "torch.Size([10, 784])"
      ]
     },
     "execution_count": 15,
     "metadata": {
      "tags": []
     },
     "output_type": "execute_result"
    }
   ],
   "source": [
    "# shape of the weights tensor:\n",
    "my_LR.output.weight.shape\n",
    "# we see that we have 10 rows (categories), and 784 columns, same as the \n",
    "# number of pixels we have per image ! 28x28"
   ]
  },
  {
   "cell_type": "markdown",
   "metadata": {
    "id": "YUpltWYamx5s"
   },
   "source": [
    "> **Exercise**: Plot the histogram of the gradients of the loss function w.r.t. every parameter in the model:"
   ]
  },
  {
   "cell_type": "code",
   "execution_count": 16,
   "metadata": {
    "colab": {
     "base_uri": "https://localhost:8080/",
     "height": 265
    },
    "executionInfo": {
     "elapsed": 271669,
     "status": "ok",
     "timestamp": 1614622582881,
     "user": {
      "displayName": "JOSE ANTONIO JIJON VORBECK",
      "photoUrl": "",
      "userId": "12531941878311717446"
     },
     "user_tz": -60
    },
    "id": "pMG_N3rLmx5t",
    "outputId": "ebebc982-6364-4489-d993-0ab4c8612894"
   },
   "outputs": [
    {
     "data": {
      "image/png": "[encoded data removed]",
      "text/plain": [
       "<Figure size 432x288 with 1 Axes>"
      ]
     },
     "metadata": {
      "image/png": {
       "height": 248,
       "width": 390
      },
      "needs_background": "light",
      "tags": []
     },
     "output_type": "display_data"
    }
   ],
   "source": [
    "#YOUR CODE HERE\n",
    "plt.hist(my_LR.output.weight.grad.view([-1,]),50)\n",
    "plt.grid()\n",
    "# we see that all gradients are between [-0.04,0.06], thus they are very small\n",
    "# and close to zero actually"
   ]
  },
  {
   "cell_type": "markdown",
   "metadata": {
    "id": "uncFhnF_mx5t"
   },
   "source": [
    "As we can see most of the gradients are almost zero"
   ]
  },
  {
   "cell_type": "markdown",
   "metadata": {
    "id": "vzJAyuOqmx5t"
   },
   "source": [
    "## Part III. Train a MLP to do the same job\n",
    "\n",
    "Modify the code you have just implemented for a MLP is straightforward. Assume we want to train a MLP with three layers, all using rectified linear units (RELU)s as non-linear activations (except the last layer, that uses a Softmax). The first layer has 128 hidden units and the second 64 of them."
   ]
  },
  {
   "cell_type": "code",
   "execution_count": 17,
   "metadata": {
    "colab": {
     "base_uri": "https://localhost:8080/",
     "height": 321
    },
    "executionInfo": {
     "elapsed": 271653,
     "status": "ok",
     "timestamp": 1614622582883,
     "user": {
      "displayName": "JOSE ANTONIO JIJON VORBECK",
      "photoUrl": "",
      "userId": "12531941878311717446"
     },
     "user_tz": -60
    },
    "id": "qKmQA3Pumx5t",
    "outputId": "c500f05a-df14-46b9-856a-9b5247818196"
   },
   "outputs": [
    {
     "data": {
      "text/html": [
       "<img src=\"https://pytorch.org/docs/stable/_images/ReLU.png\" width=\"500\" height=\"300\"/>"
      ],
      "text/plain": [
       "<IPython.core.display.Image object>"
      ]
     },
     "execution_count": 17,
     "metadata": {
      "tags": []
     },
     "output_type": "execute_result"
    }
   ],
   "source": [
    "Image(url= \"https://pytorch.org/docs/stable/_images/ReLU.png\", width=500, height=300)"
   ]
  },
  {
   "cell_type": "markdown",
   "metadata": {
    "id": "Lc3zdc19mx5u"
   },
   "source": [
    "As with the LR, we create a small class defining the model and then a larger class than inherites from it to incorporate methods to perform both training and model evaluation.\n",
    "\n",
    "> **Exercise**: Complete the code for the following class"
   ]
  },
  {
   "cell_type": "code",
   "execution_count": 18,
   "metadata": {
    "executionInfo": {
     "elapsed": 271648,
     "status": "ok",
     "timestamp": 1614622582890,
     "user": {
      "displayName": "JOSE ANTONIO JIJON VORBECK",
      "photoUrl": "",
      "userId": "12531941878311717446"
     },
     "user_tz": -60
    },
    "id": "D0K4VbQVmx5u"
   },
   "outputs": [],
   "source": [
    "class MLP(nn.Module):\n",
    "    def __init__(self,dimx,hidden1,hidden2,nlabels): #Nlabels will be 10 in our case\n",
    "        super().__init__()\n",
    "        # first layer\n",
    "        self.output1 = nn.Linear(dimx,hidden1)\n",
    "        \n",
    "        # second layer (first hidden)\n",
    "        self.output2 = nn.Linear(hidden1,hidden2)\n",
    "        \n",
    "        # third layer (second hidden)\n",
    "        self.output3 = nn.Linear(hidden2,nlabels)\n",
    "\n",
    "        # Rectified linear units as activation function\n",
    "        self.relu = nn.ReLU()\n",
    "        \n",
    "        # log_softmax function as activation function for last layer\n",
    "        self.logsoftmax = nn.LogSoftmax(dim=1)                                                             \n",
    "        \n",
    "    def forward(self, x):\n",
    "        # Pass the input tensor through each of our operations\n",
    "        # layer 1\n",
    "        x = self.output1(x)\n",
    "        x = self.relu(x)\n",
    "        # layer 2\n",
    "        x = self.output2(x)\n",
    "        x = self.relu(x)\n",
    "        # layer 3\n",
    "        x = self.output3(x)\n",
    "        x = self.logsoftmax(x)\n",
    "        return x"
   ]
  },
  {
   "cell_type": "markdown",
   "metadata": {
    "id": "PpXIaAJ_mx5u"
   },
   "source": [
    "> **Excercise** Create a class `MLP_extended` that incorporates two methods to the former class. One to perform training and one to perform model evaluation. It is just **one line of code** diferent from the code you have done above for the multi-class LR. This is why I like class and structure my code this way!!"
   ]
  },
  {
   "cell_type": "code",
   "execution_count": 19,
   "metadata": {
    "executionInfo": {
     "elapsed": 271828,
     "status": "ok",
     "timestamp": 1614622583075,
     "user": {
      "displayName": "JOSE ANTONIO JIJON VORBECK",
      "photoUrl": "",
      "userId": "12531941878311717446"
     },
     "user_tz": -60
    },
    "id": "3eiObDPJmx5u"
   },
   "outputs": [],
   "source": [
    "# now we create a child class that inherits from MLP\n",
    "class MLP_extended(MLP):\n",
    "\n",
    "    def __init__(self, dimx, hidden1, hidden2, nlabels, epochs=100,lr=0.001):\n",
    "        \n",
    "        # pass same parameters than parent class\n",
    "        super().__init__(dimx, hidden1, hidden2, nlabels) \n",
    "        \n",
    "        self.lr = lr #Learning Rate\n",
    "        \n",
    "        self.optim = optim.Adam(self.parameters(), self.lr)\n",
    "        \n",
    "        self.epochs = epochs\n",
    "        \n",
    "        self.criterion = nn.NLLLoss()              \n",
    "        \n",
    "        # A list to store the loss evolution along training\n",
    "        self.loss_during_training = [] \n",
    "        \n",
    "    \n",
    "    def accuracy(self, loader):\n",
    "\n",
    "        accuracy = 0\n",
    "\n",
    "        # Turn off gradients for validation, saves memory and computations\n",
    "        with torch.no_grad():\n",
    "\n",
    "          for images,labels in loader:\n",
    "\n",
    "              # We use a log-softmax, so what we get are log-probabilities\n",
    "              logprobs = self.forward(images.view(images.shape[0], -1)) \n",
    "\n",
    "              # get the top probability and class per image\n",
    "              top_p, top_class = logprobs.topk(1, dim=1)\n",
    "              # see if these values are the same (match with the groundtruth)\n",
    "              equals = (top_class == labels.view(images.shape[0], 1))\n",
    "              # if it does, then is 1, if not it is 0\n",
    "              accuracy += torch.mean(equals.type(torch.FloatTensor))\n",
    "\n",
    "        print(\"Accuracy %f\" %(accuracy/len(loader)))\n",
    "\n",
    "    def train(self,trainloader):\n",
    "        \n",
    "        # Optimization Loop\n",
    "        \n",
    "        for e in range(int(self.epochs)):\n",
    "            \n",
    "            # Random data permutation at each epoch\n",
    "            \n",
    "            running_loss = 0.\n",
    "            \n",
    "            for images, labels in trainloader:             \n",
    "        \n",
    "                self.optim.zero_grad() \n",
    "            \n",
    "                # get output of last computed value\n",
    "                out = self.forward(images.view(images.shape[0], -1))\n",
    "\n",
    "                #Your code here (multiple lines)\n",
    "\n",
    "                # Compute the loss with these values:\n",
    "                loss = self.criterion(out, labels)\n",
    "\n",
    "                running_loss += loss.item()\n",
    "\n",
    "                # now we compute the backward error of this:\n",
    "                loss.backward()\n",
    "\n",
    "                # finally we run the optimizer:\n",
    "                self.optim.step()\n",
    "\n",
    "\n",
    "            self.loss_during_training.append(running_loss/len(trainloader))\n",
    "\n",
    "            if(e % 1 == 0): # Every 10 epochs\n",
    "\n",
    "                print(\"Training loss after %d epochs: %f\" \n",
    "                      %(e,self.loss_during_training[-1]))\n"
   ]
  },
  {
   "cell_type": "markdown",
   "metadata": {
    "id": "AQVoSnpemx5u"
   },
   "source": [
    "Train the model for 10 epochs and compute the train/test performance. How does it compare with the Logistic Regressor?"
   ]
  },
  {
   "cell_type": "code",
   "execution_count": 20,
   "metadata": {
    "colab": {
     "base_uri": "https://localhost:8080/"
    },
    "executionInfo": {
     "elapsed": 427868,
     "status": "ok",
     "timestamp": 1614622739123,
     "user": {
      "displayName": "JOSE ANTONIO JIJON VORBECK",
      "photoUrl": "",
      "userId": "12531941878311717446"
     },
     "user_tz": -60
    },
    "id": "c4FjqKXqmx5v",
    "outputId": "8f7e077f-243c-4a1a-bf35-77a25c67c5b1"
   },
   "outputs": [
    {
     "name": "stdout",
     "output_type": "stream",
     "text": [
      "Training loss after 0 epochs: 0.389964\n",
      "Training loss after 1 epochs: 0.185214\n",
      "Training loss after 2 epochs: 0.132447\n",
      "Training loss after 3 epochs: 0.108782\n",
      "Training loss after 4 epochs: 0.090064\n",
      "Training loss after 5 epochs: 0.078450\n",
      "Training loss after 6 epochs: 0.071141\n",
      "Training loss after 7 epochs: 0.065522\n",
      "Training loss after 8 epochs: 0.060020\n",
      "Training loss after 9 epochs: 0.055861\n"
     ]
    }
   ],
   "source": [
    "# We initiate and train the model the same way as in the above parts:\n",
    "# first we instantiate it:\n",
    "# dimx = 28x28\n",
    "dimx = images[0].shape[1]*images[0].shape[1]\n",
    "my_MLP = MLP_extended(dimx, 128, 64, 10, epochs=10, lr= 1e-3)\n",
    "# now we train it with the trainloader:\n",
    "my_MLP.train(trainloader)"
   ]
  },
  {
   "cell_type": "code",
   "execution_count": 21,
   "metadata": {
    "colab": {
     "base_uri": "https://localhost:8080/"
    },
    "executionInfo": {
     "elapsed": 427858,
     "status": "ok",
     "timestamp": 1614622739125,
     "user": {
      "displayName": "JOSE ANTONIO JIJON VORBECK",
      "photoUrl": "",
      "userId": "12531941878311717446"
     },
     "user_tz": -60
    },
    "id": "YXWnr-jqp3S9",
    "outputId": "4c0f33e7-9ac5-4378-ac39-dbbe01b5fc9f"
   },
   "outputs": [
    {
     "data": {
      "text/plain": [
       "784"
      ]
     },
     "execution_count": 21,
     "metadata": {
      "tags": []
     },
     "output_type": "execute_result"
    }
   ],
   "source": [
    "images[0].shape[1]*images[0].shape[1]"
   ]
  },
  {
   "cell_type": "code",
   "execution_count": 22,
   "metadata": {
    "colab": {
     "base_uri": "https://localhost:8080/"
    },
    "executionInfo": {
     "elapsed": 442321,
     "status": "ok",
     "timestamp": 1614622753598,
     "user": {
      "displayName": "JOSE ANTONIO JIJON VORBECK",
      "photoUrl": "",
      "userId": "12531941878311717446"
     },
     "user_tz": -60
    },
    "id": "v_49ZoToayjv",
    "outputId": "bc49f74a-97a9-45f4-a296-a26e20bb95fb"
   },
   "outputs": [
    {
     "name": "stdout",
     "output_type": "stream",
     "text": [
      "Accuracy 0.989089\n",
      "Accuracy 0.975617\n"
     ]
    }
   ],
   "source": [
    "# now we get the performances of the models\n",
    "# training set\n",
    "my_MLP.accuracy(trainloader)\n",
    "# testing set\n",
    "my_MLP.accuracy(testloader)"
   ]
  },
  {
   "cell_type": "markdown",
   "metadata": {
    "id": "ZEugysv9mx5v"
   },
   "source": [
    "Wow! Performace is almost perfect with a naive Neural Network!!"
   ]
  },
  {
   "cell_type": "markdown",
   "metadata": {
    "id": "lWzsSGnLmx5v"
   },
   "source": [
    "> **Exercise:** Lets visualize the activations at the ouput of the first layer for a minibatch test images. This will help to identify possible unused hidden units (allways activated/deactivated) and correlated hidden units, e.g. redundant units. Complete the following code."
   ]
  },
  {
   "cell_type": "code",
   "execution_count": 23,
   "metadata": {
    "colab": {
     "base_uri": "https://localhost:8080/",
     "height": 277
    },
    "executionInfo": {
     "elapsed": 443207,
     "status": "ok",
     "timestamp": 1614622754499,
     "user": {
      "displayName": "JOSE ANTONIO JIJON VORBECK",
      "photoUrl": "",
      "userId": "12531941878311717446"
     },
     "user_tz": -60
    },
    "id": "O7uDbX1vmx5v",
    "outputId": "1b0ba7c6-88d4-4895-bdd1-f6a3f8e62118"
   },
   "outputs": [
    {
     "data": {
      "text/plain": [
       "(64, 128)"
      ]
     },
     "execution_count": 23,
     "metadata": {
      "tags": []
     },
     "output_type": "execute_result"
    },
    {
     "data": {
      "image/png": "[encoded data removed]",
      "text/plain": [
       "<Figure size 576x288 with 2 Axes>"
      ]
     },
     "metadata": {
      "image/png": {
       "height": 243,
       "width": 444
      },
      "needs_background": "light",
      "tags": []
     },
     "output_type": "display_data"
    }
   ],
   "source": [
    "# First, we load a test minibatch\n",
    "\n",
    "x_test,y_test = next(iter(testloader)) \n",
    "\n",
    "# Then, we evaluate the output of the first layer of the network for that mini-batch\n",
    "# we must also apply the activation function and then detach it and convert it to numpy array\n",
    "activations = my_MLP.relu(my_MLP.output1(x_test.view(x_test.shape[0],-1))).detach().numpy()\n",
    "\n",
    "# We plot the matrix using matplotlib\n",
    "\n",
    "plt.matshow(activations)\n",
    "\n",
    "plt.colorbar()\n",
    "# shape of the activations:\n",
    "activations.shape"
   ]
  },
  {
   "cell_type": "markdown",
   "metadata": {
    "id": "LKbJthFCmx5v"
   },
   "source": [
    "Based on the plot, do you think there are unsued hidden units in the hidden layer? They are characterize by units that are always active (very high values) or unactive (almost zero values). Plot the variance of the hidden units across the test mini-batch to better visualize these unactive hidden units. "
   ]
  },
  {
   "cell_type": "code",
   "execution_count": 24,
   "metadata": {
    "colab": {
     "base_uri": "https://localhost:8080/",
     "height": 297
    },
    "executionInfo": {
     "elapsed": 443193,
     "status": "ok",
     "timestamp": 1614622754501,
     "user": {
      "displayName": "JOSE ANTONIO JIJON VORBECK",
      "photoUrl": "",
      "userId": "12531941878311717446"
     },
     "user_tz": -60
    },
    "id": "yF2xqd1rmx5v",
    "outputId": "39c0d8cf-65dd-4118-9649-750629ec4f85"
   },
   "outputs": [
    {
     "name": "stdout",
     "output_type": "stream",
     "text": [
      "There are 52 hidden units that are unactive\n"
     ]
    },
    {
     "data": {
      "image/png": "[encoded data removed]",
      "text/plain": [
       "<Figure size 432x288 with 1 Axes>"
      ]
     },
     "metadata": {
      "image/png": {
       "height": 263,
       "width": 382
      },
      "needs_background": "light",
      "tags": []
     },
     "output_type": "display_data"
    }
   ],
   "source": [
    "plt.plot(np.var(activations,0))\n",
    "plt.grid()\n",
    "plt.xlabel('Hidden Unit')\n",
    "plt.ylabel('Activation Variance')\n",
    "\n",
    "print(\"There are {0:d} hidden units that are unactive\".format(np.sum(np.var(activations,0)<=0.1)))\n",
    "unactive = np.sum(np.var(activations,0)<=0.1)"
   ]
  },
  {
   "cell_type": "markdown",
   "metadata": {
    "id": "6AEM2xq9mx5w"
   },
   "source": [
    "> **Exercise**: Retrain the model reducing accordingly the dimension of the first hidden layer. For that model, repeat the analysis to the activations of both the first and the second layer. \n",
    ">\n",
    ">You will notice that in general, unsued activations are prominent in the first layer compared to the second one. >This is in general the case for any NN, as the **loss function is more sensitive to parameter variations in the last >layers**, and hence gradients are higher in magnitude. On the contrary, the **loss function is less senstive to >parameter variations in the first layers** and hence only very relevant parameters are trained (they influence more >in the loss function), while many others vary very little w.r.t. initialization."
   ]
  },
  {
   "cell_type": "code",
   "execution_count": null,
   "metadata": {
    "id": "mfx9l5xzmx5w"
   },
   "outputs": [],
   "source": [
    "my_MLP_lessparams = MLP_extended(dimx, 128-unactive, 64, 10, 10, 1e-3)\n",
    "my_MLP_lessparams.train(trainloader)"
   ]
  },
  {
   "cell_type": "code",
   "execution_count": null,
   "metadata": {
    "id": "KcsPI5E6mx5w"
   },
   "outputs": [],
   "source": [
    "# we compute the activations of the first layer here:\n",
    "activations_1 = my_MLP_lessparams.relu(my_MLP_lessparams.output1(x_test.view(x_test.shape[0],-1))).detach().numpy()\n",
    "\n",
    "# Then, we evaluate the output of the second layer of the network for that mini-batch\n",
    "activations_2 = my_MLP_lessparams.relu(my_MLP_lessparams.output2(torch.tensor(activations_1))).detach().numpy()\n",
    "\n",
    "fig, ax = plt.subplots(nrows=2, ncols=2,figsize=(16, 8))\n",
    "im = ax[0,0].matshow(activations_1)\n",
    "ax[0,0].set_title('Activations in the first layer\\n')\n",
    "\n",
    "ax[0,1].matshow(activations_2)\n",
    "ax[0,1].set_title('Activations in the second layer\\n')\n",
    "\n",
    "ax[1,0].plot(np.var(activations_1,0))\n",
    "ax[1,0].set_title('Activation variance in the first layer\\n')\n",
    "ax[1,0].grid()\n",
    "\n",
    "ax[1,1].plot(np.var(activations_2,0))\n",
    "ax[1,1].set_title('Activation variance in the second layer\\n')\n",
    "ax[1,1].grid()\n",
    "\n",
    "active_layer1 = np.sum(np.var(activations_1,0)<=0.1)\n",
    "active_layer2 = np.sum(np.var(activations_2,0)<=0.1)\n",
    "print(\"In the first layer, there are {0:d} hidden units that are unactive\".format(active_layer1))\n",
    "\n",
    "print(\"In the second layer, there are {0:d} hidden units that are unactive\".format(active_layer2))"
   ]
  },
  {
   "cell_type": "code",
   "execution_count": null,
   "metadata": {
    "id": "_JHGe3zIsEMo"
   },
   "outputs": [],
   "source": [
    "# now we compute the accuracies of the model for both training and testing sets\n",
    "# with the newly trained model\n",
    "my_MLP.accuracy(trainloader)\n",
    "my_MLP.accuracy(testloader)"
   ]
  },
  {
   "cell_type": "markdown",
   "metadata": {
    "id": "1nkRc9Eymx5w"
   },
   "source": [
    "### Part IV. Saving and restoring the model\n",
    "\n",
    "Finally, we will show you how to save and load models (i.e. values of the parameters) with PyTorch. This is important because you'll often want to load previously trained models to use in making predictions or to continue training on new data.\n",
    "\n",
    "As you can imagine, it's impractical to train a network every time you need to use it. Instead, we can save trained networks then load them later to train more or use them for predictions.\n",
    "\n",
    "The parameters for PyTorch networks are stored in a model's `state_dict`. We can see the state dict contains the weight and bias matrices for each of our layers."
   ]
  },
  {
   "cell_type": "code",
   "execution_count": null,
   "metadata": {
    "id": "oUCKUA-Emx5w"
   },
   "outputs": [],
   "source": [
    "print(\"Our model: \\n\\n\", my_MLP, '\\n')\n",
    "print(\"The state dict keys: \\n\\n\", my_MLP.state_dict().keys())"
   ]
  },
  {
   "cell_type": "markdown",
   "metadata": {
    "id": "sIkKlK_rmx5w"
   },
   "source": [
    "The simplest thing to do is simply save the state dict with `torch.save`. For example, we can save it to a file `'checkpoint.pth'`."
   ]
  },
  {
   "cell_type": "code",
   "execution_count": null,
   "metadata": {
    "id": "p3mp-d-Gmx5x"
   },
   "outputs": [],
   "source": [
    "torch.save(my_MLP.state_dict(), 'checkpoint.pth')"
   ]
  },
  {
   "cell_type": "markdown",
   "metadata": {
    "id": "QsPXX-zQmx5x"
   },
   "source": [
    "Then we can load the state dict with `torch.load`."
   ]
  },
  {
   "cell_type": "code",
   "execution_count": null,
   "metadata": {
    "id": "BsPj66mRmx5x"
   },
   "outputs": [],
   "source": [
    "state_dict = torch.load('checkpoint.pth')\n",
    "print(state_dict.keys())"
   ]
  },
  {
   "cell_type": "markdown",
   "metadata": {
    "id": "3gIqvXkmmx5x"
   },
   "source": [
    "And to load the state dict in to the network, you do `my_MLP.load_state_dict(state_dict)`."
   ]
  },
  {
   "cell_type": "code",
   "execution_count": null,
   "metadata": {
    "id": "kJOap05Gmx5x"
   },
   "outputs": [],
   "source": [
    "my_MLP.load_state_dict(state_dict)"
   ]
  },
  {
   "cell_type": "markdown",
   "metadata": {
    "id": "5-0YEWNJmx5x"
   },
   "source": [
    "**Important:** `load_state_dict` will raise an error if the architecture of the network is different from the one saved in the pth file. For example, if we define the following model."
   ]
  },
  {
   "cell_type": "code",
   "execution_count": null,
   "metadata": {
    "id": "cUt5hUeEmx5x"
   },
   "outputs": [],
   "source": [
    "my_MLP2 = MLP_extended(dimx=784,hidden1=256,hidden2=128,nlabels=10,epochs=10,lr=1e-3)"
   ]
  },
  {
   "cell_type": "markdown",
   "metadata": {
    "id": "z0N68j9Rmx5y"
   },
   "source": [
    "which differs from `my_MLP` in the dimension of the hidden layers, we will get an error if we call the method  `load_state_dict(state_dict)`.\n",
    "\n",
    "> **Exercise:** Check that you get an error when trying to initialize my_MLP2 from `state_dict` using the method `load_state_dict`"
   ]
  },
  {
   "cell_type": "code",
   "execution_count": 33,
   "metadata": {
    "colab": {
     "base_uri": "https://localhost:8080/",
     "height": 35
    },
    "executionInfo": {
     "elapsed": 470,
     "status": "ok",
     "timestamp": 1614622935058,
     "user": {
      "displayName": "JOSE ANTONIO JIJON VORBECK",
      "photoUrl": "",
      "userId": "12531941878311717446"
     },
     "user_tz": -60
    },
    "id": "txBhVNUqmx5y",
    "outputId": "c25005f1-2586-4508-80e7-9a2493fc2a4b"
   },
   "outputs": [
    {
     "data": {
      "application/vnd.google.colaboratory.intrinsic+json": {
       "type": "string"
      },
      "text/plain": [
       "'\\nmy_MLP2.load_state_dict(state_dict)\\n'"
      ]
     },
     "execution_count": 0,
     "metadata": {
      "tags": []
     },
     "output_type": "execute_result"
    }
   ],
   "source": [
    "# this will raise an error\n",
    "'''\n",
    "my_MLP2.load_state_dict(state_dict)\n",
    "'''\n",
    "# the architechture of the created model must be the same as the one of the stored one"
   ]
  },
  {
   "cell_type": "markdown",
   "metadata": {
    "id": "blMbaD149Chv"
   },
   "source": [
    "### Creating a new method in the class, that predicts a single digit image, and outputs the predicted value along with its probability \n",
    "\n",
    "I will now add a new method that predicts a single image and outputs the result, this is for visualization purposes only, since I was interested in seeing what the outcome probability of each image is."
   ]
  },
  {
   "cell_type": "code",
   "execution_count": 34,
   "metadata": {
    "colab": {
     "base_uri": "https://localhost:8080/",
     "height": 299
    },
    "executionInfo": {
     "elapsed": 251,
     "status": "ok",
     "timestamp": 1614622935096,
     "user": {
      "displayName": "JOSE ANTONIO JIJON VORBECK",
      "photoUrl": "",
      "userId": "12531941878311717446"
     },
     "user_tz": -60
    },
    "id": "cqsrGkYwmx5y",
    "outputId": "f8a0930f-058a-45e6-bfd1-c5f748322a57"
   },
   "outputs": [
    {
     "name": "stdout",
     "output_type": "stream",
     "text": [
      "The most probable digit for this image is: 1\n"
     ]
    },
    {
     "data": {
      "text/plain": [
       "<matplotlib.image.AxesImage at 0x7efba4441150>"
      ]
     },
     "execution_count": 0,
     "metadata": {
      "tags": []
     },
     "output_type": "execute_result"
    },
    {
     "data": {
      "image/png": "[encoded data removed]",
      "text/plain": [
       "<Figure size 432x288 with 1 Axes>"
      ]
     },
     "metadata": {
      "image/png": {
       "height": 248,
       "width": 251
      },
      "tags": []
     },
     "output_type": "display_data"
    }
   ],
   "source": [
    "x_image, y_label = next(iter(testloader))\n",
    "\n",
    "logprobs = my_LR.forward(x_image[0].view(x_image[0].shape[0], -1)) \n",
    "\n",
    "# get the top probability and class per image\n",
    "top_p, top_class = logprobs.topk(1, dim=1)\n",
    "\n",
    "print(f'The most probable digit for this image is: {top_class.item()}')\n",
    "plt.imshow(x_image[0].view([28,28]), cmap='Greys_r')"
   ]
  },
  {
   "cell_type": "markdown",
   "metadata": {},
   "source": [
    "Here I will create an extended class and add this new method that predicts a single image. This is simply a simplification of the overall batch-classifier that was used before."
   ]
  },
  {
   "cell_type": "code",
   "execution_count": 35,
   "metadata": {
    "executionInfo": {
     "elapsed": 36,
     "status": "ok",
     "timestamp": 1614622934899,
     "user": {
      "displayName": "JOSE ANTONIO JIJON VORBECK",
      "photoUrl": "",
      "userId": "12531941878311717446"
     },
     "user_tz": -60
    },
    "id": "d9x6_JL-mx5y"
   },
   "outputs": [],
   "source": [
    "# adding a method in the class to output the most porbable digit of a single image\n",
    "class MLP_extended_2(MLP_extended):\n",
    "    def __init__(self, dimx, hidden1, hidden2, nlabels, epochs=100,lr=0.001):\n",
    "\n",
    "        super().__init__(dimx, hidden1, hidden2, nlabels, epochs=100,lr=0.001)\n",
    "\n",
    "        self.lr = lr #Learning Rate\n",
    "        \n",
    "        self.optim = optim.Adam(self.parameters(), self.lr)\n",
    "        \n",
    "        self.epochs = epochs\n",
    "        \n",
    "        self.criterion = nn.NLLLoss()              \n",
    "        \n",
    "        # A list to store the loss evolution along training\n",
    "        self.loss_during_training = [] \n",
    "\n",
    "    def predict(self, image):\n",
    "\n",
    "        logprobs = self.forward(image[0].view(image[0].shape[0], -1)) \n",
    "        # get the top probability and class per image\n",
    "        top_p, top_class = logprobs.topk(1, dim=1)\n",
    "        print('The loaded image is the following: ')\n",
    "        plt.imshow(image[0].view([28,28]), cmap='Greys_r')\n",
    "        print(f'The most probable digit for this image is: {top_class.item()} with probablity: {math.e**(top_p.item())}')\n",
    "\n"
   ]
  },
  {
   "cell_type": "code",
   "execution_count": 36,
   "metadata": {
    "colab": {
     "base_uri": "https://localhost:8080/"
    },
    "executionInfo": {
     "elapsed": 51880,
     "status": "ok",
     "timestamp": 1614622986757,
     "user": {
      "displayName": "JOSE ANTONIO JIJON VORBECK",
      "photoUrl": "",
      "userId": "12531941878311717446"
     },
     "user_tz": -60
    },
    "id": "eDQJdsO-ypcC",
    "outputId": "6f98f5b7-7a1d-4767-fba4-d706b988af21"
   },
   "outputs": [
    {
     "name": "stdout",
     "output_type": "stream",
     "text": [
      "Training loss after 0 epochs: 0.392014\n",
      "Training loss after 1 epochs: 0.188357\n",
      "Training loss after 2 epochs: 0.137305\n",
      "Training loss after 3 epochs: 0.112669\n",
      "Training loss after 4 epochs: 0.094480\n"
     ]
    }
   ],
   "source": [
    "other_MLP = MLP_extended_2(dimx, 124, 64, 10, 5)\n",
    "other_MLP.train(trainloader)"
   ]
  },
  {
   "cell_type": "code",
   "execution_count": null,
   "metadata": {
    "id": "446RCJ2ky13X"
   },
   "outputs": [],
   "source": [
    "x_image, y_label = next(iter(testloader))"
   ]
  },
  {
   "cell_type": "code",
   "execution_count": 38,
   "metadata": {
    "colab": {
     "base_uri": "https://localhost:8080/",
     "height": 299
    },
    "executionInfo": {
     "elapsed": 113,
     "status": "ok",
     "timestamp": 1614622987779,
     "user": {
      "displayName": "JOSE ANTONIO JIJON VORBECK",
      "photoUrl": "",
      "userId": "12531941878311717446"
     },
     "user_tz": -60
    },
    "id": "vBRdP2CGy8F3",
    "outputId": "4cd55b41-1eb2-4db5-e640-d3d728454db4"
   },
   "outputs": [
    {
     "name": "stdout",
     "output_type": "stream",
     "text": [
      "The loaded image is the following: \n",
      "The most probable digit for this image is: 8 with probablity: 0.9999710329823779\n"
     ]
    },
    {
     "data": {
      "image/png": "[encoded data removed]",
      "text/plain": [
       "<Figure size 432x288 with 1 Axes>"
      ]
     },
     "metadata": {
      "image/png": {
       "height": 248,
       "width": 251
      },
      "tags": []
     },
     "output_type": "display_data"
    }
   ],
   "source": [
    "other_MLP.predict(x_image)"
   ]
  },
  {
   "cell_type": "code",
   "execution_count": null,
   "metadata": {
    "id": "w9H810p7jtzk"
   },
   "outputs": [],
   "source": []
  }
 ],
 "metadata": {
  "colab": {
   "collapsed_sections": [],
   "name": "JijonVorbeck_Lab_2_Part_1.ipynb",
   "provenance": []
  },
  "kernelspec": {
   "display_name": "Python 3",
   "language": "python",
   "name": "python3"
  },
  "language_info": {
   "codemirror_mode": {
    "name": "ipython",
    "version": 3
   },
   "file_extension": ".py",
   "mimetype": "text/x-python",
   "name": "python",
   "nbconvert_exporter": "python",
   "pygments_lexer": "ipython3",
   "version": "3.7.4"
  },
  "widgets": {
   "application/vnd.jupyter.widget-state+json": {
    "01c947e01eb6464b9a645b443b218879": {
     "model_module": "@jupyter-widgets/controls",
     "model_name": "DescriptionStyleModel",
     "state": {
      "_model_module": "@jupyter-widgets/controls",
      "_model_module_version": "1.5.0",
      "_model_name": "DescriptionStyleModel",
      "_view_count": null,
      "_view_module": "@jupyter-widgets/base",
      "_view_module_version": "1.2.0",
      "_view_name": "StyleView",
      "description_width": ""
     }
    },
    "05a505b1d50c463eb98ffee1be093652": {
     "model_module": "@jupyter-widgets/controls",
     "model_name": "FloatProgressModel",
     "state": {
      "_dom_classes": [],
      "_model_module": "@jupyter-widgets/controls",
      "_model_module_version": "1.5.0",
      "_model_name": "FloatProgressModel",
      "_view_count": null,
      "_view_module": "@jupyter-widgets/controls",
      "_view_module_version": "1.5.0",
      "_view_name": "ProgressView",
      "bar_style": "success",
      "description": "",
      "description_tooltip": null,
      "layout": "IPY_MODEL_f0c577b94faf4bfa9f8670f44d3f8e9e",
      "max": 1,
      "min": 0,
      "orientation": "horizontal",
      "style": "IPY_MODEL_b1ac85ed33ab47a79d4627e26a8cac59",
      "value": 1
     }
    },
    "10fe0f540cf44f4ca528ab100f63046e": {
     "model_module": "@jupyter-widgets/controls",
     "model_name": "ProgressStyleModel",
     "state": {
      "_model_module": "@jupyter-widgets/controls",
      "_model_module_version": "1.5.0",
      "_model_name": "ProgressStyleModel",
      "_view_count": null,
      "_view_module": "@jupyter-widgets/base",
      "_view_module_version": "1.2.0",
      "_view_name": "StyleView",
      "bar_color": null,
      "description_width": "initial"
     }
    },
    "15e5d0f2f3a34edbae50e692f3f5cfaf": {
     "model_module": "@jupyter-widgets/base",
     "model_name": "LayoutModel",
     "state": {
      "_model_module": "@jupyter-widgets/base",
      "_model_module_version": "1.2.0",
      "_model_name": "LayoutModel",
      "_view_count": null,
      "_view_module": "@jupyter-widgets/base",
      "_view_module_version": "1.2.0",
      "_view_name": "LayoutView",
      "align_content": null,
      "align_items": null,
      "align_self": null,
      "border": null,
      "bottom": null,
      "display": null,
      "flex": null,
      "flex_flow": null,
      "grid_area": null,
      "grid_auto_columns": null,
      "grid_auto_flow": null,
      "grid_auto_rows": null,
      "grid_column": null,
      "grid_gap": null,
      "grid_row": null,
      "grid_template_areas": null,
      "grid_template_columns": null,
      "grid_template_rows": null,
      "height": null,
      "justify_content": null,
      "justify_items": null,
      "left": null,
      "margin": null,
      "max_height": null,
      "max_width": null,
      "min_height": null,
      "min_width": null,
      "object_fit": null,
      "object_position": null,
      "order": null,
      "overflow": null,
      "overflow_x": null,
      "overflow_y": null,
      "padding": null,
      "right": null,
      "top": null,
      "visibility": null,
      "width": null
     }
    },
    "25c67db203fc4fdbaf2b623fa367a036": {
     "model_module": "@jupyter-widgets/controls",
     "model_name": "HBoxModel",
     "state": {
      "_dom_classes": [],
      "_model_module": "@jupyter-widgets/controls",
      "_model_module_version": "1.5.0",
      "_model_name": "HBoxModel",
      "_view_count": null,
      "_view_module": "@jupyter-widgets/controls",
      "_view_module_version": "1.5.0",
      "_view_name": "HBoxView",
      "box_style": "",
      "children": [
       "IPY_MODEL_05a505b1d50c463eb98ffee1be093652",
       "IPY_MODEL_6696eb1897664956ad75888d7664d1d4"
      ],
      "layout": "IPY_MODEL_811dab9da9e24dc48d72984b719b7b07"
     }
    },
    "3062d91ed84e41c18c5ea14a7cce8502": {
     "model_module": "@jupyter-widgets/controls",
     "model_name": "HTMLModel",
     "state": {
      "_dom_classes": [],
      "_model_module": "@jupyter-widgets/controls",
      "_model_module_version": "1.5.0",
      "_model_name": "HTMLModel",
      "_view_count": null,
      "_view_module": "@jupyter-widgets/controls",
      "_view_module_version": "1.5.0",
      "_view_name": "HTMLView",
      "description": "",
      "description_tooltip": null,
      "layout": "IPY_MODEL_15e5d0f2f3a34edbae50e692f3f5cfaf",
      "placeholder": "​",
      "style": "IPY_MODEL_7f073547b42b436a8ffd220fe591bff9",
      "value": " 32768/? [00:01&lt;00:00, 21092.56it/s]"
     }
    },
    "3f9303187796458c975426592c7bdabe": {
     "model_module": "@jupyter-widgets/base",
     "model_name": "LayoutModel",
     "state": {
      "_model_module": "@jupyter-widgets/base",
      "_model_module_version": "1.2.0",
      "_model_name": "LayoutModel",
      "_view_count": null,
      "_view_module": "@jupyter-widgets/base",
      "_view_module_version": "1.2.0",
      "_view_name": "LayoutView",
      "align_content": null,
      "align_items": null,
      "align_self": null,
      "border": null,
      "bottom": null,
      "display": null,
      "flex": null,
      "flex_flow": null,
      "grid_area": null,
      "grid_auto_columns": null,
      "grid_auto_flow": null,
      "grid_auto_rows": null,
      "grid_column": null,
      "grid_gap": null,
      "grid_row": null,
      "grid_template_areas": null,
      "grid_template_columns": null,
      "grid_template_rows": null,
      "height": null,
      "justify_content": null,
      "justify_items": null,
      "left": null,
      "margin": null,
      "max_height": null,
      "max_width": null,
      "min_height": null,
      "min_width": null,
      "object_fit": null,
      "object_position": null,
      "order": null,
      "overflow": null,
      "overflow_x": null,
      "overflow_y": null,
      "padding": null,
      "right": null,
      "top": null,
      "visibility": null,
      "width": null
     }
    },
    "45a2b1caef0a496797200ee00475aa6e": {
     "model_module": "@jupyter-widgets/controls",
     "model_name": "FloatProgressModel",
     "state": {
      "_dom_classes": [],
      "_model_module": "@jupyter-widgets/controls",
      "_model_module_version": "1.5.0",
      "_model_name": "FloatProgressModel",
      "_view_count": null,
      "_view_module": "@jupyter-widgets/controls",
      "_view_module_version": "1.5.0",
      "_view_name": "ProgressView",
      "bar_style": "success",
      "description": "",
      "description_tooltip": null,
      "layout": "IPY_MODEL_b16d1000e1a445dcb331db70726f3306",
      "max": 1,
      "min": 0,
      "orientation": "horizontal",
      "style": "IPY_MODEL_10fe0f540cf44f4ca528ab100f63046e",
      "value": 1
     }
    },
    "48a68547b50644adb6268d30d09af5cc": {
     "model_module": "@jupyter-widgets/base",
     "model_name": "LayoutModel",
     "state": {
      "_model_module": "@jupyter-widgets/base",
      "_model_module_version": "1.2.0",
      "_model_name": "LayoutModel",
      "_view_count": null,
      "_view_module": "@jupyter-widgets/base",
      "_view_module_version": "1.2.0",
      "_view_name": "LayoutView",
      "align_content": null,
      "align_items": null,
      "align_self": null,
      "border": null,
      "bottom": null,
      "display": null,
      "flex": null,
      "flex_flow": null,
      "grid_area": null,
      "grid_auto_columns": null,
      "grid_auto_flow": null,
      "grid_auto_rows": null,
      "grid_column": null,
      "grid_gap": null,
      "grid_row": null,
      "grid_template_areas": null,
      "grid_template_columns": null,
      "grid_template_rows": null,
      "height": null,
      "justify_content": null,
      "justify_items": null,
      "left": null,
      "margin": null,
      "max_height": null,
      "max_width": null,
      "min_height": null,
      "min_width": null,
      "object_fit": null,
      "object_position": null,
      "order": null,
      "overflow": null,
      "overflow_x": null,
      "overflow_y": null,
      "padding": null,
      "right": null,
      "top": null,
      "visibility": null,
      "width": null
     }
    },
    "648f18115ad54ba59def34ea88e4f918": {
     "model_module": "@jupyter-widgets/controls",
     "model_name": "HTMLModel",
     "state": {
      "_dom_classes": [],
      "_model_module": "@jupyter-widgets/controls",
      "_model_module_version": "1.5.0",
      "_model_name": "HTMLModel",
      "_view_count": null,
      "_view_module": "@jupyter-widgets/controls",
      "_view_module_version": "1.5.0",
      "_view_name": "HTMLView",
      "description": "",
      "description_tooltip": null,
      "layout": "IPY_MODEL_8a37043e7f5641e7b69ceeffd83066b1",
      "placeholder": "​",
      "style": "IPY_MODEL_01c947e01eb6464b9a645b443b218879",
      "value": " 9920512/? [00:02&lt;00:00, 3528672.14it/s]"
     }
    },
    "6696eb1897664956ad75888d7664d1d4": {
     "model_module": "@jupyter-widgets/controls",
     "model_name": "HTMLModel",
     "state": {
      "_dom_classes": [],
      "_model_module": "@jupyter-widgets/controls",
      "_model_module_version": "1.5.0",
      "_model_name": "HTMLModel",
      "_view_count": null,
      "_view_module": "@jupyter-widgets/controls",
      "_view_module_version": "1.5.0",
      "_view_name": "HTMLView",
      "description": "",
      "description_tooltip": null,
      "layout": "IPY_MODEL_822e035b700e49c4b1402c9ba7fe82a1",
      "placeholder": "​",
      "style": "IPY_MODEL_dc79aaaee2bc41778d742ecb79500a22",
      "value": " 1654784/? [00:01&lt;00:00, 1509331.87it/s]"
     }
    },
    "7f073547b42b436a8ffd220fe591bff9": {
     "model_module": "@jupyter-widgets/controls",
     "model_name": "DescriptionStyleModel",
     "state": {
      "_model_module": "@jupyter-widgets/controls",
      "_model_module_version": "1.5.0",
      "_model_name": "DescriptionStyleModel",
      "_view_count": null,
      "_view_module": "@jupyter-widgets/base",
      "_view_module_version": "1.2.0",
      "_view_name": "StyleView",
      "description_width": ""
     }
    },
    "811dab9da9e24dc48d72984b719b7b07": {
     "model_module": "@jupyter-widgets/base",
     "model_name": "LayoutModel",
     "state": {
      "_model_module": "@jupyter-widgets/base",
      "_model_module_version": "1.2.0",
      "_model_name": "LayoutModel",
      "_view_count": null,
      "_view_module": "@jupyter-widgets/base",
      "_view_module_version": "1.2.0",
      "_view_name": "LayoutView",
      "align_content": null,
      "align_items": null,
      "align_self": null,
      "border": null,
      "bottom": null,
      "display": null,
      "flex": null,
      "flex_flow": null,
      "grid_area": null,
      "grid_auto_columns": null,
      "grid_auto_flow": null,
      "grid_auto_rows": null,
      "grid_column": null,
      "grid_gap": null,
      "grid_row": null,
      "grid_template_areas": null,
      "grid_template_columns": null,
      "grid_template_rows": null,
      "height": null,
      "justify_content": null,
      "justify_items": null,
      "left": null,
      "margin": null,
      "max_height": null,
      "max_width": null,
      "min_height": null,
      "min_width": null,
      "object_fit": null,
      "object_position": null,
      "order": null,
      "overflow": null,
      "overflow_x": null,
      "overflow_y": null,
      "padding": null,
      "right": null,
      "top": null,
      "visibility": null,
      "width": null
     }
    },
    "822e035b700e49c4b1402c9ba7fe82a1": {
     "model_module": "@jupyter-widgets/base",
     "model_name": "LayoutModel",
     "state": {
      "_model_module": "@jupyter-widgets/base",
      "_model_module_version": "1.2.0",
      "_model_name": "LayoutModel",
      "_view_count": null,
      "_view_module": "@jupyter-widgets/base",
      "_view_module_version": "1.2.0",
      "_view_name": "LayoutView",
      "align_content": null,
      "align_items": null,
      "align_self": null,
      "border": null,
      "bottom": null,
      "display": null,
      "flex": null,
      "flex_flow": null,
      "grid_area": null,
      "grid_auto_columns": null,
      "grid_auto_flow": null,
      "grid_auto_rows": null,
      "grid_column": null,
      "grid_gap": null,
      "grid_row": null,
      "grid_template_areas": null,
      "grid_template_columns": null,
      "grid_template_rows": null,
      "height": null,
      "justify_content": null,
      "justify_items": null,
      "left": null,
      "margin": null,
      "max_height": null,
      "max_width": null,
      "min_height": null,
      "min_width": null,
      "object_fit": null,
      "object_position": null,
      "order": null,
      "overflow": null,
      "overflow_x": null,
      "overflow_y": null,
      "padding": null,
      "right": null,
      "top": null,
      "visibility": null,
      "width": null
     }
    },
    "89d35132877e4339856c5bae9077b197": {
     "model_module": "@jupyter-widgets/controls",
     "model_name": "HTMLModel",
     "state": {
      "_dom_classes": [],
      "_model_module": "@jupyter-widgets/controls",
      "_model_module_version": "1.5.0",
      "_model_name": "HTMLModel",
      "_view_count": null,
      "_view_module": "@jupyter-widgets/controls",
      "_view_module_version": "1.5.0",
      "_view_name": "HTMLView",
      "description": "",
      "description_tooltip": null,
      "layout": "IPY_MODEL_ed312c70cd994e9b8f8d2f64b0784221",
      "placeholder": "​",
      "style": "IPY_MODEL_a7851f87f94447e6b6ac06ea25d98c03",
      "value": " 8192/? [00:00&lt;00:00, 15144.95it/s]"
     }
    },
    "8a37043e7f5641e7b69ceeffd83066b1": {
     "model_module": "@jupyter-widgets/base",
     "model_name": "LayoutModel",
     "state": {
      "_model_module": "@jupyter-widgets/base",
      "_model_module_version": "1.2.0",
      "_model_name": "LayoutModel",
      "_view_count": null,
      "_view_module": "@jupyter-widgets/base",
      "_view_module_version": "1.2.0",
      "_view_name": "LayoutView",
      "align_content": null,
      "align_items": null,
      "align_self": null,
      "border": null,
      "bottom": null,
      "display": null,
      "flex": null,
      "flex_flow": null,
      "grid_area": null,
      "grid_auto_columns": null,
      "grid_auto_flow": null,
      "grid_auto_rows": null,
      "grid_column": null,
      "grid_gap": null,
      "grid_row": null,
      "grid_template_areas": null,
      "grid_template_columns": null,
      "grid_template_rows": null,
      "height": null,
      "justify_content": null,
      "justify_items": null,
      "left": null,
      "margin": null,
      "max_height": null,
      "max_width": null,
      "min_height": null,
      "min_width": null,
      "object_fit": null,
      "object_position": null,
      "order": null,
      "overflow": null,
      "overflow_x": null,
      "overflow_y": null,
      "padding": null,
      "right": null,
      "top": null,
      "visibility": null,
      "width": null
     }
    },
    "8d4091006ce24adc84e1a354486f3c52": {
     "model_module": "@jupyter-widgets/base",
     "model_name": "LayoutModel",
     "state": {
      "_model_module": "@jupyter-widgets/base",
      "_model_module_version": "1.2.0",
      "_model_name": "LayoutModel",
      "_view_count": null,
      "_view_module": "@jupyter-widgets/base",
      "_view_module_version": "1.2.0",
      "_view_name": "LayoutView",
      "align_content": null,
      "align_items": null,
      "align_self": null,
      "border": null,
      "bottom": null,
      "display": null,
      "flex": null,
      "flex_flow": null,
      "grid_area": null,
      "grid_auto_columns": null,
      "grid_auto_flow": null,
      "grid_auto_rows": null,
      "grid_column": null,
      "grid_gap": null,
      "grid_row": null,
      "grid_template_areas": null,
      "grid_template_columns": null,
      "grid_template_rows": null,
      "height": null,
      "justify_content": null,
      "justify_items": null,
      "left": null,
      "margin": null,
      "max_height": null,
      "max_width": null,
      "min_height": null,
      "min_width": null,
      "object_fit": null,
      "object_position": null,
      "order": null,
      "overflow": null,
      "overflow_x": null,
      "overflow_y": null,
      "padding": null,
      "right": null,
      "top": null,
      "visibility": null,
      "width": null
     }
    },
    "988840f687b243c0a30c144b61c4ca87": {
     "model_module": "@jupyter-widgets/controls",
     "model_name": "FloatProgressModel",
     "state": {
      "_dom_classes": [],
      "_model_module": "@jupyter-widgets/controls",
      "_model_module_version": "1.5.0",
      "_model_name": "FloatProgressModel",
      "_view_count": null,
      "_view_module": "@jupyter-widgets/controls",
      "_view_module_version": "1.5.0",
      "_view_name": "ProgressView",
      "bar_style": "success",
      "description": "",
      "description_tooltip": null,
      "layout": "IPY_MODEL_3f9303187796458c975426592c7bdabe",
      "max": 1,
      "min": 0,
      "orientation": "horizontal",
      "style": "IPY_MODEL_c19862eefa494e888a1c32b96e60e544",
      "value": 1
     }
    },
    "9e2ec968443a417589b12c8cdb929bc5": {
     "model_module": "@jupyter-widgets/controls",
     "model_name": "HBoxModel",
     "state": {
      "_dom_classes": [],
      "_model_module": "@jupyter-widgets/controls",
      "_model_module_version": "1.5.0",
      "_model_name": "HBoxModel",
      "_view_count": null,
      "_view_module": "@jupyter-widgets/controls",
      "_view_module_version": "1.5.0",
      "_view_name": "HBoxView",
      "box_style": "",
      "children": [
       "IPY_MODEL_d06c75f8224646f4977ee63e6d685fae",
       "IPY_MODEL_89d35132877e4339856c5bae9077b197"
      ],
      "layout": "IPY_MODEL_d60800f5dd744d149932728e51146068"
     }
    },
    "a7851f87f94447e6b6ac06ea25d98c03": {
     "model_module": "@jupyter-widgets/controls",
     "model_name": "DescriptionStyleModel",
     "state": {
      "_model_module": "@jupyter-widgets/controls",
      "_model_module_version": "1.5.0",
      "_model_name": "DescriptionStyleModel",
      "_view_count": null,
      "_view_module": "@jupyter-widgets/base",
      "_view_module_version": "1.2.0",
      "_view_name": "StyleView",
      "description_width": ""
     }
    },
    "aa6cda9fc61c452eb87a38203bc986ad": {
     "model_module": "@jupyter-widgets/controls",
     "model_name": "ProgressStyleModel",
     "state": {
      "_model_module": "@jupyter-widgets/controls",
      "_model_module_version": "1.5.0",
      "_model_name": "ProgressStyleModel",
      "_view_count": null,
      "_view_module": "@jupyter-widgets/base",
      "_view_module_version": "1.2.0",
      "_view_name": "StyleView",
      "bar_color": null,
      "description_width": "initial"
     }
    },
    "b16d1000e1a445dcb331db70726f3306": {
     "model_module": "@jupyter-widgets/base",
     "model_name": "LayoutModel",
     "state": {
      "_model_module": "@jupyter-widgets/base",
      "_model_module_version": "1.2.0",
      "_model_name": "LayoutModel",
      "_view_count": null,
      "_view_module": "@jupyter-widgets/base",
      "_view_module_version": "1.2.0",
      "_view_name": "LayoutView",
      "align_content": null,
      "align_items": null,
      "align_self": null,
      "border": null,
      "bottom": null,
      "display": null,
      "flex": null,
      "flex_flow": null,
      "grid_area": null,
      "grid_auto_columns": null,
      "grid_auto_flow": null,
      "grid_auto_rows": null,
      "grid_column": null,
      "grid_gap": null,
      "grid_row": null,
      "grid_template_areas": null,
      "grid_template_columns": null,
      "grid_template_rows": null,
      "height": null,
      "justify_content": null,
      "justify_items": null,
      "left": null,
      "margin": null,
      "max_height": null,
      "max_width": null,
      "min_height": null,
      "min_width": null,
      "object_fit": null,
      "object_position": null,
      "order": null,
      "overflow": null,
      "overflow_x": null,
      "overflow_y": null,
      "padding": null,
      "right": null,
      "top": null,
      "visibility": null,
      "width": null
     }
    },
    "b1ac85ed33ab47a79d4627e26a8cac59": {
     "model_module": "@jupyter-widgets/controls",
     "model_name": "ProgressStyleModel",
     "state": {
      "_model_module": "@jupyter-widgets/controls",
      "_model_module_version": "1.5.0",
      "_model_name": "ProgressStyleModel",
      "_view_count": null,
      "_view_module": "@jupyter-widgets/base",
      "_view_module_version": "1.2.0",
      "_view_name": "StyleView",
      "bar_color": null,
      "description_width": "initial"
     }
    },
    "c19862eefa494e888a1c32b96e60e544": {
     "model_module": "@jupyter-widgets/controls",
     "model_name": "ProgressStyleModel",
     "state": {
      "_model_module": "@jupyter-widgets/controls",
      "_model_module_version": "1.5.0",
      "_model_name": "ProgressStyleModel",
      "_view_count": null,
      "_view_module": "@jupyter-widgets/base",
      "_view_module_version": "1.2.0",
      "_view_name": "StyleView",
      "bar_color": null,
      "description_width": "initial"
     }
    },
    "c5b349e524244243a76c19d5512c21c4": {
     "model_module": "@jupyter-widgets/base",
     "model_name": "LayoutModel",
     "state": {
      "_model_module": "@jupyter-widgets/base",
      "_model_module_version": "1.2.0",
      "_model_name": "LayoutModel",
      "_view_count": null,
      "_view_module": "@jupyter-widgets/base",
      "_view_module_version": "1.2.0",
      "_view_name": "LayoutView",
      "align_content": null,
      "align_items": null,
      "align_self": null,
      "border": null,
      "bottom": null,
      "display": null,
      "flex": null,
      "flex_flow": null,
      "grid_area": null,
      "grid_auto_columns": null,
      "grid_auto_flow": null,
      "grid_auto_rows": null,
      "grid_column": null,
      "grid_gap": null,
      "grid_row": null,
      "grid_template_areas": null,
      "grid_template_columns": null,
      "grid_template_rows": null,
      "height": null,
      "justify_content": null,
      "justify_items": null,
      "left": null,
      "margin": null,
      "max_height": null,
      "max_width": null,
      "min_height": null,
      "min_width": null,
      "object_fit": null,
      "object_position": null,
      "order": null,
      "overflow": null,
      "overflow_x": null,
      "overflow_y": null,
      "padding": null,
      "right": null,
      "top": null,
      "visibility": null,
      "width": null
     }
    },
    "d06c75f8224646f4977ee63e6d685fae": {
     "model_module": "@jupyter-widgets/controls",
     "model_name": "FloatProgressModel",
     "state": {
      "_dom_classes": [],
      "_model_module": "@jupyter-widgets/controls",
      "_model_module_version": "1.5.0",
      "_model_name": "FloatProgressModel",
      "_view_count": null,
      "_view_module": "@jupyter-widgets/controls",
      "_view_module_version": "1.5.0",
      "_view_name": "ProgressView",
      "bar_style": "success",
      "description": "",
      "description_tooltip": null,
      "layout": "IPY_MODEL_c5b349e524244243a76c19d5512c21c4",
      "max": 1,
      "min": 0,
      "orientation": "horizontal",
      "style": "IPY_MODEL_aa6cda9fc61c452eb87a38203bc986ad",
      "value": 1
     }
    },
    "d60800f5dd744d149932728e51146068": {
     "model_module": "@jupyter-widgets/base",
     "model_name": "LayoutModel",
     "state": {
      "_model_module": "@jupyter-widgets/base",
      "_model_module_version": "1.2.0",
      "_model_name": "LayoutModel",
      "_view_count": null,
      "_view_module": "@jupyter-widgets/base",
      "_view_module_version": "1.2.0",
      "_view_name": "LayoutView",
      "align_content": null,
      "align_items": null,
      "align_self": null,
      "border": null,
      "bottom": null,
      "display": null,
      "flex": null,
      "flex_flow": null,
      "grid_area": null,
      "grid_auto_columns": null,
      "grid_auto_flow": null,
      "grid_auto_rows": null,
      "grid_column": null,
      "grid_gap": null,
      "grid_row": null,
      "grid_template_areas": null,
      "grid_template_columns": null,
      "grid_template_rows": null,
      "height": null,
      "justify_content": null,
      "justify_items": null,
      "left": null,
      "margin": null,
      "max_height": null,
      "max_width": null,
      "min_height": null,
      "min_width": null,
      "object_fit": null,
      "object_position": null,
      "order": null,
      "overflow": null,
      "overflow_x": null,
      "overflow_y": null,
      "padding": null,
      "right": null,
      "top": null,
      "visibility": null,
      "width": null
     }
    },
    "dc79aaaee2bc41778d742ecb79500a22": {
     "model_module": "@jupyter-widgets/controls",
     "model_name": "DescriptionStyleModel",
     "state": {
      "_model_module": "@jupyter-widgets/controls",
      "_model_module_version": "1.5.0",
      "_model_name": "DescriptionStyleModel",
      "_view_count": null,
      "_view_module": "@jupyter-widgets/base",
      "_view_module_version": "1.2.0",
      "_view_name": "StyleView",
      "description_width": ""
     }
    },
    "deaad2f8eea54326b12392e209fd6056": {
     "model_module": "@jupyter-widgets/controls",
     "model_name": "HBoxModel",
     "state": {
      "_dom_classes": [],
      "_model_module": "@jupyter-widgets/controls",
      "_model_module_version": "1.5.0",
      "_model_name": "HBoxModel",
      "_view_count": null,
      "_view_module": "@jupyter-widgets/controls",
      "_view_module_version": "1.5.0",
      "_view_name": "HBoxView",
      "box_style": "",
      "children": [
       "IPY_MODEL_988840f687b243c0a30c144b61c4ca87",
       "IPY_MODEL_3062d91ed84e41c18c5ea14a7cce8502"
      ],
      "layout": "IPY_MODEL_8d4091006ce24adc84e1a354486f3c52"
     }
    },
    "e138f6aa7cd74bf5a3c7d12d3723e4e0": {
     "model_module": "@jupyter-widgets/controls",
     "model_name": "HBoxModel",
     "state": {
      "_dom_classes": [],
      "_model_module": "@jupyter-widgets/controls",
      "_model_module_version": "1.5.0",
      "_model_name": "HBoxModel",
      "_view_count": null,
      "_view_module": "@jupyter-widgets/controls",
      "_view_module_version": "1.5.0",
      "_view_name": "HBoxView",
      "box_style": "",
      "children": [
       "IPY_MODEL_45a2b1caef0a496797200ee00475aa6e",
       "IPY_MODEL_648f18115ad54ba59def34ea88e4f918"
      ],
      "layout": "IPY_MODEL_48a68547b50644adb6268d30d09af5cc"
     }
    },
    "ed312c70cd994e9b8f8d2f64b0784221": {
     "model_module": "@jupyter-widgets/base",
     "model_name": "LayoutModel",
     "state": {
      "_model_module": "@jupyter-widgets/base",
      "_model_module_version": "1.2.0",
      "_model_name": "LayoutModel",
      "_view_count": null,
      "_view_module": "@jupyter-widgets/base",
      "_view_module_version": "1.2.0",
      "_view_name": "LayoutView",
      "align_content": null,
      "align_items": null,
      "align_self": null,
      "border": null,
      "bottom": null,
      "display": null,
      "flex": null,
      "flex_flow": null,
      "grid_area": null,
      "grid_auto_columns": null,
      "grid_auto_flow": null,
      "grid_auto_rows": null,
      "grid_column": null,
      "grid_gap": null,
      "grid_row": null,
      "grid_template_areas": null,
      "grid_template_columns": null,
      "grid_template_rows": null,
      "height": null,
      "justify_content": null,
      "justify_items": null,
      "left": null,
      "margin": null,
      "max_height": null,
      "max_width": null,
      "min_height": null,
      "min_width": null,
      "object_fit": null,
      "object_position": null,
      "order": null,
      "overflow": null,
      "overflow_x": null,
      "overflow_y": null,
      "padding": null,
      "right": null,
      "top": null,
      "visibility": null,
      "width": null
     }
    },
    "f0c577b94faf4bfa9f8670f44d3f8e9e": {
     "model_module": "@jupyter-widgets/base",
     "model_name": "LayoutModel",
     "state": {
      "_model_module": "@jupyter-widgets/base",
      "_model_module_version": "1.2.0",
      "_model_name": "LayoutModel",
      "_view_count": null,
      "_view_module": "@jupyter-widgets/base",
      "_view_module_version": "1.2.0",
      "_view_name": "LayoutView",
      "align_content": null,
      "align_items": null,
      "align_self": null,
      "border": null,
      "bottom": null,
      "display": null,
      "flex": null,
      "flex_flow": null,
      "grid_area": null,
      "grid_auto_columns": null,
      "grid_auto_flow": null,
      "grid_auto_rows": null,
      "grid_column": null,
      "grid_gap": null,
      "grid_row": null,
      "grid_template_areas": null,
      "grid_template_columns": null,
      "grid_template_rows": null,
      "height": null,
      "justify_content": null,
      "justify_items": null,
      "left": null,
      "margin": null,
      "max_height": null,
      "max_width": null,
      "min_height": null,
      "min_width": null,
      "object_fit": null,
      "object_position": null,
      "order": null,
      "overflow": null,
      "overflow_x": null,
      "overflow_y": null,
      "padding": null,
      "right": null,
      "top": null,
      "visibility": null,
      "width": null
     }
    }
   }
  }
 },
 "nbformat": 4,
 "nbformat_minor": 4
}
