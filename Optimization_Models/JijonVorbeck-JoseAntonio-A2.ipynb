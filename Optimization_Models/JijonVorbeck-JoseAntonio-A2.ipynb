{
 "cells": [
  {
   "cell_type": "markdown",
   "metadata": {},
   "source": [
    "<p style=\"font-family:helvetica;grey:blue;font-size:18px;line-height: 1.4em;text-align:center;\">\n",
    "    </b></span><br>\n",
    "    <span style=\"color:grey;font-size:32px\"><b><u>UC3M Master in Big Data Analytics</u> </b></span><br>\n",
    "    </b></span><br>\n",
    "    <span style=\"color:grey\"><b>Optimization for large-scale Data</b></span><br>\n",
    "    </b></span><br>\n",
    "    <span style=\"color:grey\"><b>Assignment 2</b></span><br>\n",
    "    </b></span><br>\n",
    "    <span style=\"color:grey;font-size:15px\"><b>Jose Antonio Jijon Vorbeck - 100438045</b></span>\n",
    "</p>"
   ]
  },
  {
   "cell_type": "markdown",
   "metadata": {},
   "source": [
    "Imports"
   ]
  },
  {
   "cell_type": "code",
   "execution_count": 1,
   "metadata": {},
   "outputs": [],
   "source": [
    "%matplotlib inline\n",
    "import numpy as np\n",
    "import pandas as pd\n",
    "from numpy.random import randint\n",
    "from numpy.linalg import inv\n",
    "import time\n",
    "\n",
    "from sklearn import metrics\n",
    "\n",
    "from scipy.optimize import minimize\n",
    "from numpy import linalg as LA\n",
    "\n",
    "import matplotlib.pyplot as plt "
   ]
  },
  {
   "cell_type": "markdown",
   "metadata": {},
   "source": [
    "First we start by generating the random data."
   ]
  },
  {
   "cell_type": "code",
   "execution_count": 2,
   "metadata": {},
   "outputs": [
    {
     "name": "stdout",
     "output_type": "stream",
     "text": [
      "First 5 coeffs of betas\n"
     ]
    },
    {
     "data": {
      "text/plain": [
       "array([[ 2],\n",
       "       [ 1],\n",
       "       [ 2],\n",
       "       [-5],\n",
       "       [-5]])"
      ]
     },
     "execution_count": 2,
     "metadata": {},
     "output_type": "execute_result"
    }
   ],
   "source": [
    "# K = 100 \n",
    "n_pred = 100\n",
    "\n",
    "# 1000 observations\n",
    "n_obs = 1000\n",
    "\n",
    "# generate random beta coefficients between (-5,5) 100 in total\n",
    "betas = randint(-5,5,size=([n_pred+1,1]))\n",
    "\n",
    "# generate the matrix X using random numbers\n",
    "\n",
    "X0_s = np.ones([n_obs,1]) # coefficients of beta_0\n",
    "X1_s = np.random.uniform(-10,10,[n_obs, n_pred]) # rest of the X matrix size(n_obs, n_pred)\n",
    "X = np.concatenate([X0_s, X1_s], axis = 1) # put together X_0s and X_1s\n",
    "\n",
    "\n",
    "# The errors must be normally distriuted around 0\n",
    "error = np.random.normal(0,1,(n_obs,1))\n",
    "\n",
    "# now we can compute the Y_s\n",
    "Y = np.dot(X,betas) + error\n",
    "print('First 5 coeffs of betas')\n",
    "betas[:5]"
   ]
  },
  {
   "cell_type": "markdown",
   "metadata": {},
   "source": [
    "The goal of the assignment is to adjust a multiple linear regression model to explain variable $Y$ in terms of the other variables $X$, having\n",
    "\n",
    "$Y = \\beta'X + \\epsilon$ where $\\beta = (\\beta_0, \\beta_1, ... \\beta_K )$\n",
    "\n",
    "By using the *Ridge regression*\n",
    "\n",
    "\\begin{align*}\n",
    "  \\text{minimize}_\\beta \\quad  \\| y - X\\beta \\|_2^2 + \\rho \\| \\beta \\|_2^2\n",
    "\\end{align*}\n",
    "\n",
    "We can consider $\\rho$ to be a fixed parameter, e.g., $\\rho= 1$"
   ]
  },
  {
   "cell_type": "markdown",
   "metadata": {},
   "source": [
    "### <u> Questions </u>"
   ]
  },
  {
   "cell_type": "markdown",
   "metadata": {},
   "source": [
    "### a.) Estimate the value of the regression coefficients by implementing the analytical solution."
   ]
  },
  {
   "cell_type": "markdown",
   "metadata": {},
   "source": [
    "The analytical solution of the normal linear regression is given by: \n",
    "\n",
    "$\\beta_{ls}=(X^T X)^{-1}X^T y$\n",
    "\n",
    "In the Ridge regression, the equation in matrix form is the following: \n",
    "\n",
    "$(Y - X\\beta)^T(Y - X\\beta) + \\rho\\beta^T\\beta$\n",
    "\n",
    "So, by taking its derivative and deriving with respect to $\\beta$:\n",
    "\n",
    "$X^TY = (X^TX + \\rho I)\\beta$\n",
    "\n",
    "And we get to the analytical solution of the Ridge equation:\n",
    "\n",
    "$\\beta = (X^TX + \\rho I)^{-1}X^TY$\n",
    "\n",
    "\n",
    "\n"
   ]
  },
  {
   "cell_type": "code",
   "execution_count": 3,
   "metadata": {},
   "outputs": [
    {
     "name": "stdout",
     "output_type": "stream",
     "text": [
      "Time elapsed: 0.01073\n",
      "Absolute mean error from true betas: 0.0058\n",
      "Values of first 5 coeff. analytically calculated:\n"
     ]
    },
    {
     "data": {
      "text/plain": [
       "array([[ 2.06249336],\n",
       "       [ 1.01259877],\n",
       "       [ 2.00723955],\n",
       "       [-5.00696314],\n",
       "       [-5.00186935]])"
      ]
     },
     "execution_count": 3,
     "metadata": {},
     "output_type": "execute_result"
    }
   ],
   "source": [
    "# We set rho to be fixed at 1\n",
    "rho = 1\n",
    "start = time.time()\n",
    "beta_analytical = np.dot(np.dot(inv(np.dot(X.T,X) + rho*np.identity(n_pred+1)),X.T),Y)\n",
    "time_analytic = round(time.time() - start,5)\n",
    "print(f'Time elapsed: {time_analytic}')\n",
    "print(f'Absolute mean error from true betas: {round(np.mean(np.abs(beta_analytical-betas)),5)}')\n",
    "print('Values of first 5 coeff. analytically calculated:')\n",
    "beta_analytical[:5]"
   ]
  },
  {
   "cell_type": "code",
   "execution_count": 4,
   "metadata": {},
   "outputs": [],
   "source": [
    "# create a function to compute future errors:\n",
    "def error_value(beta_reg):\n",
    "    return LA.norm(beta_analytical.T-beta_reg,ord=2) / LA.norm(beta_analytical.T,ord=2)"
   ]
  },
  {
   "cell_type": "markdown",
   "metadata": {},
   "source": [
    "### b.) Estimate the value of the regression coefficients by using the function minimize from the Python module Scipy.optimize. Try at least four available solvers and compare their performance in terms of number of iterations, number of function, gradient and hessian evaluations as well as total computational time."
   ]
  },
  {
   "cell_type": "markdown",
   "metadata": {},
   "source": [
    "The objective function is simply given by minimizing the following function: \n",
    "\n",
    "$\\| y - X\\beta \\|_2^2 + \\rho \\| \\beta \\|_2^2$\n",
    "\n",
    "For the computation of the Gradient, we need to apply the first derivative with respect to $\\beta$\n",
    "\n",
    "We will write, for simplicity, in scalar notation: <br>\n",
    "$(y - x\\beta)^2 + \\rho\\beta^2$\n",
    "\n",
    "Deriving this w.r.t. $\\beta$ we get the following: \n",
    "\n",
    "$-2(y - x\\beta)x + 2\\rho\\beta$ (1), which simpplifies to: \n",
    "\n",
    "$-2yx + 2x^2\\beta + 2\\rho\\beta$, deriving this again w.r.t. $\\beta$ \n",
    "\n",
    "$2x^2 + 2\\rho$\n",
    "\n",
    "So, in matrix notation we are left with the following: \n",
    "\n",
    "**Gradient:**   <br> $-2(Y - X\\beta)X + 2\\rho\\beta$  \n",
    "**Hessian:**  <br>  $2X^TX + 2\\rho I$\n"
   ]
  },
  {
   "cell_type": "markdown",
   "metadata": {},
   "source": [
    "#### Definition of the Functions:\n",
    "\n",
    "Here I will define the functions for use in the rest of the report."
   ]
  },
  {
   "cell_type": "code",
   "execution_count": 5,
   "metadata": {},
   "outputs": [],
   "source": [
    "# define the objective function: \n",
    "def least_sq_ridge(beta_ls, X, Y, rho):\n",
    "    beta_ls = np.matrix(beta_ls)\n",
    "    z = Y - np.dot(X,beta_ls.T)\n",
    "    f = np.dot(z.T,z) + rho * LA.norm(beta_ls)\n",
    "    return f\n",
    "\n",
    "# function for the jacobian (gradient) matrix\n",
    "def gradient(beta_ls, X, Y, rho):\n",
    "    beta_ls = np.matrix(beta_ls)\n",
    "    z = Y - np.dot(X,beta_ls.T)\n",
    "    gr = -2*np.dot(z.T,X) + 2*rho*beta_ls \n",
    "    aa = np.squeeze(np.asarray(gr))\n",
    "    return aa\n",
    "\n",
    "# function for the hessian matrix\n",
    "def hessian(beta_ls, X, Y, rho):\n",
    "    beta_ls = np.matrix(beta_ls)\n",
    "    hes = 2*np.dot(X.T,X) + 2*rho*np.identity(n_pred+1)\n",
    "    return np.squeeze(np.asarray(hes))\n",
    "\n",
    "# coordinate gradient function\n",
    "def gradient_coord(beta_ls, index, X, Y, rho):\n",
    "    beta_ls = np.matrix(beta_ls)\n",
    "    pp = -2*np.dot((Y-np.dot(X,beta_ls.T)).T,X[:,index]) + 2*rho*beta_ls[:,index]\n",
    "    aa = np.zeros(b)\n",
    "    aa[index]=pp\n",
    "    return aa\n",
    "\n",
    "# initiate all coeff. to zero\n",
    "beta_0 = np.zeros(n_pred+1)"
   ]
  },
  {
   "cell_type": "markdown",
   "metadata": {},
   "source": [
    "Now we will apply the minimization function with 5 different solvers.<br>\n",
    "The solutions and summary table of each will be presented in a table below."
   ]
  },
  {
   "cell_type": "code",
   "execution_count": 6,
   "metadata": {},
   "outputs": [
    {
     "name": "stdout",
     "output_type": "stream",
     "text": [
      "Warning: Maximum number of function evaluations has been exceeded.\n"
     ]
    }
   ],
   "source": [
    "# Nelder_Mead\n",
    "start = time.time()\n",
    "reg_Nelder_Mead = minimize(least_sq_ridge, beta_0, args=(X, Y, rho), method='Nelder-Mead', options={'disp': True,'xtol': 1e-10})\n",
    "Nelder_Mead_time = time.time() - start "
   ]
  },
  {
   "cell_type": "code",
   "execution_count": 7,
   "metadata": {},
   "outputs": [],
   "source": [
    "Nelder_Mead_sum = {'time': Nelder_Mead_time, 'error': error_value(reg_Nelder_Mead.x), 'iterations': reg_Nelder_Mead.nit,\n",
    "                  'function evals': reg_Nelder_Mead.nfev}"
   ]
  },
  {
   "cell_type": "code",
   "execution_count": 8,
   "metadata": {},
   "outputs": [
    {
     "name": "stdout",
     "output_type": "stream",
     "text": [
      "Optimization terminated successfully.\n",
      "         Current function value: 858.716329\n",
      "         Iterations: 8\n",
      "         Function evaluations: 15036\n"
     ]
    }
   ],
   "source": [
    "# Powell\n",
    "start = time.time()\n",
    "reg_Powell = minimize(least_sq_ridge, beta_0, args=(X, Y, rho), method='Powell', options={'disp': True,'xtol': 1e-10})\n",
    "Powell_time = time.time() - start"
   ]
  },
  {
   "cell_type": "code",
   "execution_count": 9,
   "metadata": {},
   "outputs": [],
   "source": [
    "Powell_sum = {'time': Powell_time, 'error': error_value(reg_Powell.x), 'iterations': reg_Powell.nit,\n",
    "                  'function evals': reg_Powell.nfev}"
   ]
  },
  {
   "cell_type": "code",
   "execution_count": 10,
   "metadata": {},
   "outputs": [],
   "source": [
    "# COBYLA\n",
    "start = time.time()\n",
    "reg_COBYLA = minimize(least_sq_ridge, beta_0, args=(X, Y, rho), method='COBYLA', options={'disp': True})\n",
    "COBYLA_time = time.time() - start"
   ]
  },
  {
   "cell_type": "code",
   "execution_count": 11,
   "metadata": {},
   "outputs": [],
   "source": [
    "COBYLA_sum = {'time': COBYLA_time, 'error': error_value(reg_COBYLA.x),\n",
    "                  'function evals': reg_COBYLA.nfev}"
   ]
  },
  {
   "cell_type": "code",
   "execution_count": 12,
   "metadata": {},
   "outputs": [],
   "source": [
    "# TNC\n",
    "start = time.time()\n",
    "reg_TNC = minimize(least_sq_ridge, beta_0, args=(X, Y, rho), method='TNC', options={'disp': True})\n",
    "TNC_time = time.time() - start"
   ]
  },
  {
   "cell_type": "code",
   "execution_count": 13,
   "metadata": {},
   "outputs": [],
   "source": [
    "TNC_sum = {'time': TNC_time, 'error': error_value(reg_TNC.x), 'iterations': reg_TNC.nit,\n",
    "                  'function evals': reg_TNC.nfev}"
   ]
  },
  {
   "cell_type": "code",
   "execution_count": 14,
   "metadata": {},
   "outputs": [
    {
     "name": "stdout",
     "output_type": "stream",
     "text": [
      "Optimization terminated successfully.\n",
      "         Current function value: 858.746341\n",
      "         Iterations: 11\n",
      "         Function evaluations: 12\n",
      "         Gradient evaluations: 22\n",
      "         Hessian evaluations: 11\n"
     ]
    }
   ],
   "source": [
    "# Newton-CG\n",
    "start = time.time()\n",
    "reg_Newton_CG = minimize(least_sq_ridge, beta_0, args=(X, Y, rho), hess = hessian, jac = gradient, method='Newton-CG', options={'disp': True})\n",
    "Newton_CG_time = time.time() - start"
   ]
  },
  {
   "cell_type": "code",
   "execution_count": 15,
   "metadata": {},
   "outputs": [],
   "source": [
    "Newton_CG_sum = {'time': Newton_CG_time, 'error': error_value(reg_Newton_CG.x), 'iterations': reg_Newton_CG.nit,\n",
    "                  'function evals': reg_Newton_CG.nfev, 'gradient evals': reg_Newton_CG.njev, 'hessian evals': reg_Newton_CG.nhev }"
   ]
  },
  {
   "cell_type": "code",
   "execution_count": 16,
   "metadata": {},
   "outputs": [
    {
     "name": "stdout",
     "output_type": "stream",
     "text": [
      "Optimization terminated successfully.\n",
      "         Current function value: 858.745562\n",
      "         Iterations: 118\n",
      "         Function evaluations: 220\n",
      "         Gradient evaluations: 220\n"
     ]
    }
   ],
   "source": [
    "# BFGS\n",
    "start = time.time()\n",
    "reg_BFGS = minimize(least_sq_ridge, beta_0, args=(X, Y, rho), jac = gradient, method='BFGS', options={'disp': True})\n",
    "BFGS_time = time.time() - start"
   ]
  },
  {
   "cell_type": "code",
   "execution_count": 17,
   "metadata": {},
   "outputs": [],
   "source": [
    "BFGS_sum = {'time': BFGS_time, 'error': error_value(reg_BFGS.x), 'iterations': reg_BFGS.nit,\n",
    "                  'function evals': reg_BFGS.nfev, 'gradient evals': reg_BFGS.njev}"
   ]
  },
  {
   "cell_type": "markdown",
   "metadata": {},
   "source": [
    "**Summary Table**"
   ]
  },
  {
   "cell_type": "code",
   "execution_count": 18,
   "metadata": {},
   "outputs": [
    {
     "data": {
      "text/html": [
       "<div>\n",
       "<style scoped>\n",
       "    .dataframe tbody tr th:only-of-type {\n",
       "        vertical-align: middle;\n",
       "    }\n",
       "\n",
       "    .dataframe tbody tr th {\n",
       "        vertical-align: top;\n",
       "    }\n",
       "\n",
       "    .dataframe thead th {\n",
       "        text-align: right;\n",
       "    }\n",
       "</style>\n",
       "<table border=\"1\" class=\"dataframe\">\n",
       "  <thead>\n",
       "    <tr style=\"text-align: right;\">\n",
       "      <th></th>\n",
       "      <th>Nelder_Mead</th>\n",
       "      <th>Powell</th>\n",
       "      <th>Cobyla</th>\n",
       "      <th>TNC</th>\n",
       "      <th>Newton_CG</th>\n",
       "      <th>BFGS</th>\n",
       "    </tr>\n",
       "  </thead>\n",
       "  <tbody>\n",
       "    <tr>\n",
       "      <td>time</td>\n",
       "      <td>3.87</td>\n",
       "      <td>3.225</td>\n",
       "      <td>0.964</td>\n",
       "      <td>5.796</td>\n",
       "      <td>0.02</td>\n",
       "      <td>0.095</td>\n",
       "    </tr>\n",
       "    <tr>\n",
       "      <td>error</td>\n",
       "      <td>0.79</td>\n",
       "      <td>0.000</td>\n",
       "      <td>0.052</td>\n",
       "      <td>0.000</td>\n",
       "      <td>0.00</td>\n",
       "      <td>0.000</td>\n",
       "    </tr>\n",
       "    <tr>\n",
       "      <td>iterations</td>\n",
       "      <td>19527.00</td>\n",
       "      <td>8.000</td>\n",
       "      <td>NaN</td>\n",
       "      <td>57.000</td>\n",
       "      <td>11.00</td>\n",
       "      <td>118.000</td>\n",
       "    </tr>\n",
       "    <tr>\n",
       "      <td>function evals</td>\n",
       "      <td>20200.00</td>\n",
       "      <td>15036.000</td>\n",
       "      <td>1000.000</td>\n",
       "      <td>595.000</td>\n",
       "      <td>12.00</td>\n",
       "      <td>220.000</td>\n",
       "    </tr>\n",
       "    <tr>\n",
       "      <td>gradient evals</td>\n",
       "      <td>NaN</td>\n",
       "      <td>NaN</td>\n",
       "      <td>NaN</td>\n",
       "      <td>NaN</td>\n",
       "      <td>22.00</td>\n",
       "      <td>220.000</td>\n",
       "    </tr>\n",
       "    <tr>\n",
       "      <td>hessian evals</td>\n",
       "      <td>NaN</td>\n",
       "      <td>NaN</td>\n",
       "      <td>NaN</td>\n",
       "      <td>NaN</td>\n",
       "      <td>11.00</td>\n",
       "      <td>NaN</td>\n",
       "    </tr>\n",
       "  </tbody>\n",
       "</table>\n",
       "</div>"
      ],
      "text/plain": [
       "                Nelder_Mead     Powell    Cobyla      TNC  Newton_CG     BFGS\n",
       "time                   3.87      3.225     0.964    5.796       0.02    0.095\n",
       "error                  0.79      0.000     0.052    0.000       0.00    0.000\n",
       "iterations         19527.00      8.000       NaN   57.000      11.00  118.000\n",
       "function evals     20200.00  15036.000  1000.000  595.000      12.00  220.000\n",
       "gradient evals          NaN        NaN       NaN      NaN      22.00  220.000\n",
       "hessian evals           NaN        NaN       NaN      NaN      11.00      NaN"
      ]
     },
     "execution_count": 18,
     "metadata": {},
     "output_type": "execute_result"
    }
   ],
   "source": [
    "# summary of solvers b.)\n",
    "Summary_b = {'Nelder_Mead': Nelder_Mead_sum, 'Powell': Powell_sum, 'Cobyla': COBYLA_sum, 'TNC': TNC_sum,\n",
    "             'Newton_CG': Newton_CG_sum, 'BFGS': BFGS_sum}\n",
    "pd.DataFrame.from_dict(Summary_b).round(3)"
   ]
  },
  {
   "cell_type": "markdown",
   "metadata": {},
   "source": [
    "As we can see above, the two last methods, for which the jacobian or the hessian matrices are used, converge faster and need less itertions. In fact, the Nelder-Mead needs much more iterations, and the TNC solver requires  way more time to deliver a solution, while the Newton one does it in less than 0.05sec. \n",
    "\n",
    "We see that the errors are also very small for the Newton-CG and the BFGS solvers, compared to the analytical solution obtained in part a.). "
   ]
  },
  {
   "cell_type": "markdown",
   "metadata": {},
   "source": [
    "### c.) Estimate the value of the regression coefficients by implementing the following:\n",
    "* Gradient Method\n",
    "* Newton's Method\n",
    "* Quasi-Newton Method\n",
    "\n",
    "*Consider a line search technique to improve the algorithm convergence, e.x., Armijo rule. Compare the performance of these algorithms (number of iterations and total computational time).*"
   ]
  },
  {
   "cell_type": "markdown",
   "metadata": {},
   "source": [
    "First we calculate the objective funtion value from the analytically calculated $\\beta$"
   ]
  },
  {
   "cell_type": "code",
   "execution_count": 19,
   "metadata": {},
   "outputs": [
    {
     "name": "stdout",
     "output_type": "stream",
     "text": [
      "Objetive function from the analytical beta --> [[858.745562]]\n"
     ]
    }
   ],
   "source": [
    "# objetive function from the analytical beta's\n",
    "print(f'Objetive function from the analytical beta --> {least_sq_ridge(beta_analytical.T, X, Y, rho)}')"
   ]
  },
  {
   "cell_type": "markdown",
   "metadata": {},
   "source": [
    "**Gradient Method**\n",
    "\n",
    "In a few words, this method evaluates the function at an initial given point, and with the help of the negative gradient of the function ($-\\nabla f$) the solver will choose the descent direction, and then move the point to obtain the value until we get to a minimum value, where $\\nabla f --> 0 $ .\n",
    "\n",
    "It is the simplest method and with the least computational cost, but in practice it converges in too many iterations.\n",
    "\n",
    "The mathematical representation of the gradient method is the following: \n",
    "\n",
    "$x_{k+1} = x_{k} -\\nabla f(x_k) * \\alpha_k$\n",
    "\n",
    "Where alpha is the step length, that can also be adjusted at every iteration $k$"
   ]
  },
  {
   "cell_type": "code",
   "execution_count": 20,
   "metadata": {},
   "outputs": [],
   "source": [
    "# size od the X matrix\n",
    "(a,b) = X.shape\n",
    "\n",
    "# parameters of the algorithm\n",
    "n_iter = 4000 # max number of iterations\n",
    "alpha = 1e-7 # fixed value of alpha\n",
    "eps = 1e-3 # smallest difference\n",
    "tol = 10000 # initial tolerance\n",
    "\n",
    "# initialize the values at 0\n",
    "beta_grad = np.zeros(b)\n",
    "obj_G = np.zeros(n_iter)\n",
    "tol_iterG = np.zeros(n_iter)\n",
    "alpha_k = np.zeros(n_iter)\n",
    "\n",
    "k = 0\n",
    "rho = 1\n",
    "start = time.time()\n",
    "while (tol > eps) and (k <= n_iter-2):\n",
    "    k = k + 1\n",
    "    grad = gradient(beta_grad, X, Y, rho)\n",
    "    \n",
    "    ############### adjusting alpha with the armijo rule\n",
    "    sigma = 0.01\n",
    "    beta= 0.1\n",
    "    alpha=1e-5\n",
    "    while (least_sq_ridge(beta_grad - grad * alpha, X,Y,rho) > least_sq_ridge(beta_grad, X,Y,rho)+alpha*sigma*np.dot(grad,-grad.T)):\n",
    "        alpha = alpha*beta\n",
    "    ################\n",
    "    \n",
    "    beta_grad = beta_grad - grad * alpha\n",
    "    tol = LA.norm(grad,ord=2)\n",
    "    obj_G[k] = least_sq_ridge(beta_grad, X, Y, rho)\n",
    "    tol_iterG[k] = tol\n",
    "    alpha_k[k] = alpha\n",
    "\n",
    "gradient_time = time.time()-start\n",
    "gradient_iterations = k"
   ]
  },
  {
   "cell_type": "code",
   "execution_count": 21,
   "metadata": {},
   "outputs": [
    {
     "data": {
      "text/plain": [
       "{'time': 0.25242090225219727,\n",
       " 'iterations': 843,\n",
       " 'error': 1.852309131998861e-08,\n",
       " 'objective function': 858.7455644066168,\n",
       " \"last iteration's tol\": 0.0009997904113138805}"
      ]
     },
     "execution_count": 21,
     "metadata": {},
     "output_type": "execute_result"
    }
   ],
   "source": [
    "gradient_sum = {'time': gradient_time, 'iterations':gradient_iterations, 'error': error_value(beta_grad),\n",
    "                'objective function':obj_G[k], \"last iteration's tol\": tol_iterG[k]  }\n",
    "gradient_sum"
   ]
  },
  {
   "cell_type": "markdown",
   "metadata": {},
   "source": [
    "**Newton's Method**"
   ]
  },
  {
   "cell_type": "markdown",
   "metadata": {},
   "source": [
    "Netwon's method is a modification of the gradient method, with the addition of the second derivative term of the function, or in matrix representation, what we know as the hessian matrix. \n",
    "\n",
    "It is known to converge very fast and with less iterations than the gradient method, but due to the computation of the gradient and hessian matrices, it can be very computationally costly. It converges always whenever $\\nabla^2f(x_k)$ is not singular.\n",
    "\n",
    "The mathematical representation of this method is the following: \n",
    "\n",
    "$x_{k+1} = x_{x} - \\frac{\\nabla f(x_k)}{\\nabla^2 f(x_k)} \\alpha_k$  \n",
    "\n",
    "$\\rightarrow$ whenever $\\nabla^2 f(x_k)$ is non-singular"
   ]
  },
  {
   "cell_type": "code",
   "execution_count": 22,
   "metadata": {},
   "outputs": [],
   "source": [
    "# size od the X matrix\n",
    "(a,b) = X.shape\n",
    "\n",
    "# parameters of the algorithm\n",
    "n_iter = 4000 # max number of iterations\n",
    "alpha = 1e-7 # starting value of alpha\n",
    "eps = 1e-3 # smallest difference\n",
    "tol = 10000 # initial tolerance\n",
    "sigma = 0.1\n",
    "beta= 0.1\n",
    "\n",
    "\n",
    "# initialize the values at 0\n",
    "beta_newt = np.zeros(b)\n",
    "obj_N = np.zeros(n_iter)\n",
    "tol_iterN = np.zeros(n_iter)\n",
    "alpha_k = np.zeros(n_iter)\n",
    "\n",
    "k = 0\n",
    "rho = 1\n",
    "start = time.time()\n",
    "\n",
    "while (tol > eps) and (k <= n_iter-2):\n",
    "    k = k + 1\n",
    "    grad = gradient(beta_newt, X, Y, rho)\n",
    "    hess = hessian(beta_newt, X, Y, rho)\n",
    "    p_k = -np.dot(np.linalg.inv(hess),grad)\n",
    "    alpha=1\n",
    "    ################ adjusting alpha with the armijo rule\n",
    "    while (least_sq_ridge(beta_newt + p_k*alpha,X,Y,rho) > least_sq_ridge(beta_newt,X,Y,rho)+alpha*sigma*np.dot(p_k,grad)):\n",
    "        alpha = alpha*beta\n",
    "    #################\n",
    "    beta_newt = beta_newt + alpha*p_k\n",
    "    tol = LA.norm(grad,ord=2)\n",
    "    obj_N[k] = least_sq_ridge(beta_newt, X, Y, rho)\n",
    "    tol_iterN[k] = tol\n",
    "    alpha_k[k] = alpha\n",
    "\n",
    "newton_time = time.time()-start\n",
    "newton_iterations = k"
   ]
  },
  {
   "cell_type": "code",
   "execution_count": 23,
   "metadata": {},
   "outputs": [
    {
     "data": {
      "text/plain": [
       "{'time': 0.0045549869537353516,\n",
       " 'iterations': 2,\n",
       " 'error': 4.4017573606486097e-16,\n",
       " 'objective function': 858.7455620027389,\n",
       " \"last iteration's tol\": 1.2445301703958731e-09}"
      ]
     },
     "execution_count": 23,
     "metadata": {},
     "output_type": "execute_result"
    }
   ],
   "source": [
    "netwon_sum = {'time': newton_time, 'iterations':newton_iterations, 'error': error_value(beta_newt),\n",
    "              'objective function': obj_N[k], \"last iteration's tol\": tol_iterN[k] }\n",
    "netwon_sum"
   ]
  },
  {
   "cell_type": "markdown",
   "metadata": {},
   "source": [
    "**Quasi-Newton's method**"
   ]
  },
  {
   "cell_type": "markdown",
   "metadata": {},
   "source": [
    "Since the computation of the hessian matrix $\\nabla^2 f(x_k)$ can be very expensive, or in some cases can be singular which would prevent us running the algortihm, the Quasi-Newton methods allow us to avoid this computation by performing some approximations to the Hessian Matrix. \n",
    "\n",
    "We start by an initial value $B_0$ to the matrix $H_0 = \\nabla^2 f(x_0)$, and then iterate to find the optimal case with the following formula: \n",
    "\n",
    "$B_{k+1} = B_k +$ update rule\n",
    "\n",
    "$\\rightarrow$ I will choose the **BFGS method**, for which the update rule is the following: \n",
    "\n",
    "$B_{k+1} = B_k + \\frac{(B_k s_k)(B_k s_k)^T}{s_k^T B_k s_k} + \\frac{y_k y_k^T}{y_k^T s_k}$\n",
    "\n",
    "$\\rightarrow$ where: <br>\n",
    "$s_k = x_{k+1} - x_k$ and <br>$y_k = \\nabla f(x_{k+1}) - \\nabla f(x_{k})$\n",
    "\n",
    "$\\rightarrow$ And for we will use: $B_0 = hessian(0)$,  we will compute the hessian only once at the beginning of the algorithm as a starting point. \n",
    "\n",
    "The computation of the hessian for the step 0 helps a lot with the speed of convergence of the algorithm, since it has already a good starting point. And starting with the hessian matrix does not violate the point of the solver, since we are not computing the hessian matrix iteratively, but only once at the beginning."
   ]
  },
  {
   "cell_type": "code",
   "execution_count": 24,
   "metadata": {},
   "outputs": [],
   "source": [
    "# size od the X matrix\n",
    "(a,b) = X.shape\n",
    "\n",
    "# parameters of the algorithm\n",
    "n_iter = 4000 # max number of iterations\n",
    "alpha = 1e-10 # starting value of alpha\n",
    "eps = 1e-3 # smallest difference\n",
    "tol = 10000 # initial tolerance\n",
    "sigma = 0.001\n",
    "beta= 0.8\n",
    "\n",
    "\n",
    "# initialize the values at 0\n",
    "beta_q_newt = np.zeros(b)\n",
    "obj_QN = np.zeros(n_iter)\n",
    "tol_iterQN = np.zeros(n_iter)\n",
    "alpha_k = np.zeros(n_iter)\n",
    "\n",
    "k = 0\n",
    "rho = 1\n",
    "start = time.time()\n",
    "\n",
    "# initial values for B_k, s_k, y_k\n",
    "\n",
    "grad = gradient(beta_q_newt, X, Y, rho)\n",
    "y_k = gradient(beta_q_newt - grad*alpha, X, Y, rho).T - gradient(beta_q_newt, X, Y, rho).T\n",
    "s_k = -grad*alpha\n",
    "# compute the initial hessian as starting point\n",
    "B_k = hessian(beta_q_newt,X,Y,rho)\n",
    "\n",
    "while (tol > eps) and (k <= n_iter-2):\n",
    "    \n",
    "    # gradient\n",
    "    grad = gradient(beta_q_newt, X, Y, rho)\n",
    "    # direction\n",
    "    p_k = -np.dot(inv(B_k),grad)\n",
    "    \n",
    "    ############### adjusting alpha with the armijo rule\n",
    "    alpha=1\n",
    "    while (least_sq_ridge(beta_q_newt + p_k*alpha,X,Y,rho) > least_sq_ridge(beta_q_newt,X,Y,rho)+alpha*sigma*np.dot(p_k,grad)):\n",
    "        alpha = alpha*beta\n",
    "    ################\n",
    "    \n",
    "    # update s_k \n",
    "    s_k = p_k*alpha\n",
    "    \n",
    "    # update alpha\n",
    "    beta_old = beta_q_newt\n",
    "    beta_q_newt = beta_q_newt + s_k\n",
    "    \n",
    "    # update y_k\n",
    "    y_k = gradient(beta_q_newt, X, Y, rho) - gradient(beta_old, X, Y, rho)\n",
    "\n",
    "    # BFGS\n",
    "    B_k =  B_k - ((np.dot(np.dot(B_k,s_k),np.dot(B_k,s_k).T))/(np.dot(np.dot(s_k.T,B_k),s_k))) + np.dot(y_k,y_k.T)/(np.dot(y_k.T,s_k))\n",
    "    \n",
    "    tol = LA.norm(grad,ord=2)\n",
    "    obj_QN[k] = least_sq_ridge(beta_q_newt, X, Y, rho)\n",
    "    tol_iterQN[k] = tol\n",
    "    alpha_k[k] = alpha\n",
    "    k = k + 1\n",
    "\n",
    "quasi_newton_time = time.time()-start\n",
    "quasi_newton_iterations = k"
   ]
  },
  {
   "cell_type": "code",
   "execution_count": 25,
   "metadata": {},
   "outputs": [
    {
     "data": {
      "text/plain": [
       "{'time': 0.006159782409667969,\n",
       " 'iterations': 2,\n",
       " 'error': 4.4017573606486097e-16,\n",
       " 'objective function': 858.7455620027389,\n",
       " \"last iteration's tol\": 1.2445301703958731e-09}"
      ]
     },
     "execution_count": 25,
     "metadata": {},
     "output_type": "execute_result"
    }
   ],
   "source": [
    "quasi_netwon_sum = {'time': quasi_newton_time, 'iterations':quasi_newton_iterations, 'error': error_value(beta_q_newt),\n",
    "              'objective function': obj_QN[k-1], \"last iteration's tol\": tol_iterQN[k-1] }\n",
    "quasi_netwon_sum"
   ]
  },
  {
   "cell_type": "markdown",
   "metadata": {},
   "source": [
    "Below we see a summary table of the three presented methods along with their resulting characteristics."
   ]
  },
  {
   "cell_type": "code",
   "execution_count": 26,
   "metadata": {},
   "outputs": [
    {
     "data": {
      "text/html": [
       "<div>\n",
       "<style scoped>\n",
       "    .dataframe tbody tr th:only-of-type {\n",
       "        vertical-align: middle;\n",
       "    }\n",
       "\n",
       "    .dataframe tbody tr th {\n",
       "        vertical-align: top;\n",
       "    }\n",
       "\n",
       "    .dataframe thead th {\n",
       "        text-align: right;\n",
       "    }\n",
       "</style>\n",
       "<table border=\"1\" class=\"dataframe\">\n",
       "  <thead>\n",
       "    <tr style=\"text-align: right;\">\n",
       "      <th></th>\n",
       "      <th>Gradient Method</th>\n",
       "      <th>Newton's Method</th>\n",
       "      <th>Quasi Newton Method</th>\n",
       "    </tr>\n",
       "  </thead>\n",
       "  <tbody>\n",
       "    <tr>\n",
       "      <td>time</td>\n",
       "      <td>0.25242</td>\n",
       "      <td>0.00455</td>\n",
       "      <td>0.00616</td>\n",
       "    </tr>\n",
       "    <tr>\n",
       "      <td>iterations</td>\n",
       "      <td>843.00000</td>\n",
       "      <td>2.00000</td>\n",
       "      <td>2.00000</td>\n",
       "    </tr>\n",
       "    <tr>\n",
       "      <td>error</td>\n",
       "      <td>0.00000</td>\n",
       "      <td>0.00000</td>\n",
       "      <td>0.00000</td>\n",
       "    </tr>\n",
       "    <tr>\n",
       "      <td>objective function</td>\n",
       "      <td>858.74556</td>\n",
       "      <td>858.74556</td>\n",
       "      <td>858.74556</td>\n",
       "    </tr>\n",
       "    <tr>\n",
       "      <td>last iteration's tol</td>\n",
       "      <td>0.00100</td>\n",
       "      <td>0.00000</td>\n",
       "      <td>0.00000</td>\n",
       "    </tr>\n",
       "  </tbody>\n",
       "</table>\n",
       "</div>"
      ],
      "text/plain": [
       "                      Gradient Method  Newton's Method  Quasi Newton Method\n",
       "time                          0.25242          0.00455              0.00616\n",
       "iterations                  843.00000          2.00000              2.00000\n",
       "error                         0.00000          0.00000              0.00000\n",
       "objective function          858.74556        858.74556            858.74556\n",
       "last iteration's tol          0.00100          0.00000              0.00000"
      ]
     },
     "execution_count": 26,
     "metadata": {},
     "output_type": "execute_result"
    }
   ],
   "source": [
    "Summary_c = {'Gradient Method': gradient_sum, \"Newton's Method\" : netwon_sum, 'Quasi Newton Method': quasi_netwon_sum}\n",
    "pd.DataFrame.from_dict(Summary_c).round(5)"
   ]
  },
  {
   "cell_type": "markdown",
   "metadata": {},
   "source": [
    "As we see from the table above, the newton's method is impresively fast since it converges with only 2 iterations and in  less than 0.007 seconds, we can also see that the last iteration's tolerance is practically zero, and that it gets a very good objective value compared to the solvers in section b.) \n",
    "\n",
    "We also see that the quasi-newton method converges in the same number of iterations and time as the newton's method, and this is due to the starting point using the hessian. If we were not using the true hessian as starting point, but an approximation, the algortihm would take longer to converge to a solution.\n",
    "\n",
    "The gradient method takes longer since it only uses a first order approximation to the solution, causing the convergence to be slower. But nevertheless it delivers a very small error.  "
   ]
  },
  {
   "cell_type": "markdown",
   "metadata": {},
   "source": [
    "### d.) Estimate the value of the regression coefficients by implementing:\n",
    "* Coordinate gradient method\n",
    "* Mini-batch gradient method\n",
    "    - Study how the mini-batch size may impact the algorithm performance (number of iterations and computational time needed to reach a pre-speciffied tolerance limit)\n",
    "* Mini-batch gradient with momentum."
   ]
  },
  {
   "cell_type": "markdown",
   "metadata": {},
   "source": [
    "**Coordinate gradient method**\n",
    "\n",
    "This method computes the gradient of only one component of the $\\beta$ matrix, therefore it might be faster to compute the gradient, but it might need more itertions to converge since it does not take into account the whole components that make the matrix."
   ]
  },
  {
   "cell_type": "code",
   "execution_count": 27,
   "metadata": {},
   "outputs": [],
   "source": [
    "(a,b)=X.shape\n",
    "\n",
    "#parameters\n",
    "alpha=1e-5\n",
    "n_iter= 70000\n",
    "tol=100;\n",
    "eps=1e-4;\n",
    "\n",
    "# initializing values\n",
    "beta_coord = np.zeros(b)\n",
    "OF_iter = np.zeros(n_iter)\n",
    "tol_iterCG = np.zeros(n_iter)\n",
    "\n",
    "i = 0\n",
    "\n",
    "# time\n",
    "start = time.time()\n",
    "\n",
    "while (i <= n_iter-2) and (tol > eps):\n",
    "    i=i+1\n",
    "    \n",
    "    # randomly selecting the index to choose for the method\n",
    "    k = np.random.randint(b)\n",
    "    gradk = gradient_coord(beta_coord,k,X,Y, rho)\n",
    "    \n",
    "    beta_coord = beta_coord - gradk * alpha\n",
    "    tol = LA.norm(gradk, ord = 2)\n",
    "    \n",
    "    OF_iter[i] = least_sq_ridge(beta_coord, X, Y, rho)\n",
    "    tol_iterCG[i] = tol\n",
    "    \n",
    "    \n",
    "    \n",
    "coord_grad_time = time.time()-start\n",
    "coord_grad_iterations = i"
   ]
  },
  {
   "cell_type": "code",
   "execution_count": 28,
   "metadata": {},
   "outputs": [
    {
     "data": {
      "text/plain": [
       "{'time': 0.6500298976898193,\n",
       " 'iterations': 3732,\n",
       " 'error': 0.03501633519514527,\n",
       " 'objective function': 1825.3480159868623,\n",
       " \"last iteration's tol\": 8.961740670621055e-05}"
      ]
     },
     "execution_count": 28,
     "metadata": {},
     "output_type": "execute_result"
    }
   ],
   "source": [
    "coord_grad_sum = {'time': coord_grad_time, 'iterations':coord_grad_iterations, 'error': error_value(beta_coord),\n",
    "              'objective function': OF_iter[i], \"last iteration's tol\": tol_iterCG[i]  }\n",
    "coord_grad_sum"
   ]
  },
  {
   "cell_type": "markdown",
   "metadata": {},
   "source": [
    "**Mini-batch gradient method**\n",
    "\n",
    "This method is very similar to the coordinate gradient one, but instead of just picking one coordinate each time, we must pick a random \"batch\" of coordinates in every iteration and then calculate the gradient with those columns.\n",
    "\n",
    "We will also study how the size of the mini-batch impacts the performance of the algorithm in terms of time and number of iterations."
   ]
  },
  {
   "cell_type": "code",
   "execution_count": 29,
   "metadata": {},
   "outputs": [],
   "source": [
    "def mini_batch(alpha=1e-5, n_iter= 50000, tol=100, eps=1e-4, batch = 50):\n",
    "\n",
    "    # initializing values\n",
    "    (a,b)=X.shape\n",
    "    beta_batch = np.zeros(b)\n",
    "    OF_iter = np.zeros(n_iter)\n",
    "    tol_iterB = np.zeros(n_iter)\n",
    "    \n",
    "    start = time.time()\n",
    "    \n",
    "    i = 0\n",
    "    while (i <= n_iter-2) and (tol > eps):\n",
    "        i=i+1\n",
    "        \n",
    "        # randomly selecting the index to choose for the method\n",
    "        k = np.random.randint(0,b,batch)\n",
    "        gradk = gradient_coord(beta_batch,k,X,Y, rho)\n",
    "        \n",
    "        beta_batch = beta_batch - gradk * alpha\n",
    "        tol = LA.norm(gradk, ord = 2)\n",
    "        \n",
    "        OF_iter[i] = least_sq_ridge(beta_batch, X, Y, rho)\n",
    "        tol_iterB[i] = tol\n",
    "    \n",
    "    mini_batch_time = time.time()-start\n",
    "    mini_batch_iterations = i\n",
    "    \n",
    "    return mini_batch_time, OF_iter[i], tol_iterB[i], beta_batch, mini_batch_iterations  "
   ]
  },
  {
   "cell_type": "code",
   "execution_count": 30,
   "metadata": {},
   "outputs": [],
   "source": [
    "mini_batch_time, ObjectiveF, Tolerance, beta_batch, mini_batch_iterations = mini_batch(batch = 50)"
   ]
  },
  {
   "cell_type": "code",
   "execution_count": 31,
   "metadata": {},
   "outputs": [
    {
     "data": {
      "text/plain": [
       "{'time': 0.5699477195739746,\n",
       " 'iterations': 1692,\n",
       " 'error': 2.9755740543298597e-07,\n",
       " 'objective function': 858.7456006006252,\n",
       " \"last iteration's tol\": 8.631710472239313e-05}"
      ]
     },
     "execution_count": 31,
     "metadata": {},
     "output_type": "execute_result"
    }
   ],
   "source": [
    "mini_batch_sum = {'time': mini_batch_time, 'iterations':mini_batch_iterations, 'error': error_value(beta_batch),\n",
    "              'objective function': ObjectiveF, \"last iteration's tol\": Tolerance  }\n",
    "mini_batch_sum"
   ]
  },
  {
   "cell_type": "markdown",
   "metadata": {},
   "source": [
    "**Changing the batch size**\n",
    "\n",
    "Now, we will compare the behaviour of the mini-batch coordinated descent as we vary the batch size from 1 to b components (number of coeeficients of $\\beta$). We will take into consideration the time and number of iterations it takes to reach a specified tolerance level.   "
   ]
  },
  {
   "cell_type": "code",
   "execution_count": 32,
   "metadata": {},
   "outputs": [],
   "source": [
    "# batch size parameters\n",
    "maxi = 2*b\n",
    "step = 10\n",
    "time_ellapsed = np.zeros(len(range(5,maxi,step)))\n",
    "iterations = np.zeros(len(range(5,maxi,step)))\n",
    "obj_fun = np.zeros(len(range(5,maxi,step)))\n",
    "error = np.zeros(len(range(5,maxi,step)))\n",
    "\n",
    "# repetition parameters\n",
    "r = 10\n",
    "time_iter = np.zeros(r)\n",
    "iterations_iter = np.zeros(r)\n",
    "obj_fun_iter = np.zeros(r)\n",
    "\n",
    "i = 0\n",
    "for size in range(5,maxi,step):\n",
    "    for j in range(0,r):\n",
    "        time_iter[j], obj_fun_iter[j], tol_iterCG, beta_batch, iterations_iter[j] =  mini_batch(batch = size)\n",
    "    \n",
    "    time_ellapsed[i] = np.mean(time_iter)\n",
    "    iterations[i] = np.mean(iterations_iter)\n",
    "    obj_fun[i] = np.mean(obj_fun_iter)\n",
    "    i = i+1"
   ]
  },
  {
   "cell_type": "code",
   "execution_count": 33,
   "metadata": {},
   "outputs": [
    {
     "data": {
      "text/plain": [
       "Text(0, 0.5, 'Objective function')"
      ]
     },
     "execution_count": 33,
     "metadata": {},
     "output_type": "execute_result"
    },
    {
     "data": {
      "image/png": "[encoded data removed]",
      "text/plain": [
       "<Figure size 720x720 with 3 Axes>"
      ]
     },
     "metadata": {
      "needs_background": "light"
     },
     "output_type": "display_data"
    }
   ],
   "source": [
    "fig, (ax1, ax2, ax3) = plt.subplots(3, sharex=True, figsize=(10,10))\n",
    "ax1.plot(list(range(5,maxi,step)),time_ellapsed) \n",
    "ax1.set_ylabel('Time [s]')\n",
    "ax2.plot(list(range(5,maxi,step)),iterations) \n",
    "ax2.set_ylabel('Number of Iterations')\n",
    "ax3.plot(list(range(5,maxi,step)),obj_fun) \n",
    "ax3.set_ylabel('Objective function')"
   ]
  },
  {
   "cell_type": "markdown",
   "metadata": {},
   "source": [
    "From the graphs we can see that the optimal batch size is to choose all of the columns of the matrix at the same time (batch size = number of predictors), which actually translates to the normal gradient descent method. \n",
    "\n",
    "Although it is not very clear since the variation of the results are high, we can observe an increasing trend after the batch size passes batch = 100. And what we can see very clearly is that for values lower than 50 the time and the iterations number is very long. \n",
    "\n",
    "If we were to choose only one attribute (k=1), then we go back to the case of the coordinate descent, which we can observe to be the least efficient one.\n",
    "\n",
    "It is iteresting to note that we can even choose a batch size larger than the number of coefficients, but this does not translate into a faster convergence. Although the objective function reaches a plateau and does not get any smaller. \n",
    "\n",
    "Maybe in the case of having thousends of coefficients ($\\beta_p$) we could expect to see the increase of the bacth size translated into more computation time, and thus lower efficiency. But in our example, we see that the number of parameters is not big enough to consider these kinds of techniques."
   ]
  },
  {
   "cell_type": "markdown",
   "metadata": {},
   "source": [
    "**Mini-batch gradient with momentum**\n",
    "\n",
    "The mini-batch gradient descent with momentum adds speed to the last iterations, when the algorithm is getting closer to the solution, since it considers the last iteration's gradient value."
   ]
  },
  {
   "cell_type": "code",
   "execution_count": 44,
   "metadata": {},
   "outputs": [],
   "source": [
    "def momentum_batch(alpha=1e-5, n_iter= 50000, tol=100, eps=1e-4, batch = 100, eta = 0.8):\n",
    "\n",
    "    # initializing values\n",
    "    (a,b)=X.shape\n",
    "    beta_mbatch = np.zeros(b)\n",
    "    OF_iter = np.zeros(n_iter)\n",
    "    tol_iterMB = np.zeros(n_iter)\n",
    "    \n",
    "    start = time.time()\n",
    "    \n",
    "    i = 0\n",
    "    gradk = 0\n",
    "    while (i <= n_iter-2) and (tol > eps):\n",
    "        i=i+1\n",
    "        \n",
    "        # randomly selecting the index to choose for the method\n",
    "        k = np.random.randint(0,b,batch)\n",
    "        gradk = gradient_coord(beta_mbatch,k,X,Y, rho) + eta*gradk\n",
    "        \n",
    "        beta_mbatch = beta_mbatch - gradk * alpha\n",
    "        tol = LA.norm(gradk, ord = 2)\n",
    "        \n",
    "        OF_iter[i] = least_sq_ridge(beta_mbatch, X, Y, rho)\n",
    "        tol_iterMB[i] = tol\n",
    "    \n",
    "    momentum_batch_time = time.time()-start\n",
    "    momentum_batch_iterations = i\n",
    "    \n",
    "    return momentum_batch_time, OF_iter[i], tol_iterMB[i], beta_mbatch, momentum_batch_iterations  "
   ]
  },
  {
   "cell_type": "code",
   "execution_count": 45,
   "metadata": {},
   "outputs": [],
   "source": [
    "momentum_batch_time, ObjectiveF, Tolerance, beta_mbatch, momentum_batch_iterations  = momentum_batch(alpha=1e-5, n_iter= 50000, tol=100, eps=1e-4, batch = 50, eta = 0.1)"
   ]
  },
  {
   "cell_type": "code",
   "execution_count": 46,
   "metadata": {},
   "outputs": [
    {
     "data": {
      "text/plain": [
       "{'time': 0.7195923328399658,\n",
       " 'iterations': 1540,\n",
       " 'error': 5.849826107888017e-07,\n",
       " 'objective function': 858.7456379727515,\n",
       " \"last iteration's tol\": 8.914436965045366e-05}"
      ]
     },
     "execution_count": 46,
     "metadata": {},
     "output_type": "execute_result"
    }
   ],
   "source": [
    "momentum_batch_sum = {'time': momentum_batch_time, 'iterations': momentum_batch_iterations, 'error': error_value(beta_mbatch),\n",
    "              'objective function': ObjectiveF, \"last iteration's tol\": Tolerance  }\n",
    "momentum_batch_sum"
   ]
  },
  {
   "cell_type": "markdown",
   "metadata": {},
   "source": [
    "Below we can see a summary table with all the recorded parameters from the three different methods studied in section d.)"
   ]
  },
  {
   "cell_type": "code",
   "execution_count": 47,
   "metadata": {},
   "outputs": [
    {
     "data": {
      "text/html": [
       "<div>\n",
       "<style scoped>\n",
       "    .dataframe tbody tr th:only-of-type {\n",
       "        vertical-align: middle;\n",
       "    }\n",
       "\n",
       "    .dataframe tbody tr th {\n",
       "        vertical-align: top;\n",
       "    }\n",
       "\n",
       "    .dataframe thead th {\n",
       "        text-align: right;\n",
       "    }\n",
       "</style>\n",
       "<table border=\"1\" class=\"dataframe\">\n",
       "  <thead>\n",
       "    <tr style=\"text-align: right;\">\n",
       "      <th></th>\n",
       "      <th>Coordinate Descent</th>\n",
       "      <th>Mini-Batch Descent</th>\n",
       "      <th>Momentum-Batch Descent</th>\n",
       "    </tr>\n",
       "  </thead>\n",
       "  <tbody>\n",
       "    <tr>\n",
       "      <td>time</td>\n",
       "      <td>0.65003</td>\n",
       "      <td>0.56995</td>\n",
       "      <td>0.71959</td>\n",
       "    </tr>\n",
       "    <tr>\n",
       "      <td>iterations</td>\n",
       "      <td>3732.00000</td>\n",
       "      <td>1692.00000</td>\n",
       "      <td>1540.00000</td>\n",
       "    </tr>\n",
       "    <tr>\n",
       "      <td>error</td>\n",
       "      <td>0.03502</td>\n",
       "      <td>0.00000</td>\n",
       "      <td>0.00000</td>\n",
       "    </tr>\n",
       "    <tr>\n",
       "      <td>objective function</td>\n",
       "      <td>1825.34802</td>\n",
       "      <td>858.74560</td>\n",
       "      <td>858.74564</td>\n",
       "    </tr>\n",
       "    <tr>\n",
       "      <td>last iteration's tol</td>\n",
       "      <td>0.00009</td>\n",
       "      <td>0.00009</td>\n",
       "      <td>0.00009</td>\n",
       "    </tr>\n",
       "  </tbody>\n",
       "</table>\n",
       "</div>"
      ],
      "text/plain": [
       "                      Coordinate Descent  Mini-Batch Descent  \\\n",
       "time                             0.65003             0.56995   \n",
       "iterations                    3732.00000          1692.00000   \n",
       "error                            0.03502             0.00000   \n",
       "objective function            1825.34802           858.74560   \n",
       "last iteration's tol             0.00009             0.00009   \n",
       "\n",
       "                      Momentum-Batch Descent  \n",
       "time                                 0.71959  \n",
       "iterations                        1540.00000  \n",
       "error                                0.00000  \n",
       "objective function                 858.74564  \n",
       "last iteration's tol                 0.00009  "
      ]
     },
     "execution_count": 47,
     "metadata": {},
     "output_type": "execute_result"
    }
   ],
   "source": [
    "summary_d = {'Coordinate Descent': coord_grad_sum, 'Mini-Batch Descent': mini_batch_sum, 'Momentum-Batch Descent': momentum_batch_sum }\n",
    "pd.DataFrame.from_dict(summary_d).round(5)"
   ]
  },
  {
   "cell_type": "markdown",
   "metadata": {},
   "source": [
    "We can see that the  mini-batch  is the fastest of these, and the one that requires the lowest iterations is the mini-batch with momentum. Both the Mini-Batch without and with momentum approach very much to the objective function value obtained with the analytical solution. \n",
    "\n",
    "The Mini-Batch Descent with batch-size = 1 becomes simply the Coordinate Descent, and when the batch size becomes equal to the size of the parameters, this is just the normal gradient descent. \n",
    "\n",
    "We can see that the momentum efficiently helps the algorithm to get faster to the solution since it takes into consideration the last iteration's result. But in the contrary, we must now take into consideration the parameter $\\eta$ that will have an influence in the total number of iterations we will obtain. "
   ]
  },
  {
   "cell_type": "markdown",
   "metadata": {},
   "source": [
    "### Conclusion\n",
    "\n",
    "To conclude, we have shown through the report different kinds of solvers and methods to reach an optimum value, in this case minimize the ridge regression equation in order to approximate the coefficients to their treu values. \n",
    "\n",
    "We have seen that there are some very fast methods but more computationally expensive, like the newton's method. And there are other methods which are computationally simpler but take longer time to reach a convergence value, like for example the coordinate descent method. \n",
    "\n",
    "We must always keep in mind the type of problem we are facing to choose the better solver, since if we are dealing with a small sample size, and it will not be that computationally heavy to perform, we could confortably pick the newton's method. But if we're working with big data sets, the most suitable option would be to pick the mini-batch descent method. \n",
    "\n",
    "Overall, this assignment has helped understand and comprehend the different kinds of algortihms to minimize or maximize a certain function and that they could be applied to thausends of applications in every field."
   ]
  }
 ],
 "metadata": {
  "kernelspec": {
   "display_name": "Python [conda env:root] *",
   "language": "python",
   "name": "conda-root-py"
  },
  "language_info": {
   "codemirror_mode": {
    "name": "ipython",
    "version": 3
   },
   "file_extension": ".py",
   "mimetype": "text/x-python",
   "name": "python",
   "nbconvert_exporter": "python",
   "pygments_lexer": "ipython3",
   "version": "3.7.4"
  }
 },
 "nbformat": 4,
 "nbformat_minor": 4
}
